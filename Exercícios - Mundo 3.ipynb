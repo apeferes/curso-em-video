{
 "cells": [
  {
   "cell_type": "markdown",
   "metadata": {},
   "source": [
    "# Aula 16 - Tuplas"
   ]
  },
  {
   "cell_type": "markdown",
   "metadata": {},
   "source": [
    "EXERCICIO 072 - Crie um programa que tenha uma tupla totalmente preenchida com uma contagem por extenso, de zero até vinte.\n",
    "Seu programa deverá ler um número pelo teclado (entre 0 a 20) e mostrá-lo por extenso."
   ]
  },
  {
   "cell_type": "code",
   "execution_count": null,
   "metadata": {},
   "outputs": [],
   "source": [
    "numero = ('zero', 'um', 'dois', 'tres', 'quatro', 'cinco', 'seis', 'sete', 'oito', 'nove', 'dez', 'onze', 'doze', 'treze', 'quatorze', 'quinze', 'dezesseis', 'dezessete', 'dezoito', 'dezenove', 'vinte')\n",
    "\n",
    "while True:\n",
    "    escolhido = int(input('Digite um número entre 0 e 20'))\n",
    "    if escolhido < 0 or escolhido > 20:\n",
    "        print('Tente novamente. Digite um número entre 0 e 20:')\n",
    "    else:\n",
    "        print(f'Você digitou o número {numero[escolhido]}.')\n",
    "        sn = str(input('Você quer continuar? [S/N]')).strip().upper()[0]\n",
    "        if sn == 'N':\n",
    "            break"
   ]
  },
  {
   "cell_type": "code",
   "execution_count": null,
   "metadata": {},
   "outputs": [],
   "source": [
    "cont = ('zero', 'um', 'dois', 'tres', 'quatro', 'cinco', 'seis', 'sete', 'oito', 'nove', 'dez', 'onze', 'doze', 'treze', 'quatorze', 'quinze', 'dezesseis', 'dezessete', 'dezoito', 'dezenove', 'vinte')\n",
    "\n",
    "while True:\n",
    "    num = int(input('Digite um número entre 0 e 20'))\n",
    "    if 0 <= num <= 20:\n",
    "        break\n",
    "    print('Tente novamente. ', end='')\n",
    "\n",
    "print(f'Você digitou o número {cont[num]}')"
   ]
  },
  {
   "cell_type": "markdown",
   "metadata": {},
   "source": [
    "EXERCICIO 073 - Crie uma tupla preenchida com os 20 primeiros colocados da Tabela do Campeonato Brasileiro de Futebol, na ordem de colocação. Depois mostre:\n",
    "A) Apenas os 5 primeiros colocados\n",
    "B) Os últimos 4 colocados da tabela\n",
    "C) Uma lista com os times em ordem alfabética\n",
    "D) Em que posição na tabela está o tome Chapecoense"
   ]
  },
  {
   "cell_type": "code",
   "execution_count": null,
   "metadata": {},
   "outputs": [],
   "source": [
    "tabela_brasileirao_2021 = (\n",
    "    'Flamengo', 'Atlético Mineiro', 'Palmeiras', 'Fortaleza', 'Bragantino',\n",
    "    'Athletico Paranaense', 'Ceará', 'Santos', 'Corinthians', 'Internacional',\n",
    "    'Bahia', 'Juventude', 'São Paulo', 'Cuiabá', 'América Mineiro', 'Fluminense',\n",
    "    'Grêmio', 'Sport Recife', 'Chapecoense', 'América de Natal'\n",
    ")\n",
    "\n",
    "print(f'Lista de times do Brasileirão de 2021: {tabela_brasileirao_2021}')\n",
    "print(f'Os 5 primeiros são {tabela_brasileirao_2021[:5]}')\n",
    "print(f'Os 4 últimos são {tabela_brasileirao_2021[-4:]}')\n",
    "print(f'Times em ordem alfabética {sorted(tabela_brasileirao_2021)}')\n",
    "print(f'O Chapecoense está na {tabela_brasileirao_2021.index(\"Chapecoense\")+1}a posição')"
   ]
  },
  {
   "cell_type": "markdown",
   "metadata": {},
   "source": [
    "EXERCICIO 074 - Crie um programa que vai gerar cinco números aleatórios e colocar em uma tupla.\n",
    "Depois disso, motre a listagem de números gerados e també indique o menor e o maior valor que estão na tupla."
   ]
  },
  {
   "cell_type": "code",
   "execution_count": null,
   "metadata": {},
   "outputs": [],
   "source": [
    "from random import randint\n",
    "\n",
    "tupla_numeros_aleatorios = tuple(random.randint(1, 10) for _ in range(5))\n",
    "print(f'Os valores sorteados foram {tupla_numeros_aleatorios}')\n",
    "\n",
    "maior_numero = max (tupla_numeros_aleatorios)\n",
    "menor_numero = min (tupla_numeros_aleatorios)\n",
    "\n",
    "print(f'O maior número sorteado foi {maior_numero}')\n",
    "print(f'O menor número sorteado foi {menor_numero}')"
   ]
  },
  {
   "cell_type": "code",
   "execution_count": null,
   "metadata": {},
   "outputs": [],
   "source": [
    "from random import randint\n",
    "\n",
    "numeros = (randint(1, 10), randint(1, 10), randint(1, 10), randint(1, 10), randint(1, 10))\n",
    "\n",
    "print('Os valores sorteados foram: ', end='')\n",
    "for n in numeros:\n",
    "    print(f'{n} ', end='')\n",
    "    \n",
    "print(f'\\nO maior valor sorteado foi {max(numeros)}')\n",
    "print(f'O menor valor sorteado foi {min(numeros)}')"
   ]
  },
  {
   "cell_type": "markdown",
   "metadata": {},
   "source": [
    "EXERCICIO 075 - Desenvolva um programa que leia quatro valores pelo teclado e guarde-os em uma tupla. No final, mostre:\n",
    "A) Quantas vezes apareceu o valor 9.\n",
    "B) Em que posição foi digitado o primeiro valor 3.\n",
    "C) Quais foram os números pare."
   ]
  },
  {
   "cell_type": "code",
   "execution_count": null,
   "metadata": {},
   "outputs": [],
   "source": [
    "num1 = int(input('Digite um número'))\n",
    "num2 = int(input('Digite outro número'))\n",
    "num3 = int(input('Digite mais um número'))\n",
    "num4 = int(input('Digite o último número'))\n",
    "\n",
    "tupla = (num1, num2, num3, num4)\n",
    "\n",
    "ntup = ()\n",
    "for n in tupla:\n",
    "    if n % 2 == 0:\n",
    "        ntup += (n,)\n",
    "\n",
    "print(f'Você digitou os valores {tupla}')\n",
    "print(f'O número 9 apareceu {tupla.count(9)} vezes')\n",
    "\n",
    "if tupla.count(3) == 0:\n",
    "    print('O valor 3 não foi digitado em nenhuma posição')\n",
    "else:\n",
    "    print(f'O valor 3 apareceu na {tupla.index(3)+1}a posição')\n",
    "\n",
    "print(f'Os valores pares digitados foram {ntup}')"
   ]
  },
  {
   "cell_type": "code",
   "execution_count": null,
   "metadata": {},
   "outputs": [],
   "source": [
    "num = (int(input('Digite um número')),\n",
    "    int(input('Digite outro número')),\n",
    "    int(input('Digite mais um número')),\n",
    "    int(input('Digite o último número')))\n",
    "print(f'Você digitou os valores {num}')\n",
    "\n",
    "print(f'O número 9 apareceu {num.count(9)} vezes')\n",
    "\n",
    "if 3 in num:\n",
    "    print(f'O valor 3 apareceu na {num.index(3)+1}a posição')\n",
    "else:\n",
    "    print('O valor 3 não foi digitado em nenhuma posição')\n",
    "    \n",
    "print('Os valores pares digitados foram', end=' ')\n",
    "for n in num:\n",
    "    if n % 2 == 0:\n",
    "        print(n, end=' ')"
   ]
  },
  {
   "cell_type": "markdown",
   "metadata": {},
   "source": [
    "EXERCICIO 076 - Crie um programa que tenha uma tupla única com nomes de produtos e seus respectivos preços, na sequência.\n",
    "No final, mostre uma listagem de preços, organizando os dados em forma tabular."
   ]
  },
  {
   "cell_type": "code",
   "execution_count": null,
   "metadata": {},
   "outputs": [],
   "source": [
    "tupla = (\n",
    "    'Lápis', 1.75,\n",
    "    'Borracha', 2,\n",
    "    'Caderno', 15.9,\n",
    "    'Estojo', 25,\n",
    "    'Transferidor', 4.2,\n",
    "    'Compasso', 9.99,\n",
    "    'Mochila', 120.32,\n",
    "    'Canetas', 22.3,\n",
    "    'Livro', 34.9\n",
    "    )\n",
    "\n",
    "print('-'* 40)\n",
    "print(f'LISTAGEM DE PREÇOS')\n",
    "print('-'* 40)\n",
    "\n",
    "for pos in range(0, len(tupla)):\n",
    "    if pos %2 == 0:\n",
    "        print(f'{tupla[pos]:.<30}', end='')\n",
    "    else:\n",
    "        print(f'R${tupla[pos]:>7.2f}')\n",
    "\n",
    "print('-'* 40)"
   ]
  },
  {
   "cell_type": "markdown",
   "metadata": {},
   "source": [
    "EXERCICIO 077 - Crie um programa que tenha uma tupla com várias palavras (não usar acentos). Depois disso, você deve mostrar, para cada palavra, quais são as suas vogais."
   ]
  },
  {
   "cell_type": "code",
   "execution_count": null,
   "metadata": {},
   "outputs": [],
   "source": [
    "palavras = (\n",
    "    \"gato\", \"cachorro\", \"banana\", \"manga\", \"carro\",\n",
    "    \"livro\", \"bicicleta\", \"telefone\", \"computador\", \"cadeira\"\n",
    ")\n",
    "\n",
    "for p in palavras:\n",
    "    print(f'\\nNa palavra {p.upper()} temos ', end='')\n",
    "    for letra in p:\n",
    "        if letra.lower() in 'aeiou':\n",
    "            print(letra, end=' ')"
   ]
  },
  {
   "cell_type": "markdown",
   "metadata": {},
   "source": [
    "# Aula 17"
   ]
  },
  {
   "cell_type": "markdown",
   "metadata": {},
   "source": [
    "Exercício 078: Faça um programa que leia 5 valores numéricos e guarde-os em uma lista.\n",
    "No final, mostre qual foi o maior e o menor valor digitado e as suas respectivas posições na lista."
   ]
  },
  {
   "cell_type": "code",
   "execution_count": null,
   "metadata": {},
   "outputs": [],
   "source": [
    "# from random import randint\n",
    "# valor = list(randint(0,100) for _ in range(5))\n",
    "\n",
    "# for c in range(5):\n",
    "#     valor = int(input(f'Digite um valor para a Posição {i+1}'))\n",
    "\n",
    "valor = (int(input('Digite um valor para a Posição 0')),\n",
    "    int(input('Digite um valor para a Posição 1')),\n",
    "    int(input('Digite um valor para a Posição 2')),\n",
    "    int(input('Digite um valor para a Posição 3')),\n",
    "    int(input('Digite um valor para a Posição 4')))\n",
    "\n",
    "print(f'Você digitou os valores {valor}')\n",
    "\n",
    "for c, v in enumerate(valor):\n",
    "    if c == 0:\n",
    "        cmin = cmax = c\n",
    "        vmin = vmax = v\n",
    "    \n",
    "    if v < vmin:\n",
    "        cmin = c\n",
    "        vmin = v\n",
    "    if v > vmax:\n",
    "        cmax = c\n",
    "        vmax = v\n",
    "\n",
    "print(f'O maior valor digitado foi {vmax} na posição {cmax}...')\n",
    "print(f'O menor valor digitado foi {vmin} na posição {cmin}...')"
   ]
  },
  {
   "cell_type": "code",
   "execution_count": null,
   "metadata": {},
   "outputs": [],
   "source": [
    "listanum = []\n",
    "for c in range (5):\n",
    "    listanum.append(int(input(f'Digite um valor para a Posição {c}: ')))\n",
    "    if c == 0:\n",
    "        mai = men = listanum[c]\n",
    "    else:\n",
    "        if listanum[c] > mai:\n",
    "            mai = listanum[c]\n",
    "        if listanum [c] < men:\n",
    "            men = listanum[c]\n",
    "        \n",
    "print('-='* 30)\n",
    "print(f'Você digitou os valors {listanum}')\n",
    "print(f'O maior valor digitado foi {mai} nas posições ', end='')\n",
    "for i, v in enumerate(listanum):\n",
    "    if v == mai:\n",
    "        print(f'{i}...')\n",
    "print(f'O menor valor digitado foi {men} nas posições ', end='')\n",
    "for i, v in enumerate(listanum):\n",
    "    if v == men:\n",
    "        print(f'{i}...')"
   ]
  },
  {
   "cell_type": "markdown",
   "metadata": {},
   "source": [
    "Exercício 079: Crie um programa onde o usuário possa digitar vários valores numéricos e cadastre-os em uma lista. Caso o número já exista lá dentro, ele não será adicionado.\n",
    "No final, serão exibidos todos os valores únicos digitados em ordem crescente."
   ]
  },
  {
   "cell_type": "code",
   "execution_count": null,
   "metadata": {},
   "outputs": [],
   "source": [
    "valores = list()\n",
    "sn = 'S'\n",
    "\n",
    "while sn == 'S':\n",
    "    inserir = int(input('Digite um valor:'))\n",
    "    if inserir in valores:\n",
    "        print('Valor Duplicado! Não vou adicionar')\n",
    "    else:\n",
    "        valores.append(inserir)\n",
    "    sn = str(input('Quer continuar? [S/N]')).strip().upper()[0]\n",
    "\n",
    "valores.sort()\n",
    "print('-=' * 20)\n",
    "print(f'Você digitou os valores {valores}')"
   ]
  },
  {
   "cell_type": "code",
   "execution_count": null,
   "metadata": {},
   "outputs": [],
   "source": [
    "numeros = list()\n",
    "\n",
    "while True:\n",
    "    n = int(input('Digite um valor:'))\n",
    "    if n not in numeros:\n",
    "        numeros.append(n)\n",
    "        print('Valor adicionado com sucesso...')\n",
    "    else:\n",
    "        print('Valor duplicado! Não vou adicionar...')\n",
    "    r = str(input('Quer continuar? [S/N]'))\n",
    "    if r in 'Nn':\n",
    "        break\n",
    "    \n",
    "print('-=' *30)\n",
    "numeros.sort()\n",
    "print('Você digitou os valores ', numeros)"
   ]
  },
  {
   "cell_type": "markdown",
   "metadata": {},
   "source": [
    "Exercício 080: Crie um programa onde o usuário possa digitar cinco valores numéricos e cadastre-os em uma lista, já na posição correta de inserção (sem usar o sort()).\n",
    "No final, mostre a lista ordenada na tela."
   ]
  },
  {
   "cell_type": "code",
   "execution_count": null,
   "metadata": {},
   "outputs": [],
   "source": [
    "lista = []\n",
    "\n",
    "for i in range(5):\n",
    "    valor = int(input(f\"Digite o {i+1}º valor numérico: \"))\n",
    "    \n",
    "    # Encontrando a posição correta de inserção na lista\n",
    "    posicao = 0\n",
    "    while posicao < len(lista) and valor > lista[posicao]:\n",
    "        posicao += 1\n",
    "\n",
    "    # Inserindo o valor na posição correta\n",
    "    lista.insert(posicao, valor)\n",
    "    print(f'O {i+1}º valor {valor} adicionado na posição {posicao} da lista...')\n",
    "\n",
    "print(\"Os números digitados em ordem foram:\", lista)"
   ]
  },
  {
   "cell_type": "code",
   "execution_count": null,
   "metadata": {},
   "outputs": [],
   "source": [
    "lista = []\n",
    "for c in range (5):\n",
    "    n = int(input('Digite um número: '))\n",
    "    if c == 0 or n > lista[-1]:\n",
    "        lista.append(n)\n",
    "        print('Adicionado ao final da lista...')\n",
    "    else:\n",
    "        pos = 0\n",
    "        while pos < len(lista):\n",
    "            if n <= lista[pos]:\n",
    "                lista.insert(pos, n)\n",
    "                print(f'Adicionado na posição {pos} da lista')\n",
    "                break\n",
    "            pos += 1\n",
    "\n",
    "print('-=' * 30)\n",
    "print(f'Os valores digitados em ordem foram {lista}')"
   ]
  },
  {
   "cell_type": "markdown",
   "metadata": {},
   "source": [
    "Exercício 081: Crie um programa que vai ler vários números e colocar em uma lista.\n",
    "Depois disso, mostre:\n",
    "A) Quantos números foram digitados.\n",
    "B) A lista de valores ordenada de forma decrescente.\n",
    "C) Se o valor 5 foi digitado e está ou não na lista."
   ]
  },
  {
   "cell_type": "code",
   "execution_count": null,
   "metadata": {},
   "outputs": [],
   "source": [
    "lista = []\n",
    "\n",
    "while True:\n",
    "    valor = int(input('Digite um valor:'))\n",
    "    lista.append(valor)\n",
    "    sn = str(input('Quer continuar? [S/N]')).strip().upper()[0]\n",
    "    if sn in 'nN':\n",
    "        break\n",
    "\n",
    "print(f'Você digitou {len(lista)} elementos.')\n",
    "lista.sort(reverse=True)\n",
    "print(f'Os valores em ordem decrescente são {lista}')\n",
    "if 5 in lista:\n",
    "    print('O valor 5 faz parte da lista!')\n",
    "else:\n",
    "    print('O valor 5 não foi encontrado na lista!')"
   ]
  },
  {
   "cell_type": "markdown",
   "metadata": {},
   "source": [
    "Exercício 082: Crie um programa que vai ler vários números e colocar em uma lista.\n",
    "Depois disso, crie duas listas extras que vão conter apenas os valores pares e os valores ímpares digitados, respectivamente.\n",
    "Ao final, mostre o conteúdo das três listas geradas."
   ]
  },
  {
   "cell_type": "code",
   "execution_count": null,
   "metadata": {},
   "outputs": [],
   "source": [
    "lista = []\n",
    "pares = []\n",
    "impares = []\n",
    "\n",
    "while True:\n",
    "    valor = int(input('Digite um valor:'))\n",
    "    lista.append(valor)\n",
    "    sn = str(input('Quer continuar? [S/N]')).strip().upper()[0]\n",
    "    if sn in 'nN':\n",
    "        break\n",
    "\n",
    "for n in lista:\n",
    "    if n % 2 == 0:\n",
    "        pares.append(n)\n",
    "    else:\n",
    "        impares.append(n)\n",
    "\n",
    "print('A lista completa é ', lista)\n",
    "print('A lista de pares é ', pares)\n",
    "print('A lista de ímpares é ', impares)\n"
   ]
  },
  {
   "cell_type": "markdown",
   "metadata": {},
   "source": [
    "Exercício 083: Crie um programa onde o usuário digite uma expressão qualquer que use parênteses. Seu aplicativo deverá analisar se a expressão passada está com os parênteses abertos e fechados na ordem correta."
   ]
  },
  {
   "cell_type": "code",
   "execution_count": null,
   "metadata": {},
   "outputs": [],
   "source": [
    "expressao = input(\"Digite a expressão com parênteses: \")\n",
    "\n",
    "pilha = []\n",
    "\n",
    "for caractere in expressao:\n",
    "    if caractere == '(':\n",
    "        pilha.append(caractere)\n",
    "    elif caractere == ')':\n",
    "        if not pilha:\n",
    "            print(\"Os parênteses estão na ordem incorreta.\")\n",
    "            break\n",
    "        pilha.pop()\n",
    "else:\n",
    "    if not pilha:\n",
    "        print(\"Os parênteses estão na ordem correta.\")\n",
    "    else:\n",
    "        print(\"Os parênteses estão na ordem incorreta.\")"
   ]
  },
  {
   "cell_type": "markdown",
   "metadata": {},
   "source": [
    "# AULA 18"
   ]
  },
  {
   "cell_type": "markdown",
   "metadata": {},
   "source": [
    "EXERCICIO 084: Faça um programa que leia nome e peso de várias pessoas, guardando tudo em uma lista. No final, mostre:\n",
    "A) Quantas pessoas foram cadastradas.\n",
    "B) Uma listagem com as pessoas mais pesadas.\n",
    "C) Uma listagem com as pessoas mais leves."
   ]
  },
  {
   "cell_type": "code",
   "execution_count": null,
   "metadata": {},
   "outputs": [],
   "source": [
    "pessoas = []\n",
    "dado = []\n",
    "tot = 0\n",
    "\n",
    "while True:\n",
    "    dado.append(str(input('Nome: ')))\n",
    "    dado.append(float(input('Peso: ')))\n",
    "    pessoas.append(dado[:])\n",
    "    dado.clear()\n",
    "    tot += 1\n",
    "    sn = str(input('Quer continuar? [S/N]')).strip().upper()[0]\n",
    "    if sn in 'nN':\n",
    "        break\n",
    "\n",
    "# print(pessoas)\n",
    "count = 0\n",
    "pessmax = []\n",
    "pessmin = []\n",
    "for p in pessoas:\n",
    "    if count == 0:\n",
    "        pesmax = pesmin = p[1]\n",
    "    if p[1] > pesmax:\n",
    "        pesmax = p[1]\n",
    "        pessmax.append(p[0])\n",
    "    if p[1] < pesmin:\n",
    "        pesmin = p[1]\n",
    "        pessmin.append(p[0])\n",
    "    count += 1\n",
    "\n",
    "print(f'Ao todo, você cadastrou {tot} pessoas.')\n",
    "print(f'O maior peso foi de {pesmax}Kg. Peso de {pessmax}')\n",
    "print(f'O menor peso foi de {pesmin}Kg. Peso de {pessmin}')"
   ]
  },
  {
   "cell_type": "code",
   "execution_count": null,
   "metadata": {},
   "outputs": [],
   "source": [
    "# RESPOSTA CURSO EM VÍDEO\n",
    "\n",
    "temp = []\n",
    "princ = []\n",
    "mai = men = 0\n",
    "while True:\n",
    "    temp.append(str(input('Nome:')))\n",
    "    temp.append(float(input('Peso:')))\n",
    "    if len(princ) == 0:\n",
    "        mai = men = temp[1]\n",
    "    else:\n",
    "        if temp[1] > mai:\n",
    "            mai = temp[1]\n",
    "        if temp[1] < men:\n",
    "            men = temp[1]\n",
    "    princ.append(temp[:])\n",
    "    temp.clear()\n",
    "    resp = str(input('Quer continuar? [S/N]'))\n",
    "    if resp in 'Nn':\n",
    "        break\n",
    "print('-=' *30)\n",
    "# print('Os dados foram', princ)\n",
    "print(f'Ao todo você cadastrou {len(princ)} pessoas.')\n",
    "print(f'O maior peso foi de {mai}Kg de ', end='')\n",
    "for p in princ:\n",
    "    if p[1] == mai:\n",
    "        print(f'[{p[0]}]', end='')\n",
    "print()\n",
    "print(f'O menor peso foi de {men}Kg. Peso de ', end='')\n",
    "for p in princ:\n",
    "    if p[1] == men:\n",
    "        print(f'[{p[0]}] ', end='')\n",
    "print()\n",
    "# NAO FUNCIONOU PRA MIM"
   ]
  },
  {
   "cell_type": "code",
   "execution_count": null,
   "metadata": {},
   "outputs": [],
   "source": [
    "# COPIEI DE UM COMENTÁRIO DO EXERCÍCIO\n",
    "\n",
    "pessoas = []\n",
    "while True:\n",
    "    nome = input('Nome da pessoa: ')\n",
    "    peso = float(input('Informe o peso em KG: '))\n",
    "    pessoas.append([nome,peso])\n",
    "    continua = input('Quer continuar? [S/N] ')\n",
    "    if continua in 'nN':\n",
    "        break\n",
    "\n",
    "peso_descrescente = sorted(pessoas, key=lambda p: p[1], reverse=True)\n",
    "maior_peso, menor_peso = peso_descrescente[0][1], peso_descrescente[-1][1]\n",
    "lista_maior_p = [pessoa[0] for pessoa in pessoas if pessoa[1] == maior_peso]\n",
    "lista_menor_p = [pessoa[0] for pessoa in pessoas if pessoa[1] == menor_peso]\n",
    "\n",
    "print('-='*25)\n",
    "print(f'Foram cadastradas {len(pessoas)} pessoas')\n",
    "print(f'O maior peso foi de {maior_peso} kg. Peso de {lista_maior_p}')\n",
    "print(f'O menor peso foi de {menor_peso} kg. Peso de {lista_menor_p}')"
   ]
  },
  {
   "cell_type": "markdown",
   "metadata": {},
   "source": [
    "EXERCICIO 085: Crie um programa onde o usuário possa digitar sete valores numéricos e cadastre-os em uma lista única que mantenha separados os valores pares e ímpares. No final, mostre os valores pares e ímpares em ordem crescente."
   ]
  },
  {
   "cell_type": "code",
   "execution_count": null,
   "metadata": {},
   "outputs": [],
   "source": [
    "# EM MAIS DE UMA LISTA\n",
    "\n",
    "pares = []\n",
    "impares = []\n",
    "dados = []\n",
    "\n",
    "for c in range(7):\n",
    "    dados.append(int(input(f'Digite o {c+1}o. valor:')))\n",
    "    if dados[0] % 2 == 0:\n",
    "        pares.append(dados[0])\n",
    "    else:\n",
    "        impares.append(dados[0])\n",
    "    dados.clear()\n",
    "\n",
    "pares.sort()\n",
    "impares.sort()\n",
    "print('Os valores pares digitados foram', pares)\n",
    "print('Os valores ímpares digitados foram', impares)"
   ]
  },
  {
   "cell_type": "code",
   "execution_count": null,
   "metadata": {},
   "outputs": [],
   "source": [
    "# EM UMA ÚNICA LISTA\n",
    "\n",
    "dados = []\n",
    "numeros = [],[]\n",
    "\n",
    "for c in range(7):\n",
    "    dados.append(int(input(f'Digite o {c+1}o. valor:')))\n",
    "    if dados[0] % 2 == 0:\n",
    "        numeros[0].append(dados[0])\n",
    "    else:\n",
    "        numeros[1].append(dados[0])\n",
    "    dados.clear()\n",
    "\n",
    "numeros[0].sort()\n",
    "numeros[1].sort()\n",
    "print('Os valores pares digitados foram', numeros[0])\n",
    "print('Os valores ímpares digitados foram', numeros[1])"
   ]
  },
  {
   "cell_type": "code",
   "execution_count": null,
   "metadata": {},
   "outputs": [],
   "source": [
    "# RESOLUÇÃO CURSO EM VÍDEO\n",
    "num = [], []\n",
    "valor = 0\n",
    "for c in range (1,8):\n",
    "    valor = int(input(f'Digite o {c}o. valor:'))\n",
    "    if valor % 2 == 0:\n",
    "        num[0].append(valor)\n",
    "    else:\n",
    "        num[1].append(valor)\n",
    "print('-=' * 30)\n",
    "num[0].sort()\n",
    "num[1].sort()\n",
    "print(f'Os valores pares digitados foram: {num[0]}')\n",
    "print(f'Os valores ímpares digitados foram: {num[1]}')"
   ]
  },
  {
   "cell_type": "markdown",
   "metadata": {},
   "source": [
    "EXERCICIO 086: Crie um programa que crie uma matriz de dimensão 3x3 e preencha com valores lidos pelo teclado.\n",
    "No final, mostre a matriz na tela, com formatação correta."
   ]
  },
  {
   "cell_type": "code",
   "execution_count": null,
   "metadata": {},
   "outputs": [],
   "source": [
    "dados = [],[],[]\n",
    "\n",
    "dados[0].append(int(input('Digite um valor para [0, 0]')))\n",
    "dados[0].append(int(input('Digite um valor para [0, 1]')))\n",
    "dados[0].append(int(input('Digite um valor para [0, 2]')))\n",
    "dados[1].append(int(input('Digite um valor para [1, 0]')))\n",
    "dados[1].append(int(input('Digite um valor para [1, 1]')))\n",
    "dados[1].append(int(input('Digite um valor para [1, 2]')))\n",
    "dados[2].append(int(input('Digite um valor para [2, 0]')))\n",
    "dados[2].append(int(input('Digite um valor para [2, 1]')))\n",
    "dados[2].append(int(input('Digite um valor para [2, 2]')))\n",
    "\n",
    "print('-=' *30)\n",
    "print(f'[ {dados[0][0]} ][ {dados[0][1]} ][ {dados[0][2]} ]')\n",
    "print(f'[ {dados[1][0]} ][ {dados[1][1]} ][ {dados[1][2]} ]')\n",
    "print(f'[ {dados[2][0]} ][ {dados[2][1]} ][ {dados[2][2]} ]')"
   ]
  },
  {
   "cell_type": "code",
   "execution_count": null,
   "metadata": {},
   "outputs": [],
   "source": [
    "# RESOLUÇÃO CURSO EM VÍDEO\n",
    "matriz = [[0, 0, 0], [0, 0, 0], [0, 0, 0]]\n",
    "for l in range (0, 3):\n",
    "    for c in range(0, 3):\n",
    "        matriz[l][c] = int(input(f'Digite um valor para [{l}, {c}]:'))\n",
    "print('-=' * 30)\n",
    "for l in range(0, 3):\n",
    "    for c in range(0, 3):\n",
    "        print(f'[{matriz[l][c]:5}]',end='')\n",
    "    print()"
   ]
  },
  {
   "cell_type": "markdown",
   "metadata": {},
   "source": [
    "EXERCICIO 087: Aprimore o desafio anterior mostrando no final:\n",
    "A) A soma de todos os valores pares digitados.\n",
    "B) A soma dos valores da terceira coluna.\n",
    "C) O maior valor da segunda linha."
   ]
  },
  {
   "cell_type": "code",
   "execution_count": null,
   "metadata": {},
   "outputs": [],
   "source": [
    "# RODAR EXERCICIO 086\n",
    "\n",
    "soma = soma3 = segmax = 0\n",
    "for a in dados[0]:\n",
    "    if a % 2 == 0:\n",
    "        soma += a\n",
    "for a in dados[1]:\n",
    "    if a % 2 == 0:\n",
    "        soma += a\n",
    "for a in dados[2]:\n",
    "    if a % 2 == 0:\n",
    "        soma += a\n",
    "\n",
    "for a in dados[2]:\n",
    "    soma3 += a\n",
    "\n",
    "for a in dados[1]:\n",
    "    if a > segmax:\n",
    "        segmax = a\n",
    "\n",
    "print('-=' *30)\n",
    "print(f'A soma dos valores pares é {soma}.')\n",
    "print(f'A soma dos valores da terceira coluna é {soma3}.')\n",
    "print(f'O maior valor da segunda linha é {segmax}.')"
   ]
  },
  {
   "cell_type": "code",
   "execution_count": null,
   "metadata": {},
   "outputs": [],
   "source": [
    "# RESOLUÇÃO CURSO EM VÍDEO\n",
    "\n",
    "matriz = [[0, 0, 0], [0, 0, 0], [0, 0, 0]]\n",
    "spar = mai = scol = 0\n",
    "\n",
    "for l in range (0, 3):\n",
    "    for c in range(0, 3):\n",
    "        matriz[l][c] = int(input(f'Digite um valor para [{l}, {c}]:'))\n",
    "print('-=' * 30)\n",
    "for l in range(0, 3):\n",
    "    for c in range(0, 3):\n",
    "        print(f'[{matriz[l][c]:5}]',end='')\n",
    "        if matriz[l][c] % 2 == 0:\n",
    "            spar += matriz[l][c]\n",
    "    print()\n",
    "\n",
    "print('-=' * 30)\n",
    "print(f'A soma dos valores pares é {spar}.')\n",
    "for l in range(0, 3):\n",
    "    scol += matriz[l][c]\n",
    "print(f'A soma dos valores da terceira coluna é {scol}.')\n",
    "for c in range(0, 3):\n",
    "    if c == 0:\n",
    "        mai = matriz[1][c]\n",
    "    elif matriz[1][c] > mai:\n",
    "        mai = matriz[1][c]\n",
    "print(f'O maior valor da segunda linha é {mai}.')\n"
   ]
  },
  {
   "cell_type": "markdown",
   "metadata": {},
   "source": [
    "EXERCICIO 088: Faça um programa que ajude um jogador da MEGA SENA a criar palpites. O programa vai perguntar quantos jogos serão gerados e vai sortear 6 números entre 1 e 60 para cada jogo, cadastrando tudo em uma lista composta."
   ]
  },
  {
   "cell_type": "code",
   "execution_count": null,
   "metadata": {},
   "outputs": [],
   "source": [
    "from random import randint\n",
    "from time import sleep\n",
    "print('-' *30)\n",
    "print('JOGO NA MEGA SENA')\n",
    "print('-' *30)\n",
    "\n",
    "qtde = int(input('Quantos jogos você quer que eu sorteie?'))\n",
    "print('Quantos jogos você quer que eu sorteie?', {qtde})\n",
    "for a in range(qtde):\n",
    "    jogo.clear()\n",
    "    jogo = list(randint(1, 60) for b in range(6))\n",
    "    jogo.sort()\n",
    "    print(f'Jogo {a+1}: {jogo}')\n",
    "    sleep(0.5)\n",
    "\n",
    "print('-=' * 5, '< BOA SORTE >', '-=' *5)"
   ]
  },
  {
   "cell_type": "code",
   "execution_count": null,
   "metadata": {},
   "outputs": [],
   "source": [
    "# RESOLUÇÃO CURSO EM VÍDEO\n",
    "\n",
    "from random import randint\n",
    "from time import sleep\n",
    "\n",
    "lista = list()\n",
    "jogos = list()\n",
    "print('-' * 30)\n",
    "print('     JOGA NA MEGA SENA     ')\n",
    "print('-' * 30)\n",
    "\n",
    "quant = int(input('Quantos jogos você quer que eu sorteie?'))\n",
    "tot = 1\n",
    "\n",
    "while tot <= quant:\n",
    "    cont = 0\n",
    "    while True:\n",
    "        num = randint(1, 60)\n",
    "        if num not in lista:\n",
    "            lista.append(num)\n",
    "            cont += 1\n",
    "        if cont >= 6:\n",
    "            break\n",
    "    lista.sort()\n",
    "    jogos.append(lista[:])\n",
    "    lista.clear()\n",
    "    tot += 1\n",
    "print('-=' * 2, f' SORTEANDO {quant} JOGOS ', '=-' * 2)\n",
    "for i, l in enumerate(jogos):\n",
    "    print(f'Jogo {i+1}: {l}')\n",
    "    sleep(0.5)\n",
    "print('-=' * 4, '< BOA SORTE >', '=-' * 4)\n",
    "\n"
   ]
  },
  {
   "cell_type": "markdown",
   "metadata": {},
   "source": [
    "EXERCICIO 089: Crie um programa que leia nome e duas notas de vários alunos e guarde tudo em uma lista composta. No final, mostre um boletim contendo a média de cada um e permita que o usuário possa mostrar as notas de cada aluno individualmente."
   ]
  },
  {
   "cell_type": "code",
   "execution_count": null,
   "metadata": {},
   "outputs": [],
   "source": [
    "# RESOLUÇÃO CURSO EM VÍDEO\n",
    "\n",
    "ficha = list()\n",
    "while True:\n",
    "    nome = str(input('Nome:'))\n",
    "    nota1 = float(input('Nota 1:'))\n",
    "    nota2 = float(input('Nota 2:'))\n",
    "    media = (nota1 + nota2) / 2\n",
    "    ficha.append([nome, [nota1, nota2], media])\n",
    "    resp = str(input('Quer continuar? [S/N]'))\n",
    "    if resp in 'nN':\n",
    "        break\n",
    "\n",
    "print('-=' * 30)\n",
    "print(f'{\"No.\":<4}{\"NOME\":<10}{\"MÉDIA\":>8}')\n",
    "print('-' * 26)\n",
    "for i, a in enumerate(ficha):\n",
    "    print(f'{i:<4}{a[0]:<10}{a[2]:>8.1f}')\n",
    "\n",
    "while True:\n",
    "    print('-' * 35)\n",
    "    opc = int(input('Mostrar notas de qual aluno? (999 interrompe:):'))\n",
    "    if opc == 999:\n",
    "        print('FINALIZANDO...')\n",
    "        break\n",
    "    if opc <= len(ficha) - 1:\n",
    "        print(f'Notas de {ficha[opc][0]} são {ficha[opc][1]}')\n",
    "print('<<< VOLTE SEMPRE >>>')"
   ]
  },
  {
   "cell_type": "markdown",
   "metadata": {},
   "source": [
    "# AULA 19"
   ]
  },
  {
   "cell_type": "markdown",
   "metadata": {},
   "source": [
    "EXERCICIO 90: Faça um programa que leia nome e média de um aluno, guardando também a situação em um dicionário. No final, mostre o conteúdo da estrutura na tela."
   ]
  },
  {
   "cell_type": "code",
   "execution_count": null,
   "metadata": {},
   "outputs": [],
   "source": [
    "# SEM DICIONÁRIO\n",
    "\n",
    "nome = str(input('Nome:'))\n",
    "media = float(input(f'Média de {nome}:'))\n",
    "\n",
    "if media < 7:\n",
    "    situacao = 'reprovado'\n",
    "else:\n",
    "    situacao = 'aprovado'\n",
    "\n",
    "print(f'Nome é igual a {nome}')\n",
    "print(f'Média é igual a {media:.1f}')\n",
    "print(f'Situação é igual a {situacao}')"
   ]
  },
  {
   "cell_type": "code",
   "execution_count": null,
   "metadata": {},
   "outputs": [],
   "source": [
    "# COM DICIONÁRIO\n",
    "\n",
    "alunos = {}\n",
    "\n",
    "alunos['nome'] = str(input('Nome:'))\n",
    "alunos['media'] = float(input(f'Média de {alunos[\"nome\"]}:'))\n",
    "\n",
    "if alunos['media'] >= 7:\n",
    "    alunos['situacao'] = 'Aprovado'\n",
    "elif alunos['media'] >= 5:\n",
    "    alunos['situacao'] = 'Recuperação'\n",
    "else:\n",
    "    alunos['situacao'] = 'Reprovado'\n",
    "\n",
    "print('-=' * 20)\n",
    "for k, v in alunos.items():\n",
    "    print(f'{k} é igual a {v}')\n",
    "\n",
    "# print(f'Nome é igual a {alunos[\"nome\"]}')\n",
    "# print(f'Média é igual a {alunos[\"media\"]:.1f}')\n",
    "# print(f'Situação é igual a {alunos[\"situacao\"]}')"
   ]
  },
  {
   "cell_type": "markdown",
   "metadata": {},
   "source": [
    "EXERCICIO 91: Crie um programa onde 4 jogadores joguem um dado e tenham resultados aleatórios. Guarde esses resultados em um dicionário. No final, coloque esse dicionário em ordem, sabendo que o vencedor tirou o maior número no dado."
   ]
  },
  {
   "cell_type": "code",
   "execution_count": null,
   "metadata": {},
   "outputs": [],
   "source": [
    "from random import randint\n",
    "from time import sleep\n",
    "from operator import itemgetter\n",
    "jogo = dict()\n",
    "ranking = list()\n",
    "\n",
    "for c in range(1, 5):\n",
    "    dado = randint(1,6)\n",
    "    jogo[f'jogador{c}'] = dado\n",
    "\n",
    "for k, v in jogo.items(): # aqui é items por que é um dicionário\n",
    "    print(f'O {k} tem valor {v}.')\n",
    "    sleep(0.5)\n",
    "\n",
    "ranking = sorted(jogo.items(), key=itemgetter(1), reverse=True)\n",
    "print('-=' * 20)\n",
    "print('== RANKING DOS JOGADORES ==')\n",
    "for i, v in enumerate(ranking): # aqui é enumerate por que é uma lista\n",
    "    print(f'{i+1}o. lugar: {v[0]} com {v[1]}.')\n",
    "    sleep(0.5)"
   ]
  },
  {
   "cell_type": "markdown",
   "metadata": {},
   "source": [
    "EXERCICIO 092: Crie um programa que leia nome, ano de nascimento e carteira de trabalho e cadastre-os (com idade) em um dicionário se por acaso a CTPS for diferente de ZERO, o dicionário receberá também o ano de contratação e o salário. Calcule e acrescente, além da idade, com quantos anos a pessoa vai se aposentar."
   ]
  },
  {
   "cell_type": "code",
   "execution_count": null,
   "metadata": {},
   "outputs": [],
   "source": [
    "from datetime import datetime\n",
    "dados = {}\n",
    "\n",
    "dados['nome'] = str(input('Nome:'))\n",
    "nasc = int(input('Ano de Nascimento:'))\n",
    "dados['idade'] = datetime.now().year - nasc\n",
    "dados['ctps'] = int(input('Carteira de Trabalho (0 não tem):'))\n",
    "\n",
    "if dados['ctps'] != 0:\n",
    "    dados['contratacao'] = int(input('Ano de contratação:'))\n",
    "    dados['salario'] = float(input('Salário: R$'))\n",
    "    dados['aposentadoria'] = dados['idade'] + ((dados['contratacao'] + 35) - datetime.now().year)\n",
    "\n",
    "print('-=' * 20)\n",
    "for k, v in dados.items():\n",
    "    print(f'  - {k} tem o valor {v}')"
   ]
  },
  {
   "cell_type": "markdown",
   "metadata": {},
   "source": [
    "EXERCICIO 093: Crie um programa que gerencie o aproveitamento de um jogador de futebol. O programa vai ler o nome do jogador e quantas partidas ele jogou. Depois vai ler a quantidade de gols feitos em cada partida. No final, tudo isso será guardado em um dicionário, incluindo o total de gols feitos durante o campeonato."
   ]
  },
  {
   "cell_type": "code",
   "execution_count": null,
   "metadata": {},
   "outputs": [],
   "source": [
    "dados = {}\n",
    "tot = 0\n",
    "partidas = []\n",
    "dados['nome'] = str(input('Nome do jogador:'))\n",
    "qtde = int(input(f'Quantas partidas {dados[\"nome\"]} jogou?'))\n",
    "for c in range(qtde):\n",
    "    # gols = int(input(f'Quantos gols na partida {c}?'))\n",
    "    # partidas.append(gols)\n",
    "    partidas.append(int(input(f'Quantos gols na partida {c}?')))\n",
    "    \n",
    "dados['gols'] = partidas\n",
    "dados['total'] = sum(partidas)\n",
    "print(dados)\n",
    "\n",
    "print('-=' * 20)\n",
    "\n",
    "for k, i in dados.items():\n",
    "    print(f'O campo {k} tem o valor {i}')\n",
    "\n",
    "print('-=' * 20)\n",
    "\n",
    "print(f'O jogador {dados[\"nome\"]} jogou {len(dados[\"gols\"])} partidas.')\n",
    "\n",
    "for i, v in enumerate(dados['gols']):\n",
    "    print(f'     => Na partida {i}, fez {v} gols.')\n",
    "print(f'Foi um total de {dados[\"total\"]} gols.')"
   ]
  },
  {
   "cell_type": "markdown",
   "metadata": {},
   "source": [
    "EXERCICIO 094: Crie um programa q ue leia nome, sexo e idade de várias pessoas, guardando os dados de cada pessoa em um dicionário e todos os dicionários em uma lista. No final, mostre:\n",
    "A) Quantas pessoas foram cadastradas.\n",
    "B) A média de idade do grupo.\n",
    "C) Uma lista com todas as mulheres.\n",
    "D) Uma lista com todas as pssoas acima da média."
   ]
  },
  {
   "cell_type": "code",
   "execution_count": null,
   "metadata": {},
   "outputs": [],
   "source": [
    "galera = list()\n",
    "pessoa = dict()\n",
    "soma = media = 0\n",
    "\n",
    "while True:\n",
    "    pessoa.clear()\n",
    "    pessoa['nome'] = str(input('Nome:'))\n",
    "    while True:\n",
    "        pessoa['sexo'] = str(input('Sexo: [M/F]')).upper()[0]\n",
    "        if pessoa['sexo'] in 'MF':\n",
    "            break\n",
    "        print('ERRO! Por favor, digite apenas M ou F.')\n",
    "    pessoa['idade'] = int(input('Idade:'))\n",
    "    soma += pessoa['idade']\n",
    "    galera.append(pessoa.copy())\n",
    "    while True:\n",
    "        resp = str(input('Quer continuar [S/N]')).upper()[0]\n",
    "        if resp in 'SN':\n",
    "            break\n",
    "        print('ERRO! Responda apenas S ou N.')\n",
    "    if resp == 'N':\n",
    "        break\n",
    "\n",
    "print('-=' * 20)\n",
    "print(f'A) Ao todo temos {len(galera)} pessoas cadastradas.')\n",
    "media = soma / len(galera)\n",
    "print(f'B) A média de idade é de {media:5.2f} anos.')\n",
    "print(f'C) As mulheres cadasradas foram ',end='')\n",
    "for p in galera:\n",
    "    if p['sexo'] in 'F':\n",
    "        print(f'{p[\"nome\"]} ', end='')\n",
    "print()\n",
    "print('D) Lista das pessoas que estão acima da média: ')\n",
    "for p in galera:\n",
    "    if p['idade'] >= media:\n",
    "        print('     ', end='')\n",
    "        for k, v in p.items():\n",
    "            print(f'{k} = {v}; ', end='')\n",
    "        print()\n",
    "print('<< ENCERRADO >>')"
   ]
  },
  {
   "cell_type": "markdown",
   "metadata": {},
   "source": [
    "EXERCICIO 095: Aprimore o DESAFIO 093 para que ele funcione com vários jogadores, incluindo um sistema de visualização de detalhes do aproveitamento de cada jogador."
   ]
  },
  {
   "cell_type": "code",
   "execution_count": null,
   "metadata": {},
   "outputs": [],
   "source": [
    "time = list()\n",
    "jogador = {}\n",
    "partidas = []\n",
    "\n",
    "while True:\n",
    "    jogador.clear()\n",
    "    partidas.clear()\n",
    "    jogador['nome'] = str(input('Nome do jogador:'))\n",
    "    tot = int(input(f'Quantas partidas {jogador[\"nome\"]} jogou?'))\n",
    "    for c in range(tot):\n",
    "        partidas.append(int(input(f'Quantos gols na partida {c+1}?')))\n",
    "    jogador['gols'] = partidas[:]\n",
    "    jogador['total'] = sum(partidas)\n",
    "    time.append(jogador.copy())\n",
    "    while True:\n",
    "        resp = str(input('Quer continuar [S/N]')).upper()[0]\n",
    "        if resp in 'SN':\n",
    "            break\n",
    "        print('ERRO! Responda apenas S ou N.')\n",
    "    if resp == 'N':\n",
    "        break\n",
    "\n",
    "# MOSTRAR O RESULTADO\n",
    "print('-' * 40)\n",
    "print('cod ', end='')\n",
    "for i in jogador.keys():\n",
    "    print(f'{i:<15}', end='')\n",
    "print()\n",
    "\n",
    "print('-' * 40)\n",
    "for k, v in enumerate(time):\n",
    "    print(f'{k:>4} ', end='')\n",
    "    for d in v.values():\n",
    "        print(f'{str(d):<15}', end='')\n",
    "    print()\n",
    "print('-' * 40)\n",
    "\n",
    "while True:\n",
    "    busca = int(input('Mostrar dados de qual jogador? (999 para parar)'))\n",
    "    if busca == 999:\n",
    "        break\n",
    "    if busca >= len(time):\n",
    "        print(f'ERRO! Não existe jogador com código {busca}!')\n",
    "    else:\n",
    "        print(f' -- LEVANTAMENTO DO JOGADOR {time[busca][\"nome\"]}:')\n",
    "        for i, g in enumerate(time[busca]['gols']):\n",
    "            print(f'    No jogo {i+1} fez {g} gols.')\n",
    "    print('-' * 40)\n",
    "print('<< VOLTE SEMPRE >>')"
   ]
  },
  {
   "cell_type": "markdown",
   "metadata": {},
   "source": [
    "### AULA 20"
   ]
  },
  {
   "cell_type": "markdown",
   "metadata": {},
   "source": [
    "EXERCICIO 096: Faça um pograma que tenha uma função chamada área(), que receba as dimensões de um terreno retangular(largura e comprimento) e mostre a área do terreno."
   ]
  },
  {
   "cell_type": "code",
   "execution_count": null,
   "metadata": {},
   "outputs": [],
   "source": [
    "def area(l, c):\n",
    "    s = l * c\n",
    "    print(f'A área de um terreno {l}x{c} é de {s}m2.')\n",
    "\n",
    "print('Controle de Terrenos')\n",
    "print('-' * 20)\n",
    "\n",
    "largura = float(input('Largura (m):'))\n",
    "comprimento = float(input('Comprimento (m):'))\n",
    "\n",
    "area(largura, comprimento)"
   ]
  },
  {
   "cell_type": "markdown",
   "metadata": {},
   "source": [
    "EXERCICIO 097: Faça um programa que tenha uma função chamada escreva(), que receba um texto qualquer como parâmetro e mostre uma mensagem com tamanho adaptável.\n",
    "\n",
    "Ex:\n",
    "escreva('Olá, Mundo!')\n",
    "\n",
    "Saída:\n",
    "˜˜˜˜˜˜˜˜˜˜˜˜˜˜˜˜˜˜˜˜\n",
    "Olá, Mundo!\n",
    "˜˜˜˜˜˜˜˜˜˜˜˜˜˜˜˜˜˜˜˜"
   ]
  },
  {
   "cell_type": "code",
   "execution_count": null,
   "metadata": {},
   "outputs": [],
   "source": [
    "def escreva(txt):\n",
    "    # print('˜' * len(txt))\n",
    "    # print(txt)\n",
    "    # print('˜' * len(txt))\n",
    "    tam = len(txt) + 4\n",
    "    print('-' * tam)\n",
    "    print(f'  {txt}')\n",
    "    print('-' * tam)\n",
    "\n",
    "escreva('Gustavo Guanabara')\n",
    "escreva('Curso de Python no YouTube')\n",
    "escreva('CeV')"
   ]
  },
  {
   "cell_type": "markdown",
   "metadata": {},
   "source": [
    "EXERCICIO 098: Faça um programa que tenha uma função chamada contador(), que receba três parâmetros: início, fim e passo, e realize a contagem.\n",
    "\n",
    "Seu programa tem que realizar três contagens através da função criada:\n",
    "\n",
    "a) De 1 até 10, de 1 em 1\n",
    "b) De 10 até 0, de 2 e 2\n",
    "c) Uma contágem personalizada."
   ]
  },
  {
   "cell_type": "code",
   "execution_count": null,
   "metadata": {},
   "outputs": [],
   "source": [
    "from time import sleep\n",
    "\n",
    "def contador(a, b, c):\n",
    "    print('-=' * 20)\n",
    "    print(f'Contagem de {a} até {b} em {c}')\n",
    "    sleep(0.5)\n",
    "    if c == 0:\n",
    "        c = 1\n",
    "    if a > b:\n",
    "        c = c * -1\n",
    "    for x in range(a, b, c):\n",
    "        print(x, end=' ')\n",
    "        sleep(0.1)\n",
    "    print('FIM!')\n",
    "    print()\n",
    "\n",
    "contador(1, 11, 1)\n",
    "contador(10, 0, 2)\n",
    "\n",
    "print('-=' * 20)\n",
    "print('Agora é a sua vez de personalizar a contagem!')\n",
    "inicio = int(input('Início:'))\n",
    "fim = int(input('Fim:'))\n",
    "passo = int(input('Passo:'))\n",
    "\n",
    "contador(inicio, fim, passo)"
   ]
  },
  {
   "cell_type": "code",
   "execution_count": null,
   "metadata": {},
   "outputs": [],
   "source": [
    "# RESOLUÇÃO CURSO EM VÍDEO\n",
    "\n",
    "from time import sleep\n",
    "\n",
    "def contador(i, f, p):\n",
    "    if p < 0:\n",
    "        p *= -1\n",
    "    if p ==0:\n",
    "        p = 1\n",
    "    print('-='* 20)\n",
    "    print(f'Contagem de {i} até {f} de {p} em {p}')\n",
    "    sleep(2.5)\n",
    "\n",
    "    if i < f:\n",
    "        cont = i\n",
    "        while cont <= f:\n",
    "            print(f'{cont} ',end='', flush=True)\n",
    "            sleep(0.5)\n",
    "            cont += p\n",
    "        print('FIM!')\n",
    "    else:\n",
    "        cont = i\n",
    "        while cont >= f:\n",
    "            print(f'{cont} ',end='', flush=True)\n",
    "            sleep(0.5)\n",
    "            cont -= p\n",
    "        print('FIM!')\n",
    "\n",
    "# Programa principal\n",
    "contador(1, 10, 1)\n",
    "contador(10, 0, 2)\n",
    "print('-=' * 20)\n",
    "print('Agora é sua vez de personalizar a contagem!')\n",
    "ini = int(input('Início: '))\n",
    "fim = int(input('Fim: '))\n",
    "pas = int(input('Passo: '))\n",
    "contador(ini, fim, pas)"
   ]
  },
  {
   "cell_type": "markdown",
   "metadata": {},
   "source": [
    "EXERCICIO 099: Faça um programa que tenha uma função chamada maior(), que receba vários parâmetros com valores inteiros.\n",
    "\n",
    "Seu programa tem que analisar todos os valores e dizer qual deles é o maior."
   ]
  },
  {
   "cell_type": "code",
   "execution_count": null,
   "metadata": {},
   "outputs": [],
   "source": [
    "from time import sleep\n",
    "def maior(* valores):\n",
    "    max = 0\n",
    "    print('-=' * 20)\n",
    "    print('Analisando os valores passados...')\n",
    "    for n in valores:\n",
    "        print(n, end=' ')\n",
    "        sleep(0.2)\n",
    "        if max < n:\n",
    "            max = n\n",
    "    print(f'Foram informados {len(valores)} valores ao todo.')\n",
    "    print(f'O maior valor informado foi {max}.')\n",
    "    sleep(0.5)\n",
    "\n",
    "maior(2, 9, 4, 5, 7, 1)\n",
    "maior(4, 7, 0)\n",
    "maior(1, 2)\n",
    "maior(6)\n",
    "maior()"
   ]
  },
  {
   "cell_type": "markdown",
   "metadata": {},
   "source": [
    "EXERCICIO 100: Faça um programa que tenha uma lista chamada números e duas funções chamadas sorteia() e somaPar(). A primeira função vai sortear 5 números e vai colocá-los dentro da lista e a segunda função vai mostrar a soma entre todos os valores PARES sorteados pela função anterior."
   ]
  },
  {
   "cell_type": "code",
   "execution_count": null,
   "metadata": {},
   "outputs": [],
   "source": [
    "from random import randint\n",
    "from time import sleep\n",
    "\n",
    "numeros = list()\n",
    "\n",
    "def sorteia():\n",
    "    print('Sorteando 5 valores da lista:', end=' ')\n",
    "    for c in range(5):\n",
    "        n = (randint(1, 10))\n",
    "        print(n, end=' ')\n",
    "        numeros.append(n)\n",
    "        sleep(0.2)\n",
    "    print('PRONTO!')\n",
    "\n",
    "sorteia()\n",
    "\n",
    "def somaPar():\n",
    "    p = 0\n",
    "    for num in numeros:\n",
    "        if num % 2 == 0:\n",
    "            p += num\n",
    "    print(f'Somando os valores pares de {numeros}, temos {p}')\n",
    "\n",
    "somaPar()"
   ]
  },
  {
   "cell_type": "code",
   "execution_count": null,
   "metadata": {},
   "outputs": [],
   "source": [
    "# RESOLUÇÃO CURSO EM VÍDEO\n",
    "\n",
    "from random import randint\n",
    "from time import sleep\n",
    "\n",
    "def sorteia(lista):\n",
    "    print('Sorteando 5 valores da lista: ', end='')\n",
    "    for cont in range(0, 5):\n",
    "        n = randint(1, 10)\n",
    "        lista.append(n)\n",
    "        print(f'{n} ', end='', flush=True)\n",
    "        sleep(0.3)\n",
    "    print('PRONTO!')\n",
    "\n",
    "def somaPar(lista):\n",
    "    soma = 0\n",
    "    for valor in lista:\n",
    "        if valor % 2 == 0:\n",
    "            soma += valor\n",
    "    print(f'Somando os valores pares de {lista}, temos {soma}')\n",
    "\n",
    "numeros = list()\n",
    "sorteia(numeros)\n",
    "somaPar(numeros)"
   ]
  },
  {
   "cell_type": "markdown",
   "metadata": {},
   "source": [
    "### AULA 21"
   ]
  },
  {
   "cell_type": "markdown",
   "metadata": {},
   "source": [
    "EXERCICIO 101: Crie um programa que tenha uma função chamada voto() que vai receber como parâmetro o ano de nascimento de uma pessoa, retornando um valor literal indicando se  uma pessoa tem voto NEGADO, OPCIONAL ou OBRIGATÓRIO nas eleições."
   ]
  },
  {
   "cell_type": "code",
   "execution_count": null,
   "metadata": {},
   "outputs": [],
   "source": [
    "def voto(ano):\n",
    "    from datetime import datetime\n",
    "    idade = datetime.now().year - ano\n",
    "    if idade < 16:\n",
    "        return f'Com {idade} anos: VOTO NEGADO'\n",
    "    elif idade < 18 or idade > 64:\n",
    "        return f'Com {idade} anos: VOTO  OPCIONAL'\n",
    "    else:\n",
    "        return f'Com {idade} anos: VOTO  OBRIGATÓRIO'\n",
    "\n",
    "ano = int(input('Em que ano você nasceu?'))\n",
    "voto(ano)"
   ]
  },
  {
   "cell_type": "code",
   "execution_count": null,
   "metadata": {},
   "outputs": [],
   "source": [
    "# RESOLUÇÃO CURSO EM VÍDEO\n",
    "\n",
    "def voto(ano):\n",
    "    from datetime import date # economiza memória\n",
    "    atual = date.today().year\n",
    "    idade = atual - ano\n",
    "    if idade < 16:\n",
    "        return f'Com {idade} anos: VOTO NEGADO'\n",
    "    if 16 <= idade < 18 or idade > 65:\n",
    "        return f'Com {idade} anos: VOTO OPCIONAL'\n",
    "    else:\n",
    "        return f'Com {idade} anos: VOTO OBRIGATÓRIO'\n",
    "\n",
    "nasc = int(input('Em que ano você nasceu?'))\n",
    "print(voto(nasc))"
   ]
  },
  {
   "cell_type": "markdown",
   "metadata": {},
   "source": [
    "EXERCICIO 102: Crie um programa que tenha uma função fatorial() que receba dois parâmetros: o primeiro que indique o número a calcular e o outro chamado show, que será um valor lógico (opcional) indicando se será mostrado ou não na tela o processo de cálculo do fatorial."
   ]
  },
  {
   "cell_type": "code",
   "execution_count": null,
   "metadata": {},
   "outputs": [],
   "source": [
    "def fatorial(n = 1, show = False):\n",
    "    \"\"\"\n",
    "    -> Calcula o Fatorial de um número.\n",
    "    :param n: O número a ser calculado.\n",
    "    :param show: (opcional) Mostrar ou não a conta.\n",
    "    :return: O valor do Fatorial de um número n.\n",
    "    \"\"\"\n",
    "    f = 1\n",
    "    for c in range(n, 0, -1):\n",
    "        if show:\n",
    "            print(c, end='')\n",
    "            if c > 1:\n",
    "                print(f' x ', end='')\n",
    "            else:\n",
    "                print(' = ', end='')\n",
    "        f *= c\n",
    "    return f\n",
    "\n",
    "# Programa Principal\n",
    "print(fatorial(5, True))\n",
    "help(fatorial)"
   ]
  },
  {
   "cell_type": "markdown",
   "metadata": {},
   "source": [
    "EXERCICIO 103: Faça um programa que tenha uma função chamada ficha(), que receba dois parâmetros opcionais: o nome de um jogador e quantos gols ele marcou.\n",
    "\n",
    "O programa deverá ser capaz de mostrar a ficha do jogador, mesmo que algum dado não tenha sido informado corretamente."
   ]
  },
  {
   "cell_type": "code",
   "execution_count": null,
   "metadata": {},
   "outputs": [],
   "source": [
    "def ficha(jogador = '<desconhecido>', gol = 0):\n",
    "    print(f'O {jogador} fez {gol} gol(s) no campeonato.')\n",
    "\n",
    "a = str(input('Nome do Jogador:'))\n",
    "b = str(input('Número de Gols:'))\n",
    "\n",
    "if b.isnumeric():\n",
    "    b = int(b)\n",
    "else:\n",
    "    b = 0\n",
    "if a.strip() == '':\n",
    "    ficha(gol=b)\n",
    "else:\n",
    "    ficha(a,b)"
   ]
  },
  {
   "cell_type": "markdown",
   "metadata": {},
   "source": [
    "EXERCÍCIO 104: Crie um programa que tenha a função leiaint(), que vai funcionar de forma semelhante à função input() do Python, só que fazendo a validação para aceitar apenas um valor numérico.\n",
    "\n",
    "Ex: n = leiaint('Digite um n')"
   ]
  },
  {
   "cell_type": "code",
   "execution_count": null,
   "metadata": {},
   "outputs": [],
   "source": [
    "def leiaint(msg):\n",
    "    ok = False\n",
    "    valor = 0\n",
    "    while True:\n",
    "        n = str(input(msg))\n",
    "        if n.isnumeric():\n",
    "            valor = int(n)\n",
    "            ok = True\n",
    "        else:\n",
    "            print('\\033[0;31mERRO! Digite um número inteiro válido\\033[m]')\n",
    "        if ok:\n",
    "            break\n",
    "    return valor\n",
    "\n",
    "# Programa principal\n",
    "n = leiaint('Digite um número')\n",
    "print(f'Você acabou de digitar o número {n}')"
   ]
  },
  {
   "cell_type": "markdown",
   "metadata": {},
   "source": [
    "EXERCICIO 105: Faça um programa que tenha uma função notas() que pode receber várias notas de alunos e vai retornar um dicionário com as seguintes informações:\n",
    "\n",
    "- Quantidade de notas\n",
    "- A maior nota\n",
    "- A menor nota\n",
    "- A média da turma\n",
    "- A situação (opcional)\n",
    "\n",
    "Adicione também as docstrings da função."
   ]
  },
  {
   "cell_type": "code",
   "execution_count": null,
   "metadata": {},
   "outputs": [],
   "source": [
    "def notas(* n, sit = False):\n",
    "    '''\n",
    "    -> Função para analisar notas e situações de vários alunos.\n",
    "    :param n: uma ou mais notas dos alunos (aceita várias)\n",
    "    :param sit: valor opcional, indicando se deve ou não adicionar a situação\n",
    "    :return: dicionário com várias informações sobre a situação da turma\n",
    "    '''\n",
    "    r = dict()\n",
    "    r['total'] = len(n)\n",
    "    r['maior'] = max(n)\n",
    "    r['menor'] = min(n)\n",
    "    r['média'] = sum(n)/len(n)\n",
    "    if sit:\n",
    "        if r['média'] >= 7:\n",
    "            r['situação'] = 'BOA'\n",
    "        elif r['média'] >= 5:\n",
    "            r['situação'] = 'RAZOÁVEL'\n",
    "        else:\n",
    "            r['situção'] = 'RUIM'\n",
    "    return r\n",
    "\n",
    "# Programa Principal\n",
    "resp = notas(5.5, 9.5, 10, 6.5, sit=True)\n",
    "print(resp)\n",
    "help(notas)"
   ]
  },
  {
   "cell_type": "markdown",
   "metadata": {},
   "source": [
    "EXERCÍCIO 106: Faça um mini-sistema que utilize o Interactive Help do Python. O usuário vai digitar o comando e o manual vai aparecer. Quando o usuário digitar a palavra 'FIM', o programa se encerrará.\n",
    "\n",
    "Obs: use cores."
   ]
  },
  {
   "cell_type": "code",
   "execution_count": null,
   "metadata": {},
   "outputs": [],
   "source": [
    "from time import sleep\n",
    "def ajuda(texto):\n",
    "    tam = len(texto) + 34\n",
    "    print('-' * tam)\n",
    "    print(f'  Acessando o manual do comando {texto}')\n",
    "    print('-' * tam)\n",
    "    sleep(0.5)\n",
    "    print(help(texto))\n",
    "\n",
    "manual = str(input('Função ou biblioteca > '))\n",
    "ajuda(manual)"
   ]
  },
  {
   "cell_type": "code",
   "execution_count": null,
   "metadata": {},
   "outputs": [],
   "source": [
    "# Resolução Curso em Vídeo\n",
    "from time import sleep\n",
    "\n",
    "c = ('\\33[m',          # 0 - Sem cor\n",
    "     '\\33[0;30;41m',   # 1 - Vermelho\n",
    "     '\\33[0;30;42m',   # 2 - Verde\n",
    "     '\\33[0;30;43m',   # 3 - Amarelo\n",
    "     '\\33[0;30;44m',   # 4 - Azul\n",
    "     '\\33[0;30;45m',   # 5 - Roxo\n",
    "     '\\33[0;30;46m',   # 6 - Ciano\n",
    "     '\\33[7;30m',      # 7 - Branco (Texto em Preto)\n",
    "    );\n",
    "\n",
    "def ajuda(com):\n",
    "    titulo(f'Acessando o manual do comando \\'{com}\\'', 4)\n",
    "    print(c[6], end='')\n",
    "    help(com)\n",
    "    print(c[0], end='')\n",
    "    sleep(0.3)\n",
    "\n",
    "def titulo(msg, cor=0):\n",
    "    tam = len(msg) + 4\n",
    "    print(c[cor], end='')\n",
    "    print('-' * tam)\n",
    "    print(f'  {msg}  ')\n",
    "    print('-' * tam)\n",
    "    print(c[0], end='')\n",
    "    sleep(0.3)\n",
    "\n",
    "# Programa Principal\n",
    "comando = ''\n",
    "while True:\n",
    "    titulo('SISTEMA DE AJUDA PyHELP', 2)\n",
    "    comando = str(input('Função ou Biblioteca > '))\n",
    "    if comando.upper() == 'FIM':\n",
    "        break\n",
    "    else:\n",
    "        ajuda(comando)\n",
    "titulo('ATÉ LOGO!', 1)"
   ]
  },
  {
   "cell_type": "markdown",
   "metadata": {},
   "source": [
    "### AULA 22"
   ]
  },
  {
   "cell_type": "markdown",
   "metadata": {},
   "source": [
    "EXERCICIO 107: Crie um módulo chamado moeda.py que tenha as funções incorporadas aumentar(), diminuir(), dobro() e metade().\n",
    "\n",
    "Faça também um programa que importe esse módulo e use algumas dessas funções."
   ]
  },
  {
   "cell_type": "code",
   "execution_count": null,
   "metadata": {},
   "outputs": [],
   "source": [
    "from ex107 import moeda\n",
    "\n",
    "p = float(input('Digite um preço: R$'))\n",
    "print(f'A metade de {p} é {moeda.metade(p)}')\n",
    "print(f'O dobro de {p} é {moeda.dobro(p)}')\n",
    "print(f'Aumentando 10%, temos {moeda.aumentar(p, 10)}')\n",
    "print(f'Reduzindo 13%, temos {moeda.diminuir(p, 13)}')"
   ]
  },
  {
   "cell_type": "markdown",
   "metadata": {},
   "source": [
    "EXERCICIO 108: Adapte o código do desafio 107, criando uma função adicional chamada moeda() que consiga mostrar os valores como um valor monetário formatado."
   ]
  },
  {
   "cell_type": "code",
   "execution_count": null,
   "metadata": {},
   "outputs": [],
   "source": [
    "from ex107 import moeda\n",
    "\n",
    "p = float(input('Digite um preço: R$'))\n",
    "print(f'A metade de {moeda.moeda(p)} é {moeda.moeda(moeda.metade(p))}')\n",
    "print(f'O dobro de {moeda.moeda(p)} é {moeda.moeda(moeda.dobro(p))}')\n",
    "print(f'Aumentando 10%, temos {moeda.moeda(moeda.aumentar(p, 10))}')\n",
    "print(f'Reduzindo 13%, temos {moeda.moeda(moeda.diminuir(p, 13))}')"
   ]
  },
  {
   "cell_type": "markdown",
   "metadata": {},
   "source": [
    "EXERCICIO 109: Modifique as funções que foram criadas no desafio 107 para que eleas aceitem um parâmetro a mais, infrmando se o valor retornado por elas vai ser ou não formatado pela função moeda(), desenvolvida no desafio 108."
   ]
  },
  {
   "cell_type": "code",
   "execution_count": null,
   "metadata": {},
   "outputs": [],
   "source": [
    "from ex109 import moeda\n",
    "\n",
    "p = float(input('Digite um preço: R$'))\n",
    "print(f'A metade de {moeda.moeda(p)} é {moeda.metade(p, True)}')\n",
    "print(f'O dobro de {moeda.moeda(p)} é {moeda.dobro(p, True)}')\n",
    "print(f'Aumentando 10%, temos {moeda.aumentar(p, 10, True)}')\n",
    "print(f'Reduzindo 13%, temos {moeda.diminuir(p, 13, True)}')"
   ]
  },
  {
   "cell_type": "markdown",
   "metadata": {},
   "source": [
    "EXERCICIO 110: Adicione ao módulo moeda.py criado nos desafios anteriores, uma função chamada resumo(), que mostre na tela algumas informações geradas pelas funções que já temos no módulo criado até aqui."
   ]
  },
  {
   "cell_type": "code",
   "execution_count": null,
   "metadata": {},
   "outputs": [],
   "source": [
    "from ex109 import moeda\n",
    "\n",
    "p = float(input('Digite um preço: R$'))\n",
    "moeda.resumo(p, 80, 35)"
   ]
  },
  {
   "cell_type": "markdown",
   "metadata": {},
   "source": [
    "EXERCICIO 111: Crie um pacote chamado utilidadesCrV que trnha dois módulos internos chamados moeda e dado.\n",
    "\n",
    "Transfira todas as funções utilizadas nos desafios 107, 108 e 109 para o primeiro pacote e mantenha tudo funcionando."
   ]
  },
  {
   "cell_type": "code",
   "execution_count": null,
   "metadata": {},
   "outputs": [],
   "source": [
    "from utilidadesCeV import moeda\n",
    "\n",
    "p = float(input('Digite um preço: R$'))\n",
    "moeda.resumo(p, 20, 12)"
   ]
  },
  {
   "cell_type": "markdown",
   "metadata": {},
   "source": [
    "EXERCICIO 112: Dentro do pacote ulitidadesCeV que criamos no desafio 111, temos um módulo chamado dado. Crie uma função chamada leiaDinheiro() que seja capaz de funcionar como a função input(), mas com uma validação de dados, para aceitar apenas valores que sejam monetários."
   ]
  },
  {
   "cell_type": "code",
   "execution_count": null,
   "metadata": {},
   "outputs": [],
   "source": [
    "from utilidadesCeV import moeda, dado\n",
    "\n",
    "p = dado.leiaDinheiro('Digite o preço: R$')\n",
    "moeda.resumo(p, 35, 22)"
   ]
  },
  {
   "cell_type": "markdown",
   "metadata": {},
   "source": [
    "### AULA 23"
   ]
  },
  {
   "cell_type": "markdown",
   "metadata": {},
   "source": [
    "EXERCICIO 113:"
   ]
  }
 ],
 "metadata": {
  "kernelspec": {
   "display_name": "base",
   "language": "python",
   "name": "python3"
  },
  "language_info": {
   "codemirror_mode": {
    "name": "ipython",
    "version": 3
   },
   "file_extension": ".py",
   "mimetype": "text/x-python",
   "name": "python",
   "nbconvert_exporter": "python",
   "pygments_lexer": "ipython3",
   "version": "3.10.9"
  },
  "orig_nbformat": 4
 },
 "nbformat": 4,
 "nbformat_minor": 2
}
