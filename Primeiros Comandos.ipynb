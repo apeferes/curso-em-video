{
 "cells": [
  {
   "attachments": {},
   "cell_type": "markdown",
   "metadata": {},
   "source": [
    "=== FUNDAMENTOS ==="
   ]
  },
  {
   "attachments": {},
   "cell_type": "markdown",
   "metadata": {},
   "source": [
    "AULA 04"
   ]
  },
  {
   "cell_type": "code",
   "execution_count": null,
   "metadata": {},
   "outputs": [],
   "source": [
    "print ('Olá, Mundo!')"
   ]
  },
  {
   "cell_type": "code",
   "execution_count": null,
   "metadata": {},
   "outputs": [],
   "source": [
    "print (7+4)"
   ]
  },
  {
   "cell_type": "code",
   "execution_count": null,
   "metadata": {},
   "outputs": [],
   "source": [
    "print ('7'+'4')"
   ]
  },
  {
   "cell_type": "code",
   "execution_count": null,
   "metadata": {},
   "outputs": [],
   "source": [
    "nome = 'Ana Paula'\n",
    "idade = 33\n",
    "peso = 100\n",
    "\n",
    "print (nome, idade, peso)"
   ]
  },
  {
   "cell_type": "code",
   "execution_count": null,
   "metadata": {},
   "outputs": [],
   "source": [
    "nome = input ('Qual é o seu nome?')\n",
    "idade = input ('Qual é a sua idade?')\n",
    "peso = input ('Qual é o seu peso?')\n",
    "\n",
    "print (nome, idade, peso)"
   ]
  },
  {
   "cell_type": "code",
   "execution_count": null,
   "metadata": {},
   "outputs": [],
   "source": [
    "nome = input ('Qual é o seu nome?')\n",
    "print ('Olá,', nome, '! Prazer em te conhecer!')"
   ]
  },
  {
   "cell_type": "code",
   "execution_count": null,
   "metadata": {},
   "outputs": [],
   "source": [
    "dia = input ('Digite o dia que você nasceu:')\n",
    "mes = input ('Digite o mês (por extenso) em que você nasceu:')\n",
    "ano = input ('Digite o ano em que você nasceu:')\n",
    "print ('Você nasceu no dia' , dia , 'de' , mes , 'de' , ano , '. Correto?')"
   ]
  },
  {
   "cell_type": "code",
   "execution_count": null,
   "metadata": {},
   "outputs": [],
   "source": [
    "dia = input ('Dia =')\n",
    "mes = input ('Mês =')\n",
    "ano = input ('Ano =')\n",
    "print ('Você nasceu no dia' , dia , 'de' , mes , 'de' , ano , '. Correto?')"
   ]
  },
  {
   "cell_type": "code",
   "execution_count": null,
   "metadata": {},
   "outputs": [],
   "source": [
    "n1 = input ('Digite o primeiro número:')\n",
    "n2 = input ('Digite o segundo número:')\n",
    "print ('A soma é:', int(n1) + int(n2))"
   ]
  },
  {
   "cell_type": "code",
   "execution_count": null,
   "metadata": {},
   "outputs": [],
   "source": [
    "n1 = int(input ('Digite o primeiro número:'))\n",
    "n2 = int(input ('Digite o segundo número:'))\n",
    "print ('A soma é:', n1 + n2)"
   ]
  },
  {
   "attachments": {},
   "cell_type": "markdown",
   "metadata": {},
   "source": [
    "AULA 06"
   ]
  },
  {
   "attachments": {},
   "cell_type": "markdown",
   "metadata": {},
   "source": [
    "TIPOS PRIMITIVOS\n",
    "\n",
    "int = 1, -4, 0, 45678\n",
    "float = 4.5, 0.076, -15.976, 7.0\n",
    "bool = True, False\n",
    "srt = 'Olá!', '7.5', ''"
   ]
  },
  {
   "cell_type": "code",
   "execution_count": null,
   "metadata": {},
   "outputs": [],
   "source": [
    "s = 1\n",
    "print('A soma vale', s)\n",
    "print('A soma vale {}'.format(s))\n"
   ]
  },
  {
   "cell_type": "code",
   "execution_count": null,
   "metadata": {},
   "outputs": [],
   "source": [
    "n1 = int(input('Digite um valor: '))\n",
    "n2 = int(input('Digite outro valor: '))\n",
    "s = n1 + n2\n",
    "print('A soma entre {} e {} vale {}'.format(n1,n2,s))\n",
    "# FORMATO ANTIGO\n",
    "# print('A soma entre', n1, 'e', n2, 'vale', s)"
   ]
  },
  {
   "cell_type": "code",
   "execution_count": null,
   "metadata": {},
   "outputs": [],
   "source": [
    "n = float(input('Digite um valor: '))\n",
    "print(n)\n",
    "print(type(n))\n",
    "print(n.is_integer())\n"
   ]
  },
  {
   "cell_type": "code",
   "execution_count": null,
   "metadata": {},
   "outputs": [],
   "source": [
    "algo = input(str('Digite algo: '))\n",
    "print(type(algo))\n",
    "print(str.isprintable(algo))\n",
    "print(str.islower(algo))\n",
    "print(str.isalnum(algo))\n",
    "print(str.isnumeric(algo))\n",
    "print(str.isupper(algo))\n",
    "print(str.isalpha(algo))\n",
    "print(str.isdecimal(algo))\n",
    "print(str.isdigit(algo))\n",
    "print(str.isidentifier(algo))\n",
    "print(str.isspace(algo))\n",
    "print(str.istitle(algo))"
   ]
  },
  {
   "attachments": {},
   "cell_type": "markdown",
   "metadata": {},
   "source": [
    "AULA 07"
   ]
  },
  {
   "attachments": {},
   "cell_type": "markdown",
   "metadata": {},
   "source": [
    "ORDEM DE PRECEDÊNCIA\n",
    "\n",
    "1 ()\n",
    "2 **\n",
    "3 * / // %\n",
    "4 + -\n"
   ]
  },
  {
   "cell_type": "code",
   "execution_count": null,
   "metadata": {},
   "outputs": [],
   "source": [
    "print(5+3*2)\n",
    "print(3*5+4**2)\n",
    "print(3*(5+4)**2)"
   ]
  },
  {
   "cell_type": "code",
   "execution_count": null,
   "metadata": {},
   "outputs": [],
   "source": [
    "# CALCULOS\n",
    "\n",
    "print(5**2)\n",
    "print(5**3)\n",
    "print(19//2)\n",
    "print(19/2)\n",
    "print(35**522)\n",
    "print(18%2)\n",
    "print(122%3)\n",
    "print(4**3)\n",
    "print(pow(4,3))\n",
    "print(81**(1/2)) #raiz quadrada\n",
    "print(25**(1/2)) #raiz quadrada\n",
    "print(127**(1/3)) #raiz cubica"
   ]
  },
  {
   "cell_type": "code",
   "execution_count": null,
   "metadata": {},
   "outputs": [],
   "source": [
    "# STRING\n",
    "\n",
    "print('Oi'+'Olá')\n",
    "\n",
    "# print('Oi'*5) NÃO VAI FUNCIONAR\n",
    "\n",
    "print('='*20) #imprime 20x o caractere"
   ]
  },
  {
   "cell_type": "code",
   "execution_count": null,
   "metadata": {},
   "outputs": [],
   "source": [
    "nome = input('Qual é seu nome?')\n",
    "print('Prazer em te conhecer {}!'.format(nome))"
   ]
  },
  {
   "cell_type": "code",
   "execution_count": null,
   "metadata": {},
   "outputs": [],
   "source": [
    "nome = input('Qual é seu nome?')\n",
    "print('Prazer em te conhecer {:20}!'.format(nome))\n",
    "# ESCREVEU O NOME EM 20 CARACTERES"
   ]
  },
  {
   "cell_type": "code",
   "execution_count": null,
   "metadata": {},
   "outputs": [],
   "source": [
    "nome = input('Qual é seu nome?')\n",
    "print('Prazer em te conhecer {:>20}!'.format(nome))\n",
    "# ESCREVEU O NOME EM 20 CARACTERES\n",
    "# ALINHADO A DIREITA"
   ]
  },
  {
   "cell_type": "code",
   "execution_count": null,
   "metadata": {},
   "outputs": [],
   "source": [
    "nome = input('Qual é seu nome?')\n",
    "print('Prazer em te conhecer {:<20}!'.format(nome))\n",
    "# ESCREVEU O NOME EM 20 CARACTERES\n",
    "# ALINHADO A ESQUERDA"
   ]
  },
  {
   "cell_type": "code",
   "execution_count": null,
   "metadata": {},
   "outputs": [],
   "source": [
    "nome = input('Qual é seu nome?')\n",
    "print('Prazer em te conhecer {:ˆ20}!'.format(nome))\n",
    "# ESCREVEU O NOME EM 20 CARACTERES\n",
    "# ALINHADO AO CENTRO"
   ]
  },
  {
   "cell_type": "code",
   "execution_count": null,
   "metadata": {},
   "outputs": [],
   "source": [
    "nome = input('Qual é seu nome?')\n",
    "print('Prazer em te conhecer {:=ˆ20}!'.format(nome))\n",
    "# ESCREVEU O NOME EM 20 CARACTERES\n",
    "# ALINHADO AO CENTRO COM = EM VOLTA"
   ]
  },
  {
   "cell_type": "code",
   "execution_count": null,
   "metadata": {},
   "outputs": [],
   "source": [
    "n1 = int(input('Um valor:'))\n",
    "n2 = int(input('Outro valor:'))\n",
    "s = n1+n2\n",
    "m = n1*n2\n",
    "d = n1/n2\n",
    "di = n1//n2\n",
    "e = n1**n2\n",
    "print('O primeiro número escolhido foi {} e o segundo número escolhido foi {}.'.format(n1,n2))\n",
    "print('A soma é {}, o produto é {}, e a divisão é {}'.format(s, m, d))\n",
    "print('Divisão inteira {} e potência {}'.format(di, e))"
   ]
  },
  {
   "cell_type": "code",
   "execution_count": null,
   "metadata": {},
   "outputs": [],
   "source": [
    "# PARA NÃO QUEBRAR A LINHA ENTRE UM PRINT E OUTRO ,end=' '\n",
    "\n",
    "n1 = int(input('Um valor:'))\n",
    "n2 = int(input('Outro valor:'))\n",
    "s = n1+n2\n",
    "m = n1*n2\n",
    "d = n1/n2\n",
    "di = n1//n2\n",
    "e = n1**n2\n",
    "print('O primeiro número escolhido foi {} e o segundo número escolhido foi {}.'.format(n1,n2), end=' ')\n",
    "print('A soma é {}, o produto é {}, e a divisão é {}'.format(s, m, d), end=' ')\n",
    "print('Divisão inteira {} e potência {}'.format(di, e))"
   ]
  },
  {
   "cell_type": "code",
   "execution_count": null,
   "metadata": {},
   "outputs": [],
   "source": [
    "# PARA NÃO QUEBRAR A LINHA ENTRE UM PRINT E OUTRO ,end=' '\n",
    "# COLOCANDO ALGUMA COISA ENTRE UM PRINT E OUTRO ,end=' >>> '\n",
    "\n",
    "n1 = int(input('Um valor:'))\n",
    "n2 = int(input('Outro valor:'))\n",
    "s = n1+n2\n",
    "m = n1*n2\n",
    "d = n1/n2\n",
    "di = n1//n2\n",
    "e = n1**n2\n",
    "print('A soma é {}, o produto é {}, e a divisão é {}'.format(s, m, d), end=' >>> ')\n",
    "print('Divisão inteira {} e potência {}'.format(di, e))"
   ]
  },
  {
   "cell_type": "code",
   "execution_count": null,
   "metadata": {},
   "outputs": [],
   "source": [
    "# PARA DAR A RESPOSTA EM OUTRA LINHA \\n\n",
    "\n",
    "n1 = int(input('Um valor:'))\n",
    "n2 = int(input('Outro valor:'))\n",
    "s = n1+n2\n",
    "m = n1*n2\n",
    "d = n1/n2\n",
    "di = n1//n2\n",
    "e = n1**n2\n",
    "\n",
    "print('A soma é {}, \\n o produto é {}, \\n e a divisão é {}'.format(s, m, d))\n",
    "print('Divisão inteira {} e potência {}'.format(di, e))"
   ]
  },
  {
   "attachments": {},
   "cell_type": "markdown",
   "metadata": {},
   "source": [
    "AULA 08 - MÓDULOS"
   ]
  },
  {
   "attachments": {},
   "cell_type": "markdown",
   "metadata": {},
   "source": [
    "IMPORTAÇÕES\n",
    "\n",
    "math\n",
    "    ceil = arredondar pra cima\n",
    "    floor = arredondar pra baixo\n",
    "    trunc = eliminar da virgula pra frente\n",
    "    pow = potência\n",
    "    sqrt = raiz quadrada (square root)\n",
    "    factorial = fatorial\n",
    "\n",
    "import math = importa tudo\n",
    "from math import sqrt = importa só o necessário\n",
    "from math import sqrt, ceil = importa apenas o sqrt e ceil"
   ]
  },
  {
   "cell_type": "code",
   "execution_count": null,
   "metadata": {},
   "outputs": [],
   "source": [
    "# Fazendo importações no Python\n",
    "\n",
    "import math\n",
    "num = int(input('Digite um número:'))\n",
    "raiz = math.sqrt(num)\n",
    "print(f'A raiz de {num} é {raiz}')\n",
    "print(f'A raiz de {num} é {raiz:.2f} - Com 2 casa decimais')\n",
    "print(f'A raiz de {num} é {math.ceil(raiz)} - Arredondando pra cima') #math.ceil está arredondando pra cima\n",
    "print(f'A raiz de {num} é {math.floor(raiz)} - Arredondando pra baixo') #math.floor está arredondando pra cima\n",
    "\n"
   ]
  },
  {
   "cell_type": "code",
   "execution_count": null,
   "metadata": {},
   "outputs": [],
   "source": [
    "# control espaço aparece todas as opções após import\n",
    "# virgula para incluir mais de um\n",
    "\n",
    "from math import sqrt, floor\n",
    "num = int(input('Digite um número:'))\n",
    "raiz = math.sqrt(num)\n",
    "print(f'A raiz de {num} é {raiz:.2f}')\n",
    "print(f'A raiz de {num} é {math.floor(raiz)} - Arredondando pra baixo')"
   ]
  },
  {
   "cell_type": "code",
   "execution_count": null,
   "metadata": {},
   "outputs": [],
   "source": [
    "import random # números aleatórios\n",
    "\n",
    "n1 = random.random()\n",
    "print(n1)\n",
    "\n",
    "n2 = random.randint(1, 10)\n",
    "print(n2)"
   ]
  },
  {
   "attachments": {},
   "cell_type": "markdown",
   "metadata": {},
   "source": [
    "AULA 09 - TRATAR CADEIAS DE CARACTERES - string str"
   ]
  },
  {
   "cell_type": "code",
   "execution_count": null,
   "metadata": {},
   "outputs": [],
   "source": [
    "frase = 'Curso em Vídeo Python'\n",
    "print(frase[9])\n",
    "print(frase[9:13])\n",
    "print(frase[9:21:2])\n",
    "print(frase[:5])\n",
    "print(frase[15:])\n",
    "print(frase[9::3])"
   ]
  },
  {
   "cell_type": "code",
   "execution_count": null,
   "metadata": {},
   "outputs": [],
   "source": [
    "frase = 'Curso em Vídeo Python'\n",
    "len(frase) # quantos caracteres\n",
    "frase.count('o') # quantas vezes existe a letra 'o'\n",
    "frase.count('o',0,13) # quantas vezes existe o 'o' entre o caractere 0 e 13\n",
    "frase.find('deo') # onde começou o 'deo' na frase\n",
    "frase.find('Android') # se algo não existe aparece a resposta -1\n",
    "'Curso' in frase # responde True ou False"
   ]
  },
  {
   "cell_type": "code",
   "execution_count": null,
   "metadata": {},
   "outputs": [],
   "source": [
    "frase = 'Curso em Vídeo Python'\n",
    "frase.replace('Python','Android') # não substitui diretamente"
   ]
  },
  {
   "cell_type": "code",
   "execution_count": null,
   "metadata": {},
   "outputs": [],
   "source": [
    "frase.upper() # transporta em maiúsculo"
   ]
  },
  {
   "cell_type": "code",
   "execution_count": null,
   "metadata": {},
   "outputs": [],
   "source": [
    "frase.lower() # transporta em minúsculo"
   ]
  },
  {
   "cell_type": "code",
   "execution_count": null,
   "metadata": {},
   "outputs": [],
   "source": [
    "frase.capitalize() # transforma tudo em minúsculo e a primeira letra em maiúsculo"
   ]
  },
  {
   "cell_type": "code",
   "execution_count": null,
   "metadata": {},
   "outputs": [],
   "source": [
    "frase.title() # analisa quantas palavras tem e transforma a primeira letra de cada palavra em maiúsculo"
   ]
  },
  {
   "cell_type": "code",
   "execution_count": null,
   "metadata": {},
   "outputs": [],
   "source": [
    "frase = '   Aprenda Python  '\n",
    "\n",
    "frase.strip() # remove todos os espaços desnecessários\n",
    "\n",
    "frase.rstrip() # ele remove apenas os espaços sobressalentes a direita\n",
    "\n",
    "frase.lstrip() # ele remove apenas os espaços sobressalentes a esquerda"
   ]
  },
  {
   "cell_type": "code",
   "execution_count": null,
   "metadata": {},
   "outputs": [],
   "source": [
    "frase = 'Curso em Vídeo Python'\n",
    "\n",
    "# SEPARAR\n",
    "\n",
    "frase.split() # ocorre uma divisão dentro da string considerando os espaços\n",
    "# estudar mais sobre as possibildiades do frase.split ()\n",
    "\n",
    "# JUNTAR\n",
    "\n",
    "'-'.join(frase) # para juntar o split e colocar um - entre as palavras"
   ]
  },
  {
   "cell_type": "code",
   "execution_count": null,
   "metadata": {},
   "outputs": [],
   "source": [
    "# TESTE\n",
    "\n",
    "frase = 'Curso em Vídeo Python'\n",
    "\n",
    "print(frase[3])\n",
    "print(frase[4:12])\n",
    "print(frase[:13])\n",
    "print(frase[13:])\n",
    "print(frase[1:15:2])\n",
    "print(frase[::2])"
   ]
  },
  {
   "cell_type": "code",
   "execution_count": null,
   "metadata": {},
   "outputs": [],
   "source": [
    "# PRINT EM UM TEXTO COM ENTER\n",
    "\n",
    "print('''José\n",
    "\n",
    "E agora, José?\n",
    "A festa acabou,\n",
    "a luz apagou,\n",
    "o povo sumiu,\n",
    "a noite esfriou,\n",
    "e agora, José?\n",
    "e agora, você?\n",
    "você que é sem nome,\n",
    "que zomba dos outros,\n",
    "você que faz versos,\n",
    "que ama, protesta?\n",
    "e agora, José?''')"
   ]
  },
  {
   "cell_type": "code",
   "execution_count": null,
   "metadata": {},
   "outputs": [],
   "source": [
    "frase = 'Curso em Vídeo Python'\n",
    "\n",
    "print(frase.count('o'))\n",
    "print(frase.upper().count('o'))\n",
    "print(len(frase))\n",
    "\n",
    "frase = '   Curso em Vídeo Python   '\n",
    "print(len(frase))\n",
    "print(len(frase.strip())) # tira os espaços"
   ]
  },
  {
   "cell_type": "code",
   "execution_count": null,
   "metadata": {},
   "outputs": [],
   "source": [
    "frase = 'Curso em Vídeo Python'\n",
    "# aqui ele não altera, apenas no print\n",
    "print(frase.replace('Python','Android'))\n",
    "print(frase)\n",
    "\n",
    "#aqui ele altera por que recebe uma atribuição\n",
    "frase = frase.replace('Python','Android')\n",
    "print(frase)"
   ]
  },
  {
   "cell_type": "code",
   "execution_count": null,
   "metadata": {},
   "outputs": [],
   "source": [
    "frase = 'Curso em Vídeo Python'\n",
    "print('Curso' in frase)\n",
    "print(frase.find('Curso')) # qual a posição\n",
    "print(frase.find('video')) # não encontrou por que não tem o acento\n",
    "print(frase.find('vídeo')) # não encontrou por que o v está minúsculo\n",
    "print(frase.lower().find('vídeo')) # encontrou a posição por que o lower transformou tudo em minúsculo"
   ]
  },
  {
   "cell_type": "code",
   "execution_count": null,
   "metadata": {},
   "outputs": [],
   "source": [
    "frase = 'Curso em Vídeo Python'\n",
    "print(frase.split())\n",
    "\n",
    "dividido = frase.split() # splitou e colocou em uma variável chamado 'dividido'\n",
    "print(dividido)\n",
    "\n",
    "print(dividido[0])\n",
    "\n",
    "print(dividido[2][3]) # mostra o segundo do 'dividido' e mostra a letra na posição 3"
   ]
  },
  {
   "attachments": {},
   "cell_type": "markdown",
   "metadata": {},
   "source": [
    "AULA 10 - CONDIÇÕES SIMPLES E COMPOSTAS E SIMPLIFICADAS"
   ]
  },
  {
   "cell_type": "code",
   "execution_count": null,
   "metadata": {},
   "outputs": [],
   "source": [
    "tempo = int(input('Quantos anos tem seu carro?'))\n",
    "if tempo <= 3:\n",
    "    print('Carro novo')\n",
    "else:\n",
    "    print('Carro velho')\n",
    "print('---Fim---')"
   ]
  },
  {
   "cell_type": "code",
   "execution_count": null,
   "metadata": {},
   "outputs": [],
   "source": [
    "tempo = int(input('Quantos anos tem seu carro?'))\n",
    "print('Carro novo' if tempo <= 3 else 'Carro velho')\n",
    "print('---Fim---')"
   ]
  },
  {
   "cell_type": "code",
   "execution_count": null,
   "metadata": {},
   "outputs": [],
   "source": [
    "nome = str(input('Qual é seu nome?'))\n",
    "if nome == 'Ana':\n",
    "    print ('Que nome lindo você tem!')\n",
    "else:\n",
    "    print('Seu nome é tão normal.')\n",
    "print(f'Bom dia, {nome}!')"
   ]
  },
  {
   "cell_type": "code",
   "execution_count": null,
   "metadata": {},
   "outputs": [],
   "source": [
    "n1 = float(input('Digite a primeira nota:'))\n",
    "n2 = float(input('Digite a segunda nota:'))\n",
    "m = (n1 + n2) / 2\n",
    "print(f'A sua média foi {m:.1f}')\n",
    "if m >= 6.00:\n",
    "    print('Sua média foi boa!')\n",
    "else:\n",
    "    print('Sua média foi ruim!')\n",
    "\n",
    "# Outra forma de fazer esse código:\n",
    "\n",
    "print('PARABÉNS!' if m >=6 else 'ESTUDE MAIS!')"
   ]
  },
  {
   "attachments": {},
   "cell_type": "markdown",
   "metadata": {},
   "source": [
    "AULA 11 - CORES NO TERMINAL"
   ]
  },
  {
   "attachments": {},
   "cell_type": "markdown",
   "metadata": {},
   "source": [
    "ANSI\n",
    "escape sequence\n",
    "\\033[_____m]\n",
    "style - text - background\n",
    "\\033[0;33;44m]\n",
    "\n",
    "Style\n",
    "0 None\n",
    "1 Bold\n",
    "4 Underline\n",
    "7 Negative\n",
    "\n",
    "Text\n",
    "30 Branco\n",
    "31 Vermelho\n",
    "32 Verde\n",
    "33 Amarelo\n",
    "34 Azul\n",
    "35 Violeta\n",
    "36 Ciano\n",
    "37 Cinza\n",
    "\n",
    "Background\n",
    "40 Branco\n",
    "41 Vermelho\n",
    "42 Verde\n",
    "43 Amarelo\n",
    "44 Azul\n",
    "45 Violeta\n",
    "46 Ciano\n",
    "47 Cinza"
   ]
  },
  {
   "cell_type": "code",
   "execution_count": null,
   "metadata": {},
   "outputs": [],
   "source": [
    "print('\\033[0;30;41mTeste')\n",
    "print('\\033[4;33;44mTeste')\n",
    "print('\\033[1;35;43mTeste')\n",
    "print('\\033[30;42mTeste')\n",
    "print('\\033[mTeste')\n",
    "print('\\033[7;31mTeste')"
   ]
  },
  {
   "cell_type": "code",
   "execution_count": null,
   "metadata": {},
   "outputs": [],
   "source": [
    "a = 3\n",
    "b = 5\n",
    "print('Os valores são \\033[32m{}\\033[m e \\033[31m{}\\033[m'.format(a, b))\n",
    "# não está cancelando a cor com \\033[m\n"
   ]
  },
  {
   "cell_type": "code",
   "execution_count": null,
   "metadata": {},
   "outputs": [],
   "source": [
    "nome = 'Ana'\n",
    "print('Olá! Muito prazer em te conhecer, {}{}{}!!!'.format('\\033[4;34m', nome, '\\033[m'))"
   ]
  },
  {
   "cell_type": "code",
   "execution_count": null,
   "metadata": {},
   "outputs": [],
   "source": [
    "nome = 'Ana'\n",
    "cores = {'limpa':'\\033[m',\n",
    "         'azul':'\\033[33m',\n",
    "         'amarelo':'\\033[33m',\n",
    "         'pretoebranco':'\\033[7;30m'}\n",
    "print('Olá! Muito prazer em te conhecer, {}{}{}!!!'.format(cores['amarelo'], nome, cores['limpa']))"
   ]
  },
  {
   "attachments": {},
   "cell_type": "markdown",
   "metadata": {},
   "source": [
    "=== BÁSICO ==="
   ]
  },
  {
   "attachments": {},
   "cell_type": "markdown",
   "metadata": {},
   "source": [
    "AULA 12 - CONDIÇÕES ANINHADAS"
   ]
  },
  {
   "attachments": {},
   "cell_type": "markdown",
   "metadata": {},
   "source": [
    "if = se\n",
    "elif = senão se\n",
    "else = senão"
   ]
  },
  {
   "cell_type": "code",
   "execution_count": null,
   "metadata": {},
   "outputs": [],
   "source": [
    "nome = str(input('Qual é seu nome?'))\n",
    "if nome == 'Ana':\n",
    "    print('Que nome bonito!')\n",
    "elif nome == 'Pedro' or nome == 'Maria' or nome == 'Paulo':\n",
    "    print('Seu nome é bem popular no Brasil.')\n",
    "elif nome in 'Ana Claudia Jessica Juliana':\n",
    "    print('Belo nome feminino.')\n",
    "else:\n",
    "    print('Seu nome é bem normal.')\n",
    "print(f'Tenha um bom dia, {nome}!')"
   ]
  },
  {
   "attachments": {},
   "cell_type": "markdown",
   "metadata": {},
   "source": [
    "AULA 13 - ESTRUTURA DE REPETIÇÃO FOR - LAÇOS DE REPETIÇÃO"
   ]
  },
  {
   "attachments": {},
   "cell_type": "markdown",
   "metadata": {},
   "source": [
    "Laços de repetição - Iteração\n",
    "\n",
    "# for = estrutura de repetição com variável de controle\n",
    "\n",
    "for c in range (1, 3):\n",
    "    if algo:\n",
    "        pega\n",
    "    passo\n",
    "    pula\n",
    "passo\n",
    "pega"
   ]
  },
  {
   "cell_type": "code",
   "execution_count": null,
   "metadata": {},
   "outputs": [],
   "source": [
    "from time import sleep\n",
    "for c in range (1, 6): # conta 5x 'Oi'\n",
    "    print('Oi')\n",
    "    sleep(0.2)\n",
    "print('Fim')"
   ]
  },
  {
   "cell_type": "code",
   "execution_count": null,
   "metadata": {},
   "outputs": [],
   "source": [
    "from time import sleep\n",
    "for c in range (1, 6): # conta de 1 a 5\n",
    "    print(c)\n",
    "    sleep(0.2)\n",
    "print('Fim')"
   ]
  },
  {
   "cell_type": "code",
   "execution_count": null,
   "metadata": {},
   "outputs": [],
   "source": [
    "from time import sleep\n",
    "for c in range (6, 0, -1): # para contar ao contrário\n",
    "    print(c)\n",
    "    sleep(0.2)\n",
    "print('Fim')"
   ]
  },
  {
   "cell_type": "code",
   "execution_count": null,
   "metadata": {},
   "outputs": [],
   "source": [
    "from time import sleep\n",
    "for c in range (0, 7, 2): # conta de 2 em 2\n",
    "    print(c)\n",
    "    sleep(0.2)\n",
    "print('Fim')"
   ]
  },
  {
   "cell_type": "code",
   "execution_count": null,
   "metadata": {},
   "outputs": [],
   "source": [
    "n = int(input('Digite um número:'))\n",
    "for c in range(0, n+1): # para contar de 0 até o número digitado\n",
    "    print(c)\n",
    "print('Fim')"
   ]
  },
  {
   "cell_type": "code",
   "execution_count": null,
   "metadata": {},
   "outputs": [],
   "source": [
    "i = int(input('Início:'))\n",
    "f = int(input('Fim:'))\n",
    "p = int(input('Passo:'))\n",
    "for c in range(i, f+1, p): # vai começar e terminar pelo digitado ao passo de p\n",
    "    print(c)\n",
    "print('Fim')"
   ]
  },
  {
   "cell_type": "code",
   "execution_count": null,
   "metadata": {},
   "outputs": [],
   "source": [
    "s = 0 # atribui um valor a s\n",
    "for c in range(0, 3): # quantas vezes vai pedir input de n\n",
    "    n = int(input('Digite um valor:'))\n",
    "    s += n # faz um somatório dos números que foram digitados\n",
    "print(f'O somatório de todos os valores foi: {s}')"
   ]
  },
  {
   "attachments": {},
   "cell_type": "markdown",
   "metadata": {},
   "source": [
    "AULA 14 - ESTRUTURA DE REPETIÇÃO WHILE - LAÇOS DE REPETIÇÃO"
   ]
  },
  {
   "attachments": {},
   "cell_type": "markdown",
   "metadata": {},
   "source": [
    "Laços de repetição\n",
    "\n",
    "# while = estrutura de repetição com teste lógico\n",
    "\n",
    "while not chega na maça:\n",
    "    if tiver um chão:\n",
    "        passo\n",
    "    if tiver um buraco:\n",
    "        pular\n",
    "    if tiver uma moeda:\n",
    "        pega\n",
    "pega"
   ]
  },
  {
   "cell_type": "code",
   "execution_count": null,
   "metadata": {},
   "outputs": [],
   "source": [
    "# MESMO RESULTADO\n",
    "\n",
    "'''for c in range(1, 10):\n",
    "    print(c)\n",
    "print('Fim')'''\n",
    "\n",
    "c = 1\n",
    "while c < 10:\n",
    "    print (c)\n",
    "    c = c + 1\n",
    "print('Fim')"
   ]
  },
  {
   "cell_type": "code",
   "execution_count": null,
   "metadata": {},
   "outputs": [],
   "source": [
    "# Vai pedir pra digitar 4 valores\n",
    "for c in range(1, 5):\n",
    "    n = int(input('Digite um valor:'))\n",
    "print('Fim')"
   ]
  },
  {
   "cell_type": "code",
   "execution_count": null,
   "metadata": {},
   "outputs": [],
   "source": [
    "# Vai pedir pra digitar valores até ser digitado o 0\n",
    "n = 1\n",
    "while n != 0: # enquanto n for diferente de zero\n",
    "    n = int(input('Digite um valor:'))\n",
    "print('Fim')"
   ]
  },
  {
   "cell_type": "code",
   "execution_count": null,
   "metadata": {},
   "outputs": [],
   "source": [
    "# continua até digitar não\n",
    "r = 'S'\n",
    "while r == 'S':\n",
    "    n = int(input('Digite um valor:'))\n",
    "    r = str(input('Quer continuar? [S/N]')).upper()\n",
    "print('Fim')"
   ]
  },
  {
   "cell_type": "code",
   "execution_count": null,
   "metadata": {},
   "outputs": [],
   "source": [
    "n = 1\n",
    "par = 0\n",
    "impar = 0\n",
    "while n != 0:\n",
    "    n = int(input('Digite um valor:'))\n",
    "    if n != 0:\n",
    "        if n % 2 == 0:\n",
    "            par += 1\n",
    "        else:\n",
    "            impar += 1\n",
    "print(f'Você digitou {par} pares e {impar} ímpares!')"
   ]
  },
  {
   "attachments": {},
   "cell_type": "markdown",
   "metadata": {},
   "source": [
    "AULA 15 - INTERROMPENDO REPETIÇÕES WHILE"
   ]
  },
  {
   "attachments": {},
   "cell_type": "markdown",
   "metadata": {},
   "source": [
    "Interrompendo repetição\n",
    "\n",
    "# while = estrutura de repetição com teste lógico\n",
    "\n",
    "while True:\n",
    "    if tiver um chão:\n",
    "        passo\n",
    "    if tiver um buraco:\n",
    "        pular\n",
    "    if tiver uma moeda:\n",
    "        pega\n",
    "    if tiver um trofeu:\n",
    "        pula\n",
    "        break\n",
    "pega\n",
    "\n",
    "# O comando break interrompe e joga pra fora do while"
   ]
  },
  {
   "cell_type": "code",
   "execution_count": null,
   "metadata": {},
   "outputs": [],
   "source": [
    "cont = 1\n",
    "# Se escrever while True: ele vai executar pra sempre até o momento que vc aperta o stop ou tem o comando break\n",
    "while cont <= 10:\n",
    "    print(cont, '->', end=' ')\n",
    "    cont += 1\n",
    "print('Acabou')"
   ]
  },
  {
   "cell_type": "code",
   "execution_count": null,
   "metadata": {},
   "outputs": [],
   "source": [
    "n = 0\n",
    "while n != 999:\n",
    "    n = int(input('Digite um número:'))"
   ]
  },
  {
   "cell_type": "code",
   "execution_count": null,
   "metadata": {},
   "outputs": [],
   "source": [
    "n = cont = 0\n",
    "while cont < 5:\n",
    "    n = int(input('Digite um número:'))\n",
    "    cont += 1"
   ]
  },
  {
   "cell_type": "code",
   "execution_count": null,
   "metadata": {},
   "outputs": [],
   "source": [
    "# Criando o looping infinito\n",
    "n = s = 0\n",
    "while True:\n",
    "    n = int(input('Digite um número:'))\n",
    "    if n == 999:\n",
    "        break # pula diretamente para o fim do programa - print\n",
    "    s += n\n",
    "print(f'A soma vale {s}')"
   ]
  },
  {
   "cell_type": "code",
   "execution_count": null,
   "metadata": {},
   "outputs": [],
   "source": [
    "# Com f string (format string)\n",
    "nome = 'José'\n",
    "idade = 33\n",
    "salário = 987.3\n",
    "print(f'O {nome:-<20} tem {idade} anos e ganha R${salário:.2f}')"
   ]
  },
  {
   "cell_type": "markdown",
   "metadata": {},
   "source": [
    "# Variáveis Compostas - Tuplas, Listas, Dicionários\n",
    "Rotinas\n",
    "Tratamento de erros\n",
    "\n",
    "Tupla ()\n",
    "Lista []\n",
    "Dicionário {}"
   ]
  },
  {
   "cell_type": "markdown",
   "metadata": {},
   "source": [
    "AULA 16 - TUPLAS"
   ]
  },
  {
   "cell_type": "markdown",
   "metadata": {},
   "source": [
    "TUPLAS SÃO IMUTÁVEIS"
   ]
  },
  {
   "cell_type": "code",
   "execution_count": null,
   "metadata": {},
   "outputs": [],
   "source": [
    "lanche = ('Hamburger', 'Suco', 'Pizza', 'Pudim')\n",
    "print (lanche) #tudo\n",
    "print (lanche[1]) #suco\n",
    "print (lanche[-1]) #pudim\n",
    "print (lanche[1:3]) #suco, pizza\n",
    "print (lanche[2:]) #pizza até o fim\n",
    "print (lanche[:2]) #do início até o anterior ao elemento 2\n",
    "print (lanche[-2:]) #comça na pizza até o fim"
   ]
  },
  {
   "cell_type": "code",
   "execution_count": null,
   "metadata": {},
   "outputs": [],
   "source": [
    "lanche = ('Hamburger', 'Suco', 'Pizza', 'Pudim')\n",
    "for comida in lanche:\n",
    "    print(f'Eu vou comer {comida}')\n",
    "print('Comi pra caramba!')"
   ]
  },
  {
   "cell_type": "code",
   "execution_count": null,
   "metadata": {},
   "outputs": [],
   "source": [
    "lanche = ('Hamburger', 'Suco', 'Pizza', 'Pudim')\n",
    "print(len(lanche))"
   ]
  },
  {
   "cell_type": "code",
   "execution_count": null,
   "metadata": {},
   "outputs": [],
   "source": [
    "lanche = ('Hamburger', 'Suco', 'Pizza', 'Pudim')\n",
    "for cont in range(0, len(lanche)):\n",
    "    print(cont) #devolve o numero\n",
    "    print(lanche[cont]) #devolve a palavra\n",
    "    print(f'Eu vou comer {lanche[cont]}') #responde com a frase\n",
    "    print(f'Eu vou comer {lanche[cont]} na posição {cont}') #responde com a frase e número"
   ]
  },
  {
   "cell_type": "code",
   "execution_count": null,
   "metadata": {},
   "outputs": [],
   "source": [
    "lanche = ('Hamburger', 'Suco', 'Pizza', 'Pudim')\n",
    "for pos, comida in enumerate(lanche):\n",
    "    print(f'Eu vou comer {comida} na posição {pos}')"
   ]
  },
  {
   "cell_type": "code",
   "execution_count": null,
   "metadata": {},
   "outputs": [],
   "source": [
    "lanche = ('Hamburger', 'Suco', 'Pizza', 'Pudim', 'Batata Frita')\n",
    "print(sorted(lanche)) #mostrar em ordem"
   ]
  },
  {
   "cell_type": "code",
   "execution_count": null,
   "metadata": {},
   "outputs": [],
   "source": [
    "a = (2, 5, 4)\n",
    "b = (5, 8, 1, 2)\n",
    "c = b + a\n",
    "print(a)\n",
    "print(b)\n",
    "print(c)\n",
    "print(len(c)) #quantos itens tem na tupla\n",
    "print(c.count(5)) #quantoas vezes '5' tem na tupla\n",
    "print(c.index(5)) #em que posicao está o 5 - sempre a primeira ocorrencia\n",
    "print(c.index(5, 1)) #em que posicao está o 5 - a partir da posição 1"
   ]
  },
  {
   "cell_type": "code",
   "execution_count": null,
   "metadata": {},
   "outputs": [],
   "source": [
    "pessoa = ('Gustavo', 39, 'M', 99.88)\n",
    "del(pessoa) #deleta a tupla inteira\n",
    "print(pessoa)"
   ]
  },
  {
   "cell_type": "markdown",
   "metadata": {},
   "source": [
    "AULA 17 - Listas (parte 1)"
   ]
  },
  {
   "cell_type": "markdown",
   "metadata": {},
   "source": [
    "Listas podem ser modificadas\n",
    "\n",
    "adicionar ao final -> lanche.append('cockie')\n",
    "\n",
    "adicionar antes -> lanche.insert(0,'cockie')\n",
    "\n",
    "deletar -> del lanche[3]\n",
    "lanche.pop() -> remove o último elemento\n",
    "lanche.pop(3) -> remove pelo indice\n",
    "lanche.remove('cockie') -> remove pelo elemento\n",
    "\n",
    "if 'cockie' in lanche:\n",
    "    lanche.remove('cockie')\n",
    "\n",
    "criar listas a partir de ranges\n",
    "valores=list(range(4,11))\n",
    "\n",
    "valores.sort() -> colocar em ordem no indice\n",
    "valores.sort(reverse=True) -> ordena na ordem reversa\n",
    "len(valores) -> quantidade de elementos"
   ]
  },
  {
   "cell_type": "code",
   "execution_count": null,
   "metadata": {},
   "outputs": [],
   "source": [
    "num = [2, 5, 9, 1]\n",
    "print(num)\n",
    "\n",
    "num[2] = 3 # trocar valores\n",
    "print(num)\n",
    "\n",
    "num.append(7) # adicionar valores\n",
    "print(num)\n",
    "\n",
    "num.sort() # colocar em ordem\n",
    "print(num)\n",
    "\n",
    "num.sort(reverse=True) # sort reverso\n",
    "print(num)\n",
    "\n",
    "print(f'Essa lista tem {len(num)} elementos.')\n",
    "\n",
    "num.insert(2, 0) # na posição 2, insere 0\n",
    "print(num)\n",
    "\n",
    "num.pop() # elimina o ultimo valor\n",
    "print(num)\n",
    "\n",
    "num.pop(2) # elimina elemento 2\n",
    "print(num)"
   ]
  },
  {
   "cell_type": "code",
   "execution_count": null,
   "metadata": {},
   "outputs": [],
   "source": [
    "num = [7, 5, 0, 3, 2, 1]\n",
    "num.insert(2, 2) # na posição 2, insere 2\n",
    "print(num)\n",
    "\n",
    "num.remove(2) # remove o primeiro elemento 2 - inicio da lista\n",
    "print(num)\n",
    "\n",
    "if 4 in num:\n",
    "    num.remove(4)\n",
    "else:\n",
    "    print('Não achei o número 4')   "
   ]
  },
  {
   "cell_type": "code",
   "execution_count": null,
   "metadata": {},
   "outputs": [],
   "source": [
    "valores = []\n",
    "valores.append(5)\n",
    "valores.append(9)\n",
    "valores.append(4)\n",
    "\n",
    "print(valores)\n",
    "\n",
    "for v in valores:\n",
    "    print(f'{v}...', end='')\n",
    "\n",
    "for c, v in enumerate(valores):\n",
    "    print(f'\\nNa posição {c} encontrei o valor {v}...', end='')\n",
    "print('\\nCheguei ao final da lista.')"
   ]
  },
  {
   "cell_type": "code",
   "execution_count": null,
   "metadata": {},
   "outputs": [],
   "source": [
    "valores = list()\n",
    "for cont in range(0, 5):\n",
    "    valores.append(int(input('Digite um valor: ')))\n",
    "\n",
    "print(valores)\n",
    "\n",
    "\n",
    "for c, v in enumerate(valores):\n",
    "    print(f'Na posição {c} encontrei o valor {v}...')\n",
    "print('Cheguei ao final da lista.')"
   ]
  },
  {
   "cell_type": "code",
   "execution_count": null,
   "metadata": {},
   "outputs": [],
   "source": [
    "a = [2, 3, 4, 7]\n",
    "b = a # faz uma ligação de uma lista com a outra\n",
    "print(f'Lista A1: {a}')\n",
    "print(f'Lista B1: {b}')\n",
    "\n",
    "b[2] = 0\n",
    "print(f'Lista A1: {a}')\n",
    "print(f'Lista B1: {b}')\n",
    "\n",
    "a = [2, 3, 4, 7]\n",
    "b = a[:] # faz uma cópia dos valores de a\n",
    "print(f'Lista A2: {a}')\n",
    "print(f'Lista B2: {b}')\n",
    "\n",
    "b[2] = 0\n",
    "print(f'Lista A2: {a}')\n",
    "print(f'Lista B2: {b}')"
   ]
  },
  {
   "cell_type": "markdown",
   "metadata": {},
   "source": [
    "AULA 18 - Listas (Parte 2)"
   ]
  },
  {
   "cell_type": "markdown",
   "metadata": {},
   "source": [
    "dados = list()\n",
    "dados = []\n",
    "\n",
    "dados.append('Pedro')\n",
    "dados.append(25)\n",
    "['Pedro', 25]\n",
    "\n",
    "pessoas = []\n",
    "pessoas.append(dados[:]) gera um fatiamento (cópia)\n",
    "a lista de dados [0]\n",
    "\n",
    "pessoas = [['Pedro',25],['Maria',19],['João',32]]\n",
    "1,2,3\n",
    "\n",
    "print(pessoas[0][0])\n",
    "Pedro\n",
    "\n",
    "print(pessoas[1][1])\n",
    "19\n",
    "\n",
    "print(pessoas[2][0])\n",
    "João\n",
    "\n",
    "print(pessoas[1])\n",
    "['Maria', 19]"
   ]
  },
  {
   "cell_type": "code",
   "execution_count": null,
   "metadata": {},
   "outputs": [],
   "source": [
    "teste = list()\n",
    "teste.append('Gustavo')\n",
    "teste.append(40)\n",
    "\n",
    "galera = list()\n",
    "galera.append(teste)\n",
    "teste[0] = 'Maria'\n",
    "teste [1] = 22\n",
    "\n",
    "print(teste)\n",
    "print(galera)"
   ]
  },
  {
   "cell_type": "code",
   "execution_count": null,
   "metadata": {},
   "outputs": [],
   "source": [
    "teste = list()\n",
    "teste.append('Gustavo')\n",
    "teste.append(40)\n",
    "\n",
    "galera = list()\n",
    "galera.append(teste[:]) # [:] cria a cópia\n",
    "teste[0] = 'Maria'\n",
    "teste [1] = 22\n",
    "\n",
    "print(teste)\n",
    "print(galera)"
   ]
  },
  {
   "cell_type": "code",
   "execution_count": null,
   "metadata": {},
   "outputs": [],
   "source": [
    "galera = [['João', 19], ['Ana', 33], ['Joaquim', 13], ['Maria', 45]]\n",
    "\n",
    "print(galera)\n",
    "print(galera[0])\n",
    "print(galera[0][0])"
   ]
  },
  {
   "cell_type": "code",
   "execution_count": null,
   "metadata": {},
   "outputs": [],
   "source": [
    "galera = [['João', 19], ['Ana', 33], ['Joaquim', 13], ['Maria', 45]]\n",
    "\n",
    "for p in galera:\n",
    "    print(p)\n",
    "\n",
    "for p in galera:\n",
    "    print(p[1])\n",
    "\n",
    "for p in galera:\n",
    "    print(f'{p[0]} tem {p[1]} anos de idade')"
   ]
  },
  {
   "cell_type": "code",
   "execution_count": null,
   "metadata": {},
   "outputs": [],
   "source": [
    "galera = list()\n",
    "dado = list()\n",
    "\n",
    "for c in range(3):\n",
    "    dado.append(str(input('Nome:')))\n",
    "    dado.append(int(input('Idade: ')))\n",
    "    galera.append(dado[:]) # [:] copia o dado pra galera, aí não apaga quando der clear em dado\n",
    "    dado.clear()\n",
    "\n",
    "print(galera)\n",
    "\n",
    "totmai = totmen = 0\n",
    "for p in galera:\n",
    "    if p[1] >= 21:\n",
    "        print(f'{p[0]} é maior de idade.')\n",
    "        totmai += 1\n",
    "    else:\n",
    "        print(f'{p[0]} é menor de idade.')\n",
    "        totmen += 1\n",
    "\n",
    "print(f'Temos {totmai} maiores e {totmen} menores de idade.')"
   ]
  },
  {
   "cell_type": "markdown",
   "metadata": {},
   "source": [
    "AULA 19 - VARIÁVEIS COMPOSTAS (DICIONÁRIOS)"
   ]
  },
  {
   "cell_type": "markdown",
   "metadata": {},
   "source": [
    "lista\n",
    "dados = list()\n",
    "dados.append('Pedro')\n",
    "dados.append(25)\n",
    "print(dados[0]) Pedro\n",
    "prind(dados[1]) 25"
   ]
  },
  {
   "cell_type": "markdown",
   "metadata": {},
   "source": [
    "Tuplas ()\n",
    "Listas []\n",
    "Dicionários {}"
   ]
  },
  {
   "cell_type": "markdown",
   "metadata": {},
   "source": [
    "dicionários (personalizar os índices)\n",
    "\n",
    "dados = dict()\n",
    "dados = {}\n",
    "\n",
    "dados = {'nome':'Pedro', 'idade':25}\n",
    "print(dados['nome']) Pedro\n",
    "print(dados['idade']) 25\n",
    "\n",
    "dados['sexo'] = 'M' #para adicionar ao dicionáio\n",
    "deldados['idade'] #para deletar elementos\n",
    "\n",
    "filme = {'titulo':'Star Wars',\n",
    "        'ano':1977,\n",
    "        'diretor':'George Lucas'\n",
    "        }\n",
    "\n",
    "print(filmes.values()) #printar valores\n",
    "print(filmes.keys()) #printar as chaves (o que está embaixo)\n",
    "print(filmes.items()) #printar tudo\n",
    "\n",
    "#pode utilizar em for\n",
    "for k, v in filme.items():\n",
    "    print(f'O {k} é {v}')\n",
    "    O titulo é Star Wars\n",
    "    O ano é 1977\n",
    "    O diretor é George Lucas\n",
    "\n",
    "da pra colocar esse filme dentro de outra lista, deixando cada filme (dicionário) em cada chave\n",
    "\n",
    "print(locadora[0]['ano']) 1977\n",
    "print(locadora[2]['titulo']) Avangers"
   ]
  },
  {
   "cell_type": "code",
   "execution_count": null,
   "metadata": {},
   "outputs": [],
   "source": [
    "pessoas = {'nome':'Gustavo', 'sexo':'M', 'idade':22}\n",
    "print(pessoas)\n",
    "print(pessoas['nome'])\n",
    "print(pessoas['idade'])\n",
    "print(f'O {pessoas[\"nome\"]} tem {pessoas[\"idade\"]} anos.')\n",
    "print(pessoas.keys())\n",
    "print(pessoas.values())\n",
    "print(pessoas.items()) #representa em tuplas\n",
    "\n",
    "for k in pessoas.keys():\n",
    "    print(k)\n",
    "\n",
    "for k in pessoas.values():\n",
    "    print(k)\n",
    "\n",
    "for k, v in pessoas.items(): #enumerate não funciona em dicionários, e sim o items\n",
    "    print(f'{k} = {v}')\n",
    "\n",
    "pessoas['nome'] = 'Leandro'\n",
    "for k, v in pessoas.items():\n",
    "    print(f'{k} = {v}')\n",
    "\n",
    "pessoas['peso'] = 98.5 #não precisa dar o append\n",
    "for k, v in pessoas.items():\n",
    "    print(f'{k} = {v}')\n",
    "\n",
    "del pessoas['sexo']\n",
    "for k, v in pessoas.items():\n",
    "    print(f'{k} = {v}')"
   ]
  },
  {
   "cell_type": "code",
   "execution_count": null,
   "metadata": {},
   "outputs": [],
   "source": [
    "# criar um dicionario dentro de uma lista\n",
    "\n",
    "brasil = [] #lista\n",
    "estado1 = {'uf': 'Rio de Janeiro', 'sigla': 'RJ'}\n",
    "estado2 = {'uf': 'São Paulo', 'sigla': 'SP'}\n",
    "brasil.append(estado1)\n",
    "brasil.append(estado2)\n",
    "\n",
    "print(estado1)\n",
    "print(estado2)\n",
    "print(brasil)\n",
    "print(brasil[0])\n",
    "print(brasil[1])\n",
    "print(brasil[0]['uf'])\n",
    "print(brasil[1]['uf'])"
   ]
  },
  {
   "cell_type": "code",
   "execution_count": null,
   "metadata": {},
   "outputs": [],
   "source": [
    "estado = dict()\n",
    "brasil = list()\n",
    "\n",
    "for c in range (0, 3):\n",
    "    estado['uf'] = str(input('Unidade Federativa: '))\n",
    "    estado['sigla'] = str(input('Sigla do Estado: '))\n",
    "    brasil.append(estado.copy())\n",
    "\n",
    "for e in brasil:\n",
    "    print(e)\n",
    "print('---')\n",
    "for e in brasil:\n",
    "    for k, v in e.items():\n",
    "        print(f'O campo {k} tem valor {v}')\n",
    "print('---')\n",
    "for e in brasil:\n",
    "    for v in e.values():\n",
    "        print(v)\n",
    "print('---')\n",
    "for e in brasil:\n",
    "    for v in e.values():\n",
    "        print(v, end=' ')\n",
    "    print()"
   ]
  },
  {
   "cell_type": "markdown",
   "metadata": {},
   "source": [
    "AULA 20 - FUNÇÕES (PARTE 1)"
   ]
  },
  {
   "cell_type": "markdown",
   "metadata": {},
   "source": [
    "Funções - def's do python\n",
    "\n",
    "# Funções = ROTINA\n",
    "\n",
    "funcionalidades já aprendidas:\n",
    "print()\n",
    "len()\n",
    "input()\n",
    "int()\n",
    "float()\n",
    "\n",
    "criar uma função para mostrar a linha: mostraLinha()"
   ]
  },
  {
   "cell_type": "code",
   "execution_count": null,
   "metadata": {},
   "outputs": [],
   "source": [
    "# SEM DEF\n",
    "print('-' * 30)\n",
    "print('SISTEMA DE ALUNOS')\n",
    "print('-' * 30)"
   ]
  },
  {
   "cell_type": "code",
   "execution_count": null,
   "metadata": {},
   "outputs": [],
   "source": [
    "# COM DEF\n",
    "def mostraLinha():\n",
    "    print('-' * 30)\n",
    "\n",
    "mostraLinha()\n",
    "print('SISTEMA DE ALUNOS')\n",
    "mostraLinha()"
   ]
  },
  {
   "cell_type": "code",
   "execution_count": null,
   "metadata": {},
   "outputs": [],
   "source": [
    "# CRIAR UM COMANDO PERSONALIZADO PARA SE ADAPTAR AOS PARÂMETROS\n",
    "\n",
    "def mensagem(msg):\n",
    "    print('-' * 30)\n",
    "    print(msg)\n",
    "    print('-' * 30)\n",
    "\n",
    "mensagem('SISTEMA DE ALUNOS')"
   ]
  },
  {
   "cell_type": "code",
   "execution_count": null,
   "metadata": {},
   "outputs": [],
   "source": [
    "# SEM DEF\n",
    "a = 4\n",
    "b = 5\n",
    "s = a + b\n",
    "print(s)\n",
    "\n",
    "a = 8\n",
    "b = 9\n",
    "s = a + b\n",
    "print(s)\n",
    "\n",
    "a = 2\n",
    "b = 1\n",
    "s = a + b\n",
    "print(s)"
   ]
  },
  {
   "cell_type": "code",
   "execution_count": null,
   "metadata": {},
   "outputs": [],
   "source": [
    "# COM DEF\n",
    "def soma(a, b):\n",
    "    s = a + b\n",
    "    print(s)\n",
    "\n",
    "soma(4, 5)\n",
    "soma(8, 9)\n",
    "soma(2, 1)\n",
    "\n",
    "soma(a=4, b=5)\n",
    "soma(b=8, a=9)"
   ]
  },
  {
   "cell_type": "code",
   "execution_count": null,
   "metadata": {},
   "outputs": [],
   "source": [
    "# COM FORMAT NO DEF\n",
    "def soma(a, b):\n",
    "    print(f'A = {a} e B = {b}')\n",
    "    s = a + b\n",
    "    print(f'A soma de A + B = {s}')\n",
    "\n",
    "soma(4, 5)\n",
    "print()\n",
    "soma(b=8, a=9)"
   ]
  },
  {
   "cell_type": "code",
   "execution_count": null,
   "metadata": {},
   "outputs": [],
   "source": [
    "# DESEMPACOTAR - colocar vários parâmetros\n",
    "def contador(*num):\n",
    "    print(num)\n",
    "\n",
    "contador(5, 7, 4, 1, 4)\n",
    "contador(8, 4, 7)"
   ]
  },
  {
   "cell_type": "code",
   "execution_count": null,
   "metadata": {},
   "outputs": [],
   "source": [
    "def contador(*num):\n",
    "    for valor in num:\n",
    "        print(f'{valor}', end=' ')\n",
    "    print('FIM!')\n",
    "\n",
    "contador(5, 7, 4, 1, 4)\n",
    "contador(8, 4, 7)"
   ]
  },
  {
   "cell_type": "code",
   "execution_count": null,
   "metadata": {},
   "outputs": [],
   "source": [
    "def contador(*num):\n",
    "    tam = len(num)\n",
    "    print(f'Recebi os valores {num} que são {tam} números')\n",
    "\n",
    "contador(5, 7, 4, 1, 4)\n",
    "contador(8, 4, 7)"
   ]
  },
  {
   "cell_type": "code",
   "execution_count": null,
   "metadata": {},
   "outputs": [],
   "source": [
    "# LISTAS - com índices\n",
    "# dobrar valores dentro de uma lista\n",
    "def dobra(lst):\n",
    "    pos = 0\n",
    "    while pos < len(lst):\n",
    "        lst[pos] *=2\n",
    "        pos += 1\n",
    "\n",
    "valores = [7, 2, 5, 0, 4]\n",
    "dobra(valores)\n",
    "print(valores)"
   ]
  },
  {
   "cell_type": "code",
   "execution_count": null,
   "metadata": {},
   "outputs": [],
   "source": [
    "# LISTAS - com índices\n",
    "# + DESEMPACOTAR\n",
    "def soma(* valores):\n",
    "    s = 0\n",
    "    for num in valores:\n",
    "        s+= num\n",
    "    print(f'Somando os valores {valores} temos {s}')\n",
    "\n",
    "soma(5, 2)\n",
    "soma(2, 9, 4)"
   ]
  },
  {
   "cell_type": "markdown",
   "metadata": {},
   "source": [
    "AULA 21 - FUNÇÕES (PARTE 2)"
   ]
  },
  {
   "cell_type": "markdown",
   "metadata": {},
   "source": [
    "Interactive Help\n",
    "\n",
    "Docstrings\n",
    "\n",
    "Argumentos opcionais\n",
    "\n",
    "Escopo de variáveis\n",
    "\n",
    "Retorno de resultados"
   ]
  },
  {
   "cell_type": "markdown",
   "metadata": {},
   "source": [
    "Interactive Help = Ajuda interativa\n",
    "\n",
    "help()\n",
    "\n",
    "e depois digita qualquer comando ou biblioteca do python no prompt\n",
    "\n",
    "pra sair é só clicar em ESC ou digitar quit\n",
    "\n",
    "pode colocar help(print) para vir os parametros de print\n",
    "\n",
    "print(input.__doc__) para aparecer a documentação do input"
   ]
  },
  {
   "cell_type": "code",
   "execution_count": null,
   "metadata": {},
   "outputs": [],
   "source": [
    "help()"
   ]
  },
  {
   "cell_type": "code",
   "execution_count": null,
   "metadata": {},
   "outputs": [],
   "source": [
    "help(print)"
   ]
  },
  {
   "cell_type": "code",
   "execution_count": null,
   "metadata": {},
   "outputs": [],
   "source": [
    "print(input.__doc__)"
   ]
  },
  {
   "cell_type": "markdown",
   "metadata": {},
   "source": [
    "Doctrings\n",
    "\n",
    "Uma string de documentação\n",
    "\n",
    "def contador(i, f, p):\n",
    "o que é i, o que é f, o que é p?\n",
    "\n",
    "contador(2, 10, 2)\n",
    "i= 2\n",
    "f = 10\n",
    "p = 2\n",
    "\n",
    "# codigo de um contador\n",
    "def contador(i, f, p):\n",
    "    c = i\n",
    "    while c <= f:\n",
    "        print(f'{c}', end='..')\n",
    "        c += p\n",
    "    print('FIM!')\n",
    "\n",
    "pra descobrir o que é: contador(2, 10, 2)\n",
    "\n",
    "help(contador) mostra apenas os parâmetros\n",
    "\n",
    "# para criar a doctrings:\n",
    "def contador(i, f, p):\n",
    "    \"\"\"\n",
    "    COLOCAR A DOCUMENTAÇÃO AQUI\n",
    "    \"\"\"\n",
    "    c = i\n",
    "    while c <= f:\n",
    "        print(f'{c}', end='..')\n",
    "        c += p\n",
    "    print('FIM!')\n",
    "\n",
    "help(contador)"
   ]
  },
  {
   "cell_type": "code",
   "execution_count": null,
   "metadata": {},
   "outputs": [],
   "source": [
    "def contador(i, f, p):\n",
    "    \"\"\"\n",
    "    -> Faz uma contagem e mostra na tela.\n",
    "    :param i: inicio da contagem\n",
    "    :param f: fim da contagem\n",
    "    :param p: passo da contagem\n",
    "    :retunr: sem retorno\n",
    "    \"\"\"\n",
    "    c = i\n",
    "    while c <= f:\n",
    "        print(f'{c}', end=' ')\n",
    "        c += p\n",
    "    print('FIM!')\n",
    "\n",
    "help(contador)"
   ]
  },
  {
   "cell_type": "markdown",
   "metadata": {},
   "source": [
    "Parâmetros opcionais\n",
    "\n",
    "def somar(a, b, c = 0): # se não tiver c para receber, ele recebe zero\n",
    "    s= a + b + c\n",
    "    print(f'A soma vale{s}')\n",
    "\n",
    "somar(3, 2, 5)\n",
    "somas(a, b) "
   ]
  },
  {
   "cell_type": "code",
   "execution_count": null,
   "metadata": {},
   "outputs": [],
   "source": [
    "def somar(a, b, c = 0):\n",
    "    \"\"\"\n",
    "    -> Faz uma soma de tres valores e mostra na tela.\n",
    "    :param a: o primeiro valor\n",
    "    :param b: o segundo valor\n",
    "    :param b: o terceiro valor\n",
    "    \"\"\"\n",
    "    s= a + b + c\n",
    "    print(f'A soma vale {s}')\n",
    "\n",
    "somar(3, 2, 5)\n",
    "somar(8, 4) "
   ]
  },
  {
   "cell_type": "code",
   "execution_count": null,
   "metadata": {},
   "outputs": [],
   "source": [
    "def somar(a = 0, b = 0, c = 0):\n",
    "    s= a + b + c\n",
    "    print(f'A soma vale {s}')\n",
    "\n",
    "somar(3, 2, 5)\n",
    "somar(8, 4)\n",
    "somar()\n",
    "somar(b=4, c=2)\n",
    "somar(c=1, a=9)"
   ]
  },
  {
   "cell_type": "markdown",
   "metadata": {},
   "source": [
    "Escopo de variáveis\n",
    "\n",
    "Escopo é o local onde uma variável vai existir e o local onde a variável não vai mais existir"
   ]
  },
  {
   "cell_type": "code",
   "execution_count": null,
   "metadata": {},
   "outputs": [],
   "source": [
    "def teste():\n",
    "    x = 8\n",
    "    print(f'Na função teste, n vale {n}')\n",
    "    print(f'Na função teste, x vale {x}')\n",
    "    # A função x só funciona dentro do teste.\n",
    "    # x váriavel local\n",
    "\n",
    "# Programa principal\n",
    "n = 2 # variável global\n",
    "print(f'No programa principal, n vale {n}')\n",
    "teste()\n",
    "\n",
    "# Não vai funcionar\n",
    "#print(f'No programa principal, x vale {x}')"
   ]
  },
  {
   "cell_type": "code",
   "execution_count": null,
   "metadata": {},
   "outputs": [],
   "source": [
    "a = 5 # variável global\n",
    "\n",
    "def teste(b):\n",
    "    b += 4\n",
    "    c = 2\n",
    "    print(f'A dentro vale {a}') # escreve 5\n",
    "    print(f'B dentro vale {b}') # escreve 9\n",
    "    print(f'C dentro vale {c}') # escreve 2\n",
    "\n",
    "teste(a)\n",
    "print(f'A fora vale {a}') # escreve 5\n",
    "print(f'B dentro vale {b}') # daria erro por falta de escopo\n",
    "print(f'C dentro vale {c}') # daria erro por falta de escopo"
   ]
  },
  {
   "cell_type": "code",
   "execution_count": null,
   "metadata": {},
   "outputs": [],
   "source": [
    "def teste(b):\n",
    "    b += 4\n",
    "    c = 2\n",
    "    a = 8 # cria uma variável local\n",
    "    print(f'A dentro vale {a}') # escreve 8\n",
    "    print(f'B dentro vale {b}') # escreve 9\n",
    "    print(f'C dentro vale {c}') # escreve 2\n",
    "\n",
    "a = 5 # variável global\n",
    "teste(a)\n",
    "print(f'A fora vale {a}') # escreve 5"
   ]
  },
  {
   "cell_type": "code",
   "execution_count": null,
   "metadata": {},
   "outputs": [],
   "source": [
    "def funcao():\n",
    "    n1 = 4 #local\n",
    "    print(f'N1 dentro vale {n1}')\n",
    "\n",
    "n1 = 2 #global\n",
    "funcao()\n",
    "print(f'N1 fora vale {n1}')"
   ]
  },
  {
   "cell_type": "code",
   "execution_count": null,
   "metadata": {},
   "outputs": [],
   "source": [
    "# adicionando global dentro do local\n",
    "\n",
    "def teste(b):\n",
    "    global a\n",
    "    a = 8 # a para de valer 5 e vale 8 no global\n",
    "    b += 4\n",
    "    c = 2\n",
    "    print(f'A dentro vale {a}') # escreve 8\n",
    "    print(f'B dentro vale {b}') # escreve 9\n",
    "    print(f'C dentro vale {c}') # escreve 2\n",
    "\n",
    "a = 5 # variável global\n",
    "teste(a)\n",
    "print(f'A fora vale {a}') # escreve 5"
   ]
  },
  {
   "cell_type": "markdown",
   "metadata": {},
   "source": [
    "Retornando valores\n",
    "\n",
    "return"
   ]
  },
  {
   "cell_type": "code",
   "execution_count": null,
   "metadata": {},
   "outputs": [],
   "source": [
    "# sem resultado\n",
    "def somar(a=0, b=0, c=0):\n",
    "    s = a + b + c\n",
    "    print(f'A soma vale {s}')\n",
    "\n",
    "somar(3, 2, 5)\n",
    "somar(2, 2)\n",
    "somar(6)\n",
    "\n",
    "# com resultado\n",
    "def somar(a=0, b=0, c=0):\n",
    "    s = a + b + c\n",
    "    return s\n",
    "\n",
    "print(somar(3, 2, 5))"
   ]
  },
  {
   "cell_type": "code",
   "execution_count": null,
   "metadata": {},
   "outputs": [],
   "source": [
    "def somar(a=0, b=0, c=0):\n",
    "    s = a + b + c\n",
    "    return s\n",
    "\n",
    "r1 = somar(3, 2, 5)\n",
    "r2 = somar(1, 7)\n",
    "r3 = somar(4)\n",
    "\n",
    "print(f'Meus cálculos deram {r1}, {r2} e {r3}.')"
   ]
  },
  {
   "cell_type": "code",
   "execution_count": null,
   "metadata": {},
   "outputs": [],
   "source": [
    "def fatorial(num = 1):\n",
    "    f = 1\n",
    "    for c in range(num, 0, -1):\n",
    "        f *= c\n",
    "    return f\n",
    "\n",
    "n = int(input('Digite um número:'))\n",
    "print(f'O fatorial de {n} é igual a {fatorial(n)}')"
   ]
  },
  {
   "cell_type": "code",
   "execution_count": null,
   "metadata": {},
   "outputs": [],
   "source": [
    "def fatorial(num = 1):\n",
    "    f = 1\n",
    "    for c in range(num, 0, -1):\n",
    "        f *= c\n",
    "    return f\n",
    "\n",
    "f1 = fatorial(5)\n",
    "f2 = fatorial(4)\n",
    "f3 = fatorial()\n",
    "\n",
    "\n",
    "print(f'Os resultados são {f1}, {f2} e {f3}')"
   ]
  },
  {
   "cell_type": "code",
   "execution_count": null,
   "metadata": {},
   "outputs": [],
   "source": [
    "def par(n=0):\n",
    "    if n % 2 == 0:\n",
    "        return True\n",
    "    else:\n",
    "        return False\n",
    "\n",
    "num = int(input('Digite um número:'))\n",
    "print(par(num))"
   ]
  },
  {
   "cell_type": "code",
   "execution_count": null,
   "metadata": {},
   "outputs": [],
   "source": [
    "def par(n=0):\n",
    "    if n % 2 == 0:\n",
    "        return True\n",
    "    else:\n",
    "        return False\n",
    "\n",
    "num = int(input('Digite um número:'))\n",
    "if par(num):\n",
    "    print('É par!')\n",
    "else:\n",
    "    print('Não é par!')"
   ]
  },
  {
   "cell_type": "markdown",
   "metadata": {},
   "source": [
    "AULA 22 - Módulos e Pacotes"
   ]
  },
  {
   "cell_type": "markdown",
   "metadata": {},
   "source": [
    "MODULOS\n",
    "\n",
    "Modularização\n",
    "\n",
    "Modularizar é o ato de construir módulos\n",
    "\n",
    "import nomedoarquivo\n",
    "\n",
    "nomedoarquivo.fatorial(num)"
   ]
  },
  {
   "cell_type": "code",
   "execution_count": null,
   "metadata": {},
   "outputs": [],
   "source": [
    "def fatorial(n):\n",
    "    f=1\n",
    "    for c in range(1, n + 1):\n",
    "        f += c\n",
    "        return f\n",
    "\n",
    "num = int(input('Digite um valor'))\n",
    "fat = fatorial(num)\n",
    "print(f'O fatorial de {num} é {fat}')"
   ]
  },
  {
   "cell_type": "markdown",
   "metadata": {},
   "source": [
    "Vantagens dos Módulos\n",
    "\n",
    "- Organização do código\n",
    "- Facilidade na manutenção\n",
    "-  Ocultação de código detalhado\n",
    "-  Reutilização em outros projetos"
   ]
  },
  {
   "cell_type": "markdown",
   "metadata": {},
   "source": [
    "PACOTES\n",
    "(python package)\n",
    "\n",
    "Uma pasta que contém módulos\n",
    "Separar os módulos por assuntos\n",
    "\n",
    "Os arquivos dentro do pacote tem que ter um arquivo com uma sintaxe padrão:\n",
    "__init__.py\n",
    "É dentro desse init que se coloca as def's (funções)\n",
    "\n",
    "\n"
   ]
  }
 ],
 "metadata": {
  "kernelspec": {
   "display_name": "base",
   "language": "python",
   "name": "python3"
  },
  "language_info": {
   "codemirror_mode": {
    "name": "ipython",
    "version": 3
   },
   "file_extension": ".py",
   "mimetype": "text/x-python",
   "name": "python",
   "nbconvert_exporter": "python",
   "pygments_lexer": "ipython3",
   "version": "3.10.9"
  },
  "orig_nbformat": 4
 },
 "nbformat": 4,
 "nbformat_minor": 2
}
