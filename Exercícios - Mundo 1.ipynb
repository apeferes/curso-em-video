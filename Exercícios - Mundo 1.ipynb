{
 "cells": [
  {
   "attachments": {},
   "cell_type": "markdown",
   "metadata": {},
   "source": [
    "EXERCICIO 001"
   ]
  },
  {
   "attachments": {},
   "cell_type": "markdown",
   "metadata": {},
   "source": [
    "MUNDO 1"
   ]
  },
  {
   "cell_type": "code",
   "execution_count": null,
   "metadata": {},
   "outputs": [],
   "source": [
    "print('Olá, Mundo!')"
   ]
  },
  {
   "cell_type": "code",
   "execution_count": null,
   "metadata": {},
   "outputs": [],
   "source": [
    "msg = 'Olá, Mundo!'\n",
    "print(msg)"
   ]
  },
  {
   "attachments": {},
   "cell_type": "markdown",
   "metadata": {},
   "source": [
    "EXERCICIO 002"
   ]
  },
  {
   "cell_type": "code",
   "execution_count": null,
   "metadata": {},
   "outputs": [],
   "source": [
    "nome = input('Digite seu nome: ')\n",
    "print('É um prazer te conhecer, {}!'.format(nome))"
   ]
  },
  {
   "attachments": {},
   "cell_type": "markdown",
   "metadata": {},
   "source": [
    "EXERCICIO 003"
   ]
  },
  {
   "cell_type": "code",
   "execution_count": null,
   "metadata": {},
   "outputs": [],
   "source": [
    "n1 = int(input('Digite um valor: '))\n",
    "n2 = int(input('Digite outro valor: '))\n",
    "s = n1 + n2\n",
    "print('A soma entre {} e {} é igual a {}'.format(n1,n2,s))"
   ]
  },
  {
   "attachments": {},
   "cell_type": "markdown",
   "metadata": {},
   "source": [
    "EXERCICIO 004"
   ]
  },
  {
   "cell_type": "code",
   "execution_count": null,
   "metadata": {},
   "outputs": [],
   "source": [
    "a = input('Digite algo: ')\n",
    "print('O tipo primitivo desse valor é ', type(a))\n",
    "print('Só tem espaços? ', a.isspace())\n",
    "print('É um número? ', a.isnumeric())\n",
    "print('É alfabético? ', a.isalpha())\n",
    "print('É alfanumérico? ', a.isalnum())\n",
    "print('Está em maiúsculas? ', a.isupper())\n",
    "print('Está em minúsculas? ', a.islower())\n",
    "print('Está capitalizada? ', a.istitle())"
   ]
  },
  {
   "attachments": {},
   "cell_type": "markdown",
   "metadata": {},
   "source": [
    "EXERCICIO 005"
   ]
  },
  {
   "cell_type": "code",
   "execution_count": null,
   "metadata": {},
   "outputs": [],
   "source": [
    "n = int(input('Digite um número inteiro:'))\n",
    "# Com variável - se precisar mais vezes da variável, menos processamento no longo prazo criando-a (fazendo os cálculos)\n",
    "sus = n+1\n",
    "ant = n-1\n",
    "print(f'O número que você digitou foi {n}')\n",
    "print(f'O sucessor desse número é {sus}')\n",
    "print(f'O antecessor desse número é {ant}')"
   ]
  },
  {
   "cell_type": "code",
   "execution_count": null,
   "metadata": {},
   "outputs": [],
   "source": [
    "n = int(input('Digite um número inteiro:'))\n",
    "# Sem variável - quanto menos utilizar variáveis, menos memória utiliza\n",
    "print(f'O número que você digitou foi {n}')\n",
    "print(f'O sucessor desse número é {(n+1)}')\n",
    "print(f'O antecessor desse número é {(n-1)}')"
   ]
  },
  {
   "attachments": {},
   "cell_type": "markdown",
   "metadata": {},
   "source": [
    "EXERCICIO 006"
   ]
  },
  {
   "cell_type": "code",
   "execution_count": null,
   "metadata": {},
   "outputs": [],
   "source": [
    "n = int(input('Digite um número:'))\n",
    "dob = n*2\n",
    "trip = n*3\n",
    "raiz = n**(1/2)\n",
    "print(f'O número que você escolheu foi {n}')\n",
    "print(f'O dobro desse número é {dob}, \\nO triplo desse número é {trip} \\nA raíz quadrada desse número é {raiz:.2f}')\n",
    "\n",
    "# COMO UTILIZAR O :.2f ACIMA (.2 = dois caracteres após o ponto | f = float)"
   ]
  },
  {
   "attachments": {},
   "cell_type": "markdown",
   "metadata": {},
   "source": [
    "EXERCICIO 007"
   ]
  },
  {
   "cell_type": "code",
   "execution_count": null,
   "metadata": {},
   "outputs": [],
   "source": [
    "nota1 = float(input('Digite a primeira nota:'))\n",
    "nota2 = float(input('Digite a segunda nota:'))\n",
    "media = (nota1 + nota2)/2\n",
    "print(f'A primeira nota é {nota1} e a seunda nota é {nota2}')\n",
    "print(f'A média entre as notas é {media:.1f}')"
   ]
  },
  {
   "attachments": {},
   "cell_type": "markdown",
   "metadata": {},
   "source": [
    "EXERCICIO 008"
   ]
  },
  {
   "cell_type": "code",
   "execution_count": null,
   "metadata": {},
   "outputs": [],
   "source": [
    "m = float(input('Quantos metros?'))\n",
    "c = m * 100\n",
    "mm = m * 1000\n",
    "print(f'Você digitou {m} metros')\n",
    "print(f'Essa metragem é {c:.0f} centímetros')\n",
    "print(f'Essa metragem é {mm:.0f} milímetros')"
   ]
  },
  {
   "attachments": {},
   "cell_type": "markdown",
   "metadata": {},
   "source": [
    "EXERCICIO 009"
   ]
  },
  {
   "cell_type": "code",
   "execution_count": null,
   "metadata": {},
   "outputs": [],
   "source": [
    "# Com o novo formato de FORMAT\n",
    "\n",
    "n = int(input('Digite um número para trazer sua taboada'))\n",
    "print(f'A taboada de {n} é:')\n",
    "print('-' *12)\n",
    "print(f'{n} x {1:2} = {n*1}')\n",
    "print(f'{n} x {2:2} = {n*2}')\n",
    "print(f'{n} x {3:2} = {n*3}')\n",
    "print(f'{n} x {4:2} = {n*4}')\n",
    "print(f'{n} x {5:2} = {n*5}')\n",
    "print(f'{n} x {6:2} = {n*6}')\n",
    "print(f'{n} x {7:2} = {n*7}')\n",
    "print(f'{n} x {8:2} = {n*8}')\n",
    "print(f'{n} x {9:2} = {n*9}')\n",
    "print(f'{n} x {10:2} = {n*10}')\n",
    "print('-' *12)"
   ]
  },
  {
   "cell_type": "code",
   "execution_count": null,
   "metadata": {},
   "outputs": [],
   "source": [
    "# Com o velho formato de FORMAT\n",
    "\n",
    "n = int(input('Digite um número para trazer sua taboada'))\n",
    "print(f'A taboada de {n} é:')\n",
    "print('-' *12)\n",
    "print('{} x {:2} = {}'.format(n, 1, n*1))\n",
    "print('{} x {:2} = {}'.format(n, 2, n*2))\n",
    "print('{} x {:2} = {}'.format(n, 3, n*3))\n",
    "print('{} x {:2} = {}'.format(n, 4, n*4))\n",
    "print('{} x {:2} = {}'.format(n, 5, n*5))\n",
    "print('{} x {:2} = {}'.format(n, 6, n*6))\n",
    "print('{} x {:2} = {}'.format(n, 7, n*7))\n",
    "print('{} x {:2} = {}'.format(n, 8, n*8))\n",
    "print('{} x {:2} = {}'.format(n, 9, n*9))\n",
    "print('{} x {:2} = {}'.format(n, 10, n*10))\n",
    "print('-' *12)\n"
   ]
  },
  {
   "attachments": {},
   "cell_type": "markdown",
   "metadata": {},
   "source": [
    "EXERCICIO 010"
   ]
  },
  {
   "cell_type": "code",
   "execution_count": null,
   "metadata": {},
   "outputs": [],
   "source": [
    "real = float(input('Quantos reais você tem na sua carteira? R$'))\n",
    "dol = real / 4.90 #converter para dolares\n",
    "eur = real / 5.40 #converter para euro\n",
    "print(f'Você tem R${real:.2f} na sua carteira')\n",
    "print(f'Convertendo para dólares, você teria US${dol:.2f}')\n",
    "print(f'Convertendo para euro, você teria EUR{eur:.2f}')"
   ]
  },
  {
   "attachments": {},
   "cell_type": "markdown",
   "metadata": {},
   "source": [
    "EXERCICIO 011"
   ]
  },
  {
   "cell_type": "code",
   "execution_count": null,
   "metadata": {},
   "outputs": [],
   "source": [
    "a = float(input('Altura da parede?'))\n",
    "l = float(input('Largura da parede?'))\n",
    "m2 = a*l\n",
    "t = m2/2\n",
    "print(f'A parede tem a dimensão de {a}x{l} e a área é de {m2}m2.')\n",
    "print(f'Você vai precisar de {t} litros de tinta para pintar a parede.')"
   ]
  },
  {
   "attachments": {},
   "cell_type": "markdown",
   "metadata": {},
   "source": [
    "EXERCICIO 012"
   ]
  },
  {
   "cell_type": "code",
   "execution_count": null,
   "metadata": {},
   "outputs": [],
   "source": [
    "p = float(input('Qual é o valor do produto? R$'))\n",
    "pd = p * 0.95\n",
    "# OU pd = p - (p * 5 / 100)\n",
    "print(f'O produto custa R${p:.2f} e com o desconto de 5% fica R${pd:.2f}')"
   ]
  },
  {
   "attachments": {},
   "cell_type": "markdown",
   "metadata": {},
   "source": [
    "EXERCICIO 013"
   ]
  },
  {
   "cell_type": "code",
   "execution_count": null,
   "metadata": {},
   "outputs": [],
   "source": [
    "s = float(input('Qual é o seu salário atual? R$'))\n",
    "a = s * 1.15\n",
    "# OU a = s + (s * 15 / 100)\n",
    "print(f'Você ganhou um aumento salarial de 15%!\\nSeu salário anterior era de R${s:.2f} \\nAgora o seu salário é de R${a:.2f}!')"
   ]
  },
  {
   "attachments": {},
   "cell_type": "markdown",
   "metadata": {},
   "source": [
    "EXERCICIO 014"
   ]
  },
  {
   "cell_type": "code",
   "execution_count": null,
   "metadata": {},
   "outputs": [],
   "source": [
    "c = float(input('Informe a temperatura em graus C:'))\n",
    "f = ((9 * c) /5) +32\n",
    "print(f'A temperatura de {c}C corresponde a {f}F!')"
   ]
  },
  {
   "attachments": {},
   "cell_type": "markdown",
   "metadata": {},
   "source": [
    "EXERCICIO 015"
   ]
  },
  {
   "cell_type": "code",
   "execution_count": null,
   "metadata": {},
   "outputs": [],
   "source": [
    "d = int(input('Quantos dias você ficou com o carro?'))\n",
    "km = int(input('Quantos Km o carro percorreu?'))\n",
    "p = (d * 60) + (km * 0.15)\n",
    "print(f'Você ficou {d} dias com o carro e percorreu {km}Km.')\n",
    "print(f'Você tem a pagar R${p:.2f}')"
   ]
  },
  {
   "attachments": {},
   "cell_type": "markdown",
   "metadata": {},
   "source": [
    "EXERCICIO 016"
   ]
  },
  {
   "cell_type": "code",
   "execution_count": null,
   "metadata": {},
   "outputs": [],
   "source": [
    "n = float(input('Digite um valor:'))\n",
    "print(f'O número {n} tem a parte inteira {n:.0f}.')"
   ]
  },
  {
   "cell_type": "code",
   "execution_count": null,
   "metadata": {},
   "outputs": [],
   "source": [
    "# MATH - FLOOR\n",
    "import math\n",
    "n = float(input('Digite um valor:'))\n",
    "print(f'O número {n} tem a parte inteira {math.floor(n)}.')"
   ]
  },
  {
   "cell_type": "code",
   "execution_count": null,
   "metadata": {},
   "outputs": [],
   "source": [
    "# MATH COM VARIÁEL\n",
    "import math\n",
    "n = float(input('Digite um valor:'))\n",
    "i = math.floor(n)\n",
    "print(f'O número {n} tem a parte inteira {i}.')"
   ]
  },
  {
   "cell_type": "code",
   "execution_count": null,
   "metadata": {},
   "outputs": [],
   "source": [
    "# MATH - TRUNC\n",
    "import math\n",
    "n = float(input('Digite um valor:'))\n",
    "print(f'O valor digitado foi {n} e a sua porção inteira é {math.trunc(n)}.')"
   ]
  },
  {
   "cell_type": "code",
   "execution_count": null,
   "metadata": {},
   "outputs": [],
   "source": [
    "# TRUNC\n",
    "from math import trunc\n",
    "n = float(input('Digite um número:'))\n",
    "print(f'O valor digitado foi {n} e a sua porção inteira é {trunc(n)}.') # AQUI FICA SÓ TRUNC"
   ]
  },
  {
   "cell_type": "code",
   "execution_count": null,
   "metadata": {},
   "outputs": [],
   "source": [
    "n = float(input('Digite um valor:'))\n",
    "print(f'O valor digitado foi {n} e a sua porção inteira é {int(n)}')"
   ]
  },
  {
   "attachments": {},
   "cell_type": "markdown",
   "metadata": {},
   "source": [
    "EXERCICIO 017"
   ]
  },
  {
   "cell_type": "code",
   "execution_count": null,
   "metadata": {},
   "outputs": [],
   "source": [
    "co = float(input('Comprimento do cateto oposto:'))\n",
    "ca = float(input('Comprimento do cateto adjacente:'))\n",
    "hi = (co **2 + ca ** 2) ** (1/2)\n",
    "print(f'A hipotenusa vai medir {hi:.2f}')"
   ]
  },
  {
   "cell_type": "code",
   "execution_count": null,
   "metadata": {},
   "outputs": [],
   "source": [
    "# COM MATH\n",
    "import math\n",
    "co = float(input('Comprimento do cateto oposto:'))\n",
    "ca = float(input('Comprimento do cateto adjacente:'))\n",
    "hi = math.hypot(co, ca)\n",
    "print(f'A hiponetusa vai medir {hi:.2f}')"
   ]
  },
  {
   "cell_type": "code",
   "execution_count": null,
   "metadata": {},
   "outputs": [],
   "source": [
    "from math import hypot\n",
    "co = float(input('Comprimento do cateto oposto:'))\n",
    "ca = float(input('Comprimento do cateto adjacente:'))\n",
    "hi = hypot(co, ca)\n",
    "print(f'A hiponetusa vai medir {hi:.2f}')"
   ]
  },
  {
   "attachments": {},
   "cell_type": "markdown",
   "metadata": {},
   "source": [
    "EXERCICIO 018"
   ]
  },
  {
   "cell_type": "code",
   "execution_count": null,
   "metadata": {},
   "outputs": [],
   "source": [
    "import math\n",
    "an = float(input('Digite o ângulo que você deseja:'))\n",
    "seno = math.sin(math.radians(an))\n",
    "print(f'O ângulo de {an} tem o SENO de {seno:.2f}')\n",
    "cosseno = math.cos(math.radians(an))\n",
    "print(f'O ângulo de {an} tem o COSSENO de {cosseno:.2f}')\n",
    "tangente = math.tan(math.radians(an))\n",
    "print(f'O ângulo de {an} tem a TANGENTE de {tangente:.2f}')"
   ]
  },
  {
   "cell_type": "code",
   "execution_count": null,
   "metadata": {},
   "outputs": [],
   "source": [
    "from math import radians, sin, cos, tan\n",
    "angulo = float(input('Digite o ângulo que você deseja:'))\n",
    "seno = sin(radians(angulo))\n",
    "print(f'O ângulo de {angulo} tem o SENO de {seno:.2f}')\n",
    "cosseno = cos(radians(angulo))\n",
    "print(f'O ângulo de {angulo} tem o COSSENO de {cosseno:.2f}')\n",
    "tangente = tan(radians(angulo))\n",
    "print(f'O ângulo de {angulo} tem a TANGENTE de {tangente:.2f}')"
   ]
  },
  {
   "attachments": {},
   "cell_type": "markdown",
   "metadata": {},
   "source": [
    "EXERCICIO 019"
   ]
  },
  {
   "cell_type": "code",
   "execution_count": null,
   "metadata": {},
   "outputs": [],
   "source": [
    "import random\n",
    "n1 = str(input('Primeiro aluno:'))\n",
    "n2 = str(input('Segundo aluno:'))\n",
    "n3 = str(input('Terceiro aluno:'))\n",
    "n4 = str(input('Quarto aluno:'))\n",
    "lista = [n1, n2, n3, n4]\n",
    "escolhido = random.choice(lista)\n",
    "print(f'O aluno escolido foi {escolhido}!')"
   ]
  },
  {
   "cell_type": "code",
   "execution_count": null,
   "metadata": {},
   "outputs": [],
   "source": [
    "from random import choice\n",
    "n1 = str(input('Primeiro aluno:'))\n",
    "n2 = str(input('Segundo aluno:'))\n",
    "n3 = str(input('Terceiro aluno:'))\n",
    "n4 = str(input('Quarto aluno:'))\n",
    "lista = [n1, n2, n3, n4]\n",
    "escolhido = choice(lista)\n",
    "print(f'O aluno escolido foi {escolhido}!')"
   ]
  },
  {
   "attachments": {},
   "cell_type": "markdown",
   "metadata": {},
   "source": [
    "EXERCICIO 020"
   ]
  },
  {
   "cell_type": "code",
   "execution_count": null,
   "metadata": {},
   "outputs": [],
   "source": [
    "import random\n",
    "n1 = str(input('Primeiro aluno:'))\n",
    "n2 = str(input('Segundo aluno:'))\n",
    "n3 = str(input('Terceiro aluno:'))\n",
    "n4 = str(input('Quarto aluno:'))\n",
    "lista = [n1, n2, n3, n4]\n",
    "random.shuffle(lista)\n",
    "print('A ordem de apresentação será ')\n",
    "print(lista)"
   ]
  },
  {
   "cell_type": "code",
   "execution_count": null,
   "metadata": {},
   "outputs": [],
   "source": [
    "from random import shuffle\n",
    "n1 = str(input('Primeiro aluno:'))\n",
    "n2 = str(input('Segundo aluno:'))\n",
    "n3 = str(input('Terceiro aluno:'))\n",
    "n4 = str(input('Quarto aluno:'))\n",
    "lista = [n1, n2, n3, n4]\n",
    "shuffle(lista)\n",
    "print('A ordem de apresentação será ')\n",
    "print(lista)"
   ]
  },
  {
   "attachments": {},
   "cell_type": "markdown",
   "metadata": {},
   "source": [
    "EXERCICIO 021"
   ]
  },
  {
   "cell_type": "code",
   "execution_count": null,
   "metadata": {},
   "outputs": [],
   "source": [
    "# Tocando música no python\n",
    "\n",
    "import pygame\n",
    "pygame.init()\n",
    "pygame.mixer.music.load('ex021.mp3')\n",
    "pygame.mixer.music.play()\n",
    "pygame.event.wait()"
   ]
  },
  {
   "attachments": {},
   "cell_type": "markdown",
   "metadata": {},
   "source": [
    "EXERCICIO 022"
   ]
  },
  {
   "cell_type": "code",
   "execution_count": null,
   "metadata": {},
   "outputs": [],
   "source": [
    "nome = str(input('Digite seu nome completo:')).strip() # sem espaço antes e depois do nome\n",
    "print('Analisando seu nome...')\n",
    "print('Seu nome em maiúsculas é', nome.upper())\n",
    "print('Seu nome em minúsculas é', nome.lower())\n",
    "print('Seu nome ao todo tem {} letras'.format(len(nome) - nome.count(' ')))\n",
    "# aqui está tirando os espaços entre o nome, quando está fazendo menos (-) a contagem de espaço (' ')\n",
    "\n",
    "print('Seu primeiro nome tem {} letras'.format(nome.find(' ')))\n",
    "\n",
    "# outra forma de fazer esse último\n",
    "separar = nome.split()\n",
    "print('Seu primeiro nome é {} e ele tem {} letras'.format(separar[0], len(separar[0])))"
   ]
  },
  {
   "attachments": {},
   "cell_type": "markdown",
   "metadata": {},
   "source": [
    "EXERCICIO 023"
   ]
  },
  {
   "cell_type": "code",
   "execution_count": null,
   "metadata": {},
   "outputs": [],
   "source": [
    "num = int(input('Informe um número:'))\n",
    "u = num // 1 % 10\n",
    "d = num // 10 % 10\n",
    "c = num // 100 % 10\n",
    "m = num // 1000 % 10\n",
    "print(f'Analisando o número {num}')\n",
    "print('Unidade:',u)\n",
    "print('Dezena:', d)\n",
    "print('Centena:', c)\n",
    "print('Milhar:', m)"
   ]
  },
  {
   "attachments": {},
   "cell_type": "markdown",
   "metadata": {},
   "source": [
    "EXERCICIO 024"
   ]
  },
  {
   "cell_type": "code",
   "execution_count": null,
   "metadata": {},
   "outputs": [],
   "source": [
    "cidade = str(input('Diga o nome de uma cidade:')).strip()\n",
    "# print(f'O nome da cidade que você digitou foi {cidade}.')\n",
    "print(cidade[:5].upper() == 'SANTO')"
   ]
  },
  {
   "attachments": {},
   "cell_type": "markdown",
   "metadata": {},
   "source": [
    "EXERCICIO 025"
   ]
  },
  {
   "cell_type": "code",
   "execution_count": null,
   "metadata": {},
   "outputs": [],
   "source": [
    "nome = str(input('Qual é o seu nome completo:'))\n",
    "print('Seu nome é {}'.format(nome))\n",
    "print('Seu nome tem silva? {}'.format('SILVA' in nome.upper()))"
   ]
  },
  {
   "attachments": {},
   "cell_type": "markdown",
   "metadata": {},
   "source": [
    "EXERCICIO 026"
   ]
  },
  {
   "cell_type": "code",
   "execution_count": null,
   "metadata": {},
   "outputs": [],
   "source": [
    "frase = str(input('Escreva qualquer coisa:')).upper().strip()\n",
    "print('A letra A aparece {} vezes na frase.'.format(frase.count('A')))\n",
    "print('A primeira letra A apareceu na posição {}'.format(frase.find('A')+1))\n",
    "print('A última letra A apareceu na posição {}'.format(frase.rfind('A')+1))"
   ]
  },
  {
   "cell_type": "markdown",
   "metadata": {},
   "source": [
    "EXERCICIO 027"
   ]
  },
  {
   "cell_type": "code",
   "execution_count": null,
   "metadata": {},
   "outputs": [],
   "source": [
    "n = str(input('Digite seu nome completo:')).strip()\n",
    "nome = n.split()\n",
    "\n",
    "print('Muito prazer em te conhecer!')\n",
    "print('Seu primeiro nome é {}'.format(nome[0]))\n",
    "print('Seu último nome é {}'.format(nome[len(nome)-1]))"
   ]
  },
  {
   "attachments": {},
   "cell_type": "markdown",
   "metadata": {},
   "source": [
    "EXERCICIO 028"
   ]
  },
  {
   "cell_type": "code",
   "execution_count": null,
   "metadata": {},
   "outputs": [],
   "source": [
    "from random import randint\n",
    "n = random.randint(0, 5)\n",
    "t = int(input('Tente adivinhar qual é o número randômico de 0 a 5:'))\n",
    "if t == n:\n",
    "    print(f'Você acertou! O número randômico é {n}!')\n",
    "else:\n",
    "    print('Você errou! Rode o programa para tentar novamente...')"
   ]
  },
  {
   "cell_type": "code",
   "execution_count": null,
   "metadata": {},
   "outputs": [],
   "source": [
    "from random import randint\n",
    "from time import sleep\n",
    "computador = randint(0, 5) # Faz o computador escolher um número\n",
    "print('-=-' * 20)\n",
    "print('Vou pensar em um número entre 0 e 5. Tente adivinhar...')\n",
    "print('-=-' * 20)\n",
    "jogador = int(input('Em que número pensei?')) # Jogador tenta adivinhar\n",
    "print('PROCESSANDO...')\n",
    "sleep(2)\n",
    "if jogador == computador:\n",
    "    print('PARABÉNS! Você conseguiu me vencer!')\n",
    "else:\n",
    "    print(f'GANHEI! Eu pensei no número {computador} e não no {jogador}!')"
   ]
  },
  {
   "attachments": {},
   "cell_type": "markdown",
   "metadata": {},
   "source": [
    "EXERCICIO 029"
   ]
  },
  {
   "cell_type": "code",
   "execution_count": null,
   "metadata": {},
   "outputs": [],
   "source": [
    "v = int(input('Qual é a velocidade do carro? Km'))\n",
    "m = (v - 80) * 7\n",
    "if v > 80:\n",
    "    print(f'Você foi multado em R${m:.2f}!')"
   ]
  },
  {
   "cell_type": "code",
   "execution_count": null,
   "metadata": {},
   "outputs": [],
   "source": [
    "velocidade = float(input('Qual é a velocidade atual do carro?'))\n",
    "if velocidade > 80:\n",
    "    print('MULTADO! Você excedeu o limite permitido que é de 80Km/h')\n",
    "    multa = (velocidade - 80) * 7\n",
    "    print(f'Você deve pagar uma multa de R${multa:.2f}!')\n",
    "print('Tenha um bom dia! Dirija com segurança!')"
   ]
  },
  {
   "attachments": {},
   "cell_type": "markdown",
   "metadata": {},
   "source": [
    "EXERCICIO 030"
   ]
  },
  {
   "cell_type": "code",
   "execution_count": null,
   "metadata": {},
   "outputs": [],
   "source": [
    "num = int(input('Me diga um número qualquer:'))\n",
    "resultado = num % 2\n",
    "if resultado == 0:\n",
    "    print(f'O número {num} é PAR')\n",
    "else:\n",
    "    print(f'O número {num} é ÍMPAR')"
   ]
  },
  {
   "attachments": {},
   "cell_type": "markdown",
   "metadata": {},
   "source": [
    "EXERCICIO 031"
   ]
  },
  {
   "cell_type": "code",
   "execution_count": null,
   "metadata": {},
   "outputs": [],
   "source": [
    "d = float(input('Qual é a distância da sua viagem? Km'))\n",
    "if d <= 200:\n",
    "    print(f'A sua viagem deu R${(d * 0.50):.2f}')\n",
    "else:\n",
    "    print(f'A sua viagem deu R${(d * 0.45):.2f}')"
   ]
  },
  {
   "cell_type": "code",
   "execution_count": null,
   "metadata": {},
   "outputs": [],
   "source": [
    "d = float(input('Qual é a distância da sua viagem? Km'))\n",
    "print(f'Você está prestes a começar uma viagem de {d:.0f}Km.')\n",
    "if d <= 200:\n",
    "    preço = d * 0.50\n",
    "else:\n",
    "    preço = d * 0.45\n",
    "print(f'E o preço da sua passagem será de R${preço:.2f}')"
   ]
  },
  {
   "cell_type": "code",
   "execution_count": null,
   "metadata": {},
   "outputs": [],
   "source": [
    "d = float(input('Qual é a distância da sua viagem? Km'))\n",
    "print(f'Você está prestes a começar uma viagem de {d:.0f}Km.')\n",
    "\n",
    "preço = d * 0.50 if d <= 200 else d * 0.45\n",
    "\n",
    "print(f'E o preço da sua passagem será de R${preço:.2f}')"
   ]
  },
  {
   "attachments": {},
   "cell_type": "markdown",
   "metadata": {},
   "source": [
    "EXERCICIO 032"
   ]
  },
  {
   "cell_type": "code",
   "execution_count": null,
   "metadata": {},
   "outputs": [],
   "source": [
    "from datetime import date\n",
    "ano = int(input('Que ano quer analisar? Coloque 0 para analisar o ano atual:'))\n",
    "if ano == 0:\n",
    "    ano = date.today().year\n",
    "\n",
    "if ano % 4 == 0 and ano % 100 != 0 or ano % 400 == 0:\n",
    "    print(f'O ano {ano} é BISSEXTO')\n",
    "else:\n",
    "    print(f'O ano {ano} NÃO É BISSEXTO')"
   ]
  },
  {
   "attachments": {},
   "cell_type": "markdown",
   "metadata": {},
   "source": [
    "EXERCICIO 033"
   ]
  },
  {
   "cell_type": "code",
   "execution_count": null,
   "metadata": {},
   "outputs": [],
   "source": [
    "a = int(input('Digite um número:'))\n",
    "b = int(input('Digite um outro número:'))\n",
    "c = int(input('Digite mais um número:'))\n",
    "\n",
    "# Verificando qual é o menor\n",
    "menor = a\n",
    "if b<a and b<c:\n",
    "    menor = b\n",
    "if c<a and c<b:\n",
    "    menor = c\n",
    "\n",
    "# Verificando qual é o maior\n",
    "maior = a\n",
    "if b>a and b>c:\n",
    "    maior = b\n",
    "if c>a and c>b:\n",
    "    maior = c\n",
    "\n",
    "print(f'O menor valor digitado foi {menor}')\n",
    "print(f'O maior valor digitado foi {maior}')"
   ]
  },
  {
   "attachments": {},
   "cell_type": "markdown",
   "metadata": {},
   "source": [
    "EXERCICIO 034"
   ]
  },
  {
   "cell_type": "code",
   "execution_count": null,
   "metadata": {},
   "outputs": [],
   "source": [
    "s = float(input('Qual é o seu salário?'))\n",
    "if s > 1250:\n",
    "    print(f'Você teve um aumento de 10%! A partir de agora você passará a ganhar R${(s * 1.1):.2f}')\n",
    "else:\n",
    "    print(f'Você teve um aumento de 15%! A partir de agora passará a ganhar R${(s * 1.15):.2f}')"
   ]
  },
  {
   "cell_type": "code",
   "execution_count": null,
   "metadata": {},
   "outputs": [],
   "source": [
    "s = float(input('Qual é o salário do funcionário?'))\n",
    "if s > 1250:\n",
    "    novo = s * 1.10\n",
    "else:\n",
    "    novo = s * 1.15\n",
    "print(f'Quem ganhava R${s:.2f} passa a ganhar R${novo:.2f}')"
   ]
  },
  {
   "attachments": {},
   "cell_type": "markdown",
   "metadata": {},
   "source": [
    "EXERCICIO 035"
   ]
  },
  {
   "cell_type": "code",
   "execution_count": null,
   "metadata": {},
   "outputs": [],
   "source": [
    "print('-=-' * 20)\n",
    "print('Analisador de Triângulos')\n",
    "print('-=-' * 20)\n",
    "r1 = float(input('Primeiro segmento:'))\n",
    "r2 = float(input('Segundo segmento:'))\n",
    "r3 = float(input('Terceiro segmento:'))\n",
    "print(f'Os números digitados foram {r1}, {r2} e {r3}')\n",
    "if r1 < r2 + r3 and r2 < r1 + r3 and r3 < r1 + r2:\n",
    "    print('Os segmentos acima PODEM FORMAR TRIÂNGULO')\n",
    "else:\n",
    "    print('Os segmentos acima NÃO PODEM FORMAR UM TRIÂNGULO')"
   ]
  }
 ],
 "metadata": {
  "kernelspec": {
   "display_name": "base",
   "language": "python",
   "name": "python3"
  },
  "language_info": {
   "codemirror_mode": {
    "name": "ipython",
    "version": 3
   },
   "file_extension": ".py",
   "mimetype": "text/x-python",
   "name": "python",
   "nbconvert_exporter": "python",
   "pygments_lexer": "ipython3",
   "version": "3.10.9"
  },
  "orig_nbformat": 4
 },
 "nbformat": 4,
 "nbformat_minor": 2
}
