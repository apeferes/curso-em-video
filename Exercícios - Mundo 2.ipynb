{
 "cells": [
  {
   "attachments": {},
   "cell_type": "markdown",
   "metadata": {},
   "source": [
    "MUNDO 2"
   ]
  },
  {
   "attachments": {},
   "cell_type": "markdown",
   "metadata": {},
   "source": [
    "EXERCICIO 036"
   ]
  },
  {
   "cell_type": "code",
   "execution_count": null,
   "metadata": {},
   "outputs": [],
   "source": [
    "print('-=-' * 20)\n",
    "print('Esse é um programa de empréstimo para um finciamento de casa')\n",
    "print('-=-' * 20)\n",
    "vcasa = float(input('Qual é o valor da casa que você deseja comprar?'))\n",
    "print(f'Você deseja comprar uma casa de R${vcasa:.2f}')\n",
    "vsalario = float(input('Qual é o seu salário atual?'))\n",
    "print(f'O seu salário atual é de R${vsalario:.2f}')\n",
    "tempo = int(input('Em quantos anos você deseja quitar o empréstimo?'))\n",
    "print(f'Você deseja quitar o empréstimo em {tempo} anos')\n",
    "vprestacao = vcasa / (tempo * 12)\n",
    "print('-=-' * 20)\n",
    "if vprestacao <= vsalario * 0.3:\n",
    "    print('Seu empréstimo foi APROVADO!!!')\n",
    "    print(f'A sua prestação mensal será de R${vprestacao:.2f}')\n",
    "else:\n",
    "    print('Seu empréstimo NÃO FOI APROVADO!')\n",
    "    print('Tente novamente considerando outros valores ou outro prazo de pagamento.')"
   ]
  },
  {
   "cell_type": "code",
   "execution_count": null,
   "metadata": {},
   "outputs": [],
   "source": [
    "casa = float(input('Valor da casa:'))\n",
    "salario = float(input('Salário do comprador:'))\n",
    "anos = int(input('Quantos anos de financiamento?'))\n",
    "prestacao = casa / (anos * 12)\n",
    "minimo = salario * 30 / 100\n",
    "\n",
    "print(f'Para pagar uma casa de R${casa:.2f} em {anos} anos', end='')\n",
    "print(f' a prestação será de R${prestacao:.2f}')\n",
    "\n",
    "if prestacao <= minimo:\n",
    "    print('Empréstimo pode ser CONCEDIDO!')\n",
    "else:\n",
    "    print('Empréstimo NEGADO!')"
   ]
  },
  {
   "attachments": {},
   "cell_type": "markdown",
   "metadata": {},
   "source": [
    "EXERCICIO 037"
   ]
  },
  {
   "cell_type": "code",
   "execution_count": null,
   "metadata": {},
   "outputs": [],
   "source": [
    "num = int(input('Digite um número inteiro:'))\n",
    "print('''Escolha uma das bases para conversão\n",
    "[ 1 ] converter para BINÁRIO\n",
    "[ 2 ] convertar para OCTAL\n",
    "[ 3 ] converter para HEXADECIMAL''')\n",
    "opcao = int(input('Sua opção:'))\n",
    "\n",
    "if opcao == 1:\n",
    "    print(f'{num} convertido para BINÁRIO é igual a {bin(num)[2:]}')\n",
    "elif opcao == 2:\n",
    "    print(f'{num} convertido para OCTAL é igual a {oct(num)[2:]}')\n",
    "elif opcao == 3:\n",
    "    print(f'{num} convertido para HEXADECIMAL é igual a {hex(num)[2:]}')\n",
    "else:\n",
    "    print('Opção inválida. Tente novamente.')"
   ]
  },
  {
   "attachments": {},
   "cell_type": "markdown",
   "metadata": {},
   "source": [
    "EXERCICIO 038"
   ]
  },
  {
   "cell_type": "code",
   "execution_count": null,
   "metadata": {},
   "outputs": [],
   "source": [
    "n1 = int(input('Primeiro número:'))\n",
    "n2 = int(input('Segundo número:'))\n",
    "\n",
    "if n1 > n2:\n",
    "    print('O PRIMEIRO número é maior')\n",
    "elif n1 < n2:\n",
    "    print('O SEGUNDO número é maior')\n",
    "else:\n",
    "    print('Não existe valor maior. os dois são iguais')"
   ]
  },
  {
   "attachments": {},
   "cell_type": "markdown",
   "metadata": {},
   "source": [
    "EXERCICIO 039"
   ]
  },
  {
   "cell_type": "code",
   "execution_count": null,
   "metadata": {},
   "outputs": [],
   "source": [
    "from datetime import date\n",
    "nasc = int(input('Qual é o ano do seu nascimento?'))\n",
    "\n",
    "idade = date.today().year - nasc\n",
    "\n",
    "if idade < 18:\n",
    "    print('Você ainda não está no momento para se alistar ao serviço militar')\n",
    "    print(f'Ainda falta {18 - idade} anos')\n",
    "elif idade == 18:\n",
    "    print('Você deve se alistar ao serviço militar esse ano!')\n",
    "else:\n",
    "    print('Você perdeu o prazo do seu alistamento ao serviço militar')\n",
    "    print(f'Já passou {idade - 18} anos do prazo do seu alistamento.')"
   ]
  },
  {
   "cell_type": "code",
   "execution_count": null,
   "metadata": {},
   "outputs": [],
   "source": [
    "from datetime import date\n",
    "atual = date.today().year\n",
    "nasc = int(input('Ano de nascimento:'))\n",
    "idade = atual - nasc\n",
    "print(f'Quem nasceu em {nasc} tem {idade} anos em {atual}')\n",
    "saldo = 18 - idade\n",
    "if idade == 18:\n",
    "    print('Você tem que se alistar IMEDIATAMENTE!')\n",
    "elif idade < 18:\n",
    "    print(f'Ainda faltam {saldo} anos para o alistamento')\n",
    "    ano = atual + saldo\n",
    "    print(f'Seu alistamento será em {ano}')\n",
    "elif idade > 18:\n",
    "    print(f'Você já deveria ter se alistado a {saldo} anos.')\n",
    "    ano = atual - saldo\n",
    "    print(f'Seu alistamento foi em {ano}')"
   ]
  },
  {
   "cell_type": "code",
   "execution_count": null,
   "metadata": {},
   "outputs": [],
   "source": [
    "from datetime import date\n",
    "atual = date.today().year\n",
    "print('''Digite qual o seu sexo:\n",
    "[ 1 ] Homem\n",
    "[ 2 ] Mulher''')\n",
    "sexo = int(input('Você é homem ou mulher?'))\n",
    "if sexo == 2:\n",
    "    print('Você não precisa se apresentar para o alistamento')\n",
    "else:\n",
    "    nasc = int(input('Ano de nascimento:'))\n",
    "    idade = atual - nasc\n",
    "    print(f'Quem nasceu em {nasc} tem {idade} anos em {atual}')\n",
    "    saldo = 18 - idade\n",
    "    if idade == 18:\n",
    "        print('Você tem que se alistar IMEDIATAMENTE!')\n",
    "    elif idade < 18:\n",
    "        print(f'Ainda faltam {saldo} anos para o alistamento')\n",
    "        ano = atual + saldo\n",
    "        print(f'Seu alistamento será em {ano}')\n",
    "    elif idade > 18:\n",
    "        print(f'Você já deveria ter se alistado a {saldo} anos.')\n",
    "        ano = atual - saldo\n",
    "        print(f'Seu alistamento foi em {ano}')"
   ]
  },
  {
   "attachments": {},
   "cell_type": "markdown",
   "metadata": {},
   "source": [
    "EXERCICIO 040"
   ]
  },
  {
   "cell_type": "code",
   "execution_count": null,
   "metadata": {},
   "outputs": [],
   "source": [
    "n1 = float(input('Digite a primeira nota:'))\n",
    "n2 = float(input('Digite a segunda nota:'))\n",
    "m = (n1 + n2) / 2\n",
    "print(f'Tirando {n1:.1f} e {n2:.1f}, a média do aluno é {m:.1f}')\n",
    "\n",
    "if m < 5:\n",
    "    print('O aluno está REPROVADO')\n",
    "elif m < 7:\n",
    "    print('O aluno está RECUPERAÇÃO')\n",
    "else:\n",
    "    print('O aluno está APROVADO')"
   ]
  },
  {
   "attachments": {},
   "cell_type": "markdown",
   "metadata": {},
   "source": [
    "EXERCICIO 041"
   ]
  },
  {
   "cell_type": "code",
   "execution_count": null,
   "metadata": {},
   "outputs": [],
   "source": [
    "print('-=-' * 20)\n",
    "print('Descubra a sua categoria de acordo com a sua idade')\n",
    "print('-=-'* 20)\n",
    "idade = int(input('Qual é a sua idade?'))\n",
    "print(f'A sua idade é {idade} anos')\n",
    "\n",
    "if idade < 10:\n",
    "    print('A sua categoria é MIRIM')\n",
    "elif idade < 15:\n",
    "    print('A sua categoria é INFANTIL')\n",
    "elif idade < 20:\n",
    "    print('A sua categoria é JUNIOR')\n",
    "elif idade == 20:\n",
    "    print('A sua categoria é SÊNIOR')\n",
    "else:\n",
    "    print('A sua categoria é MASTER')"
   ]
  },
  {
   "cell_type": "code",
   "execution_count": null,
   "metadata": {},
   "outputs": [],
   "source": [
    "from datetime import date\n",
    "atual = date.today().year\n",
    "nascimento = int(input('Ano de nascimento:'))\n",
    "idade = atual - nascimento\n",
    "print(f'O alteta tem {idade} anos.')\n",
    "if idade <= 9:\n",
    "    print('Classificação: MIRIM')\n",
    "elif idade <= 14:\n",
    "    print('Classificação: INFANTIL')\n",
    "elif idade <= 19:\n",
    "    print('Classificação: JUNIOR')\n",
    "elif idade <= 25:\n",
    "    print('Classificação: SÊNIOR')\n",
    "else:\n",
    "    print('Classificação: MASTER')"
   ]
  },
  {
   "attachments": {},
   "cell_type": "markdown",
   "metadata": {},
   "source": [
    "EXERCICIO 042"
   ]
  },
  {
   "cell_type": "code",
   "execution_count": null,
   "metadata": {},
   "outputs": [],
   "source": [
    "r1 = float(input('Primeiro segmento:'))\n",
    "r2 = float(input('Segundo segmento:'))\n",
    "r3 = float (input('Terceiro segmento:'))\n",
    "\n",
    "print(f'Os números digitados foram {r1}, {r2} e {r3}')\n",
    "\n",
    "if r1 < r2 + r3 and r2 < r1 + r3 and r3 < r1 + r2:\n",
    "    print('Os segmentos acima PODEM FORMAR UM TRIÂNGULO', end=' ')\n",
    "    if r1 == r2 == r3:\n",
    "        print('EQUILÁTERO!')\n",
    "    elif r1 != r2 != r3 != r1:\n",
    "        print('ESCALENO!')\n",
    "    else:\n",
    "        print('ISÓSCELES')\n",
    "else:\n",
    "    print('Os segmentos acima NÃO PODEM FORMAR UM TRIÂNGULO')"
   ]
  },
  {
   "attachments": {},
   "cell_type": "markdown",
   "metadata": {},
   "source": [
    "EXERCICIO 043"
   ]
  },
  {
   "cell_type": "code",
   "execution_count": null,
   "metadata": {},
   "outputs": [],
   "source": [
    "peso = float(input('Qual é o seu peso?'))\n",
    "altura = int(input('Qual a sua altura em centímetros?'))\n",
    "imc = peso / ((altura / 100)**2)\n",
    "print(f'De acordo com as suas respostas, você tem {peso}Kg e mede {altura} centímetros.')\n",
    "print(f'O seu índice IMC é {imc}')\n",
    "if imc < 18.5:\n",
    "    print('Você está abaixo do peso!')\n",
    "elif imc < 25:\n",
    "    print('Você está com o peso ideal!')\n",
    "elif imc < 30:\n",
    "    print('Você está com sobrepeso!')\n",
    "elif imc < 40:\n",
    "    print('Você está com obesidade!')\n",
    "else:\n",
    "    print('Você está com obesidade mórbida! Procure um médico urgente!')"
   ]
  },
  {
   "cell_type": "code",
   "execution_count": null,
   "metadata": {},
   "outputs": [],
   "source": [
    "peso = float(input('Qual é o seu peso? (Kg)''))\n",
    "altura = float(input('Qual a sua altura? (m)'))\n",
    "imc = peso / (altura ** 2)\n",
    "print(f'O IMC dessa pessoa é de {imc:.1f}')\n",
    "if imc < 18.5:\n",
    "    print('Você está ABAIXO DO PESO normal!')\n",
    "elif imc < 25:\n",
    "    print('PARABÉNS, você está na faixa de PESO NORMAL!')\n",
    "elif imc < 30:\n",
    "    print('Você está em SOBREPESO!')\n",
    "elif imc < 40:\n",
    "    print('Você está em OBESIDADE!')\n",
    "else:\n",
    "    print('Você está em OBEIDADE MÓRBIDA, cuidado!')"
   ]
  },
  {
   "attachments": {},
   "cell_type": "markdown",
   "metadata": {},
   "source": [
    "EXERCICIO 044"
   ]
  },
  {
   "cell_type": "code",
   "execution_count": null,
   "metadata": {},
   "outputs": [],
   "source": [
    "prod = float(input('Qual é o valor do produto?'))\n",
    "print(f'O valor do produto é de R${prod:.2f}')\n",
    "print(f'À vista no dinheiro ou cheque tem 10% de desconto. O produto passa a custar R${prod * 0.9:.2f}')\n",
    "print(f'À vista no cartão de crédito tem 5% de desconto. O produto passa a custar R${prod * 0.95:.2f}')\n",
    "print(f'Você pode fazer em 2x no cartão de crédito pagando o mesmo valor de R${prod:.2f}')\n",
    "print(f'Se desejar fazer em 3x ou mais no cartão de crédito, o produto terá um acrescimo de 20% de juros, \\npassando a custar R${prod * 1.2:.2f}')"
   ]
  },
  {
   "cell_type": "code",
   "execution_count": null,
   "metadata": {},
   "outputs": [],
   "source": [
    "print('='* 20, 'LOJAS GUANABARA', '=' * 20)\n",
    "preco = float(input('Preço das compras: R$'))\n",
    "print('''FORMAS DE PAGAMENTO\n",
    "[ 1 ] à vista dinheiro/cheque\n",
    "[ 2 ] à vista cartão\n",
    "[ 3 ] 2x no cartão\n",
    "[ 4 ] 3x ou mais no cartão''')\n",
    "opcao = int(input('Qual é a opção?'))\n",
    "if opcao == 1:\n",
    "    total = preco * 0.9\n",
    "elif opcao == 2:\n",
    "    total = preco * 0.95\n",
    "elif opcao == 3:\n",
    "    total = preco\n",
    "    parcela = total / 2\n",
    "    print(f'Sua compra será parcelada em 2x de R${parcela:.2f}')\n",
    "elif opcao == 4:\n",
    "    total = preco * 1.2\n",
    "    totparc = int(input('Quantas parcelas?'))\n",
    "    parcela = total / totparc\n",
    "    print(f'Sua compra será parcelada em {totparc}x de R${parcela:.2f} COM JUROS')\n",
    "else:\n",
    "    total = preco\n",
    "    print('OPÇÃO INVÁLIDA de pagamento. Tente novamente!')\n",
    "print(f'Sua compra de R${preco:.2f} vai custar R${total:.2f} no final.')"
   ]
  },
  {
   "attachments": {},
   "cell_type": "markdown",
   "metadata": {},
   "source": [
    "EXERCICIO 045"
   ]
  },
  {
   "cell_type": "code",
   "execution_count": null,
   "metadata": {},
   "outputs": [],
   "source": [
    "from random import randint\n",
    "from time import sleep\n",
    "itens = ('Pedra', 'Papel', 'Tesoura')\n",
    "computador = randint (0, 2)\n",
    "print('''Suas opções:\n",
    "[ 0 ] PEDRA\n",
    "[ 1 ] PAPEL\n",
    "[ 2 ] TESOURA''')\n",
    "jogador =  int(input('Qual é a sua jogada?'))\n",
    "print('-='* 12)\n",
    "print(f'Computador jogou {itens[computador]}')\n",
    "print(f'Jogador jogou {itens[jogador]}')\n",
    "print('JO')\n",
    "sleep(0.5)\n",
    "print('KEN')\n",
    "sleep(0.5)\n",
    "print('PO!!!')\n",
    "sleep(0.5)\n",
    "print('-='*12)\n",
    "\n",
    "if computador == 0: # computador jogou PEDRA\n",
    "    if jogador == 0: #jogador jogou PEDRA\n",
    "        print('EMPATE')\n",
    "    elif jogador == 1: # jogador jogou PAPEL\n",
    "        print('JOGADOR VENCEU')\n",
    "    elif jogador == 2: # jogador jogou TESOURA\n",
    "        print('COMPUTADOR VENCEU')\n",
    "    else:\n",
    "        print('JOGADA INVÁLIDA')\n",
    "elif computador == 1: # computador jogou PAPEL\n",
    "    if jogador == 0: #jogador jogou PEDRA\n",
    "        print('COMPUTADOR VENCEU')\n",
    "    elif jogador == 1: # jogador jogou PAPEL\n",
    "        print('EMPATE')\n",
    "    elif jogador == 2: # jogador jogou TESOURA\n",
    "        print('JOGADOR VENCEU')\n",
    "    else:\n",
    "        print('JOGADA INVÁLIDA')\n",
    "elif computador == 2: # computador jogou TESOURA\n",
    "    if jogador == 0: #jogador jogou PEDRA\n",
    "        print('JOGADOR VENCEU')\n",
    "    elif jogador == 1: # jogador jogou PAPEL\n",
    "        print('COMPUTADOR VENCEU')\n",
    "    elif jogador == 2: # jogador jogou TESOURA\n",
    "        print('EMPATE')\n",
    "    else:\n",
    "        print('JOGADA INVÁLIDA')"
   ]
  },
  {
   "attachments": {},
   "cell_type": "markdown",
   "metadata": {},
   "source": [
    "EXERCICIO 046"
   ]
  },
  {
   "cell_type": "code",
   "execution_count": null,
   "metadata": {},
   "outputs": [],
   "source": [
    "from time import sleep\n",
    "print('-=-' * 8)\n",
    "print('E VAI COMEÇAR A CONTÁGEM!')\n",
    "print('-=-' * 8)\n",
    "\n",
    "for c in range(10, -1, -1):\n",
    "    print(c)\n",
    "    sleep(1)\n",
    "print('FOGOS! BUM! BUM! POOOW')"
   ]
  },
  {
   "attachments": {},
   "cell_type": "markdown",
   "metadata": {},
   "source": [
    "EXERCICIO 047"
   ]
  },
  {
   "cell_type": "code",
   "execution_count": null,
   "metadata": {},
   "outputs": [],
   "source": [
    "for c in range(2, 51, 2):\n",
    "    print(c, end=' ')"
   ]
  },
  {
   "attachments": {},
   "cell_type": "markdown",
   "metadata": {},
   "source": [
    "EXERCICIO 048"
   ]
  },
  {
   "cell_type": "code",
   "execution_count": null,
   "metadata": {},
   "outputs": [],
   "source": [
    "s = 0\n",
    "cont = 0\n",
    "for c in range (1, 501, 2):\n",
    "    if c % 3 == 0:\n",
    "        cont += 1\n",
    "        s += c\n",
    "print(f'A soma de todos os {cont} valores solicitados é {s}')"
   ]
  },
  {
   "attachments": {},
   "cell_type": "markdown",
   "metadata": {},
   "source": [
    "EXERCICIO 049"
   ]
  },
  {
   "cell_type": "code",
   "execution_count": null,
   "metadata": {},
   "outputs": [],
   "source": [
    "# EXERCICIO 009\n",
    "\n",
    "n = int(input('Digite um número para trazer sua taboada'))\n",
    "print(f'A taboada de {n} é:')\n",
    "print('-' *12)\n",
    "print(f'{n} x {1:2} = {n*1}')\n",
    "print(f'{n} x {2:2} = {n*2}')\n",
    "print(f'{n} x {3:2} = {n*3}')\n",
    "print(f'{n} x {4:2} = {n*4}')\n",
    "print(f'{n} x {5:2} = {n*5}')\n",
    "print(f'{n} x {6:2} = {n*6}')\n",
    "print(f'{n} x {7:2} = {n*7}')\n",
    "print(f'{n} x {8:2} = {n*8}')\n",
    "print(f'{n} x {9:2} = {n*9}')\n",
    "print(f'{n} x {10:2} = {n*10}')\n",
    "print('-' *12)"
   ]
  },
  {
   "cell_type": "code",
   "execution_count": null,
   "metadata": {},
   "outputs": [],
   "source": [
    "n = int(input('Digite um número para trazer sua taboada:'))\n",
    "print(f'A taboada de {n} é:')\n",
    "print('-' *12)\n",
    "for c in range(1, 11):\n",
    "    print(f'{n} x {c:2} = {n*c}')\n",
    "print('-' *12)"
   ]
  },
  {
   "cell_type": "code",
   "execution_count": null,
   "metadata": {},
   "outputs": [],
   "source": [
    "n = int(input('Digite um número para ver sua taboada:'))\n",
    "for c in range(1, 11):\n",
    "    print(f'{n} x {c:2} = {n*c}')"
   ]
  },
  {
   "attachments": {},
   "cell_type": "markdown",
   "metadata": {},
   "source": [
    "EXERCICIO 050"
   ]
  },
  {
   "cell_type": "code",
   "execution_count": null,
   "metadata": {},
   "outputs": [],
   "source": [
    "s = 0\n",
    "count = 0\n",
    "for c in range(1, 7):\n",
    "    n = int(input(f'Digite o {c} valor:'))\n",
    "    if n % 2 == 0:\n",
    "        s += n\n",
    "        count += 1\n",
    "print(f'Você informou {count} números pares e a soma foi {s}')"
   ]
  },
  {
   "attachments": {},
   "cell_type": "markdown",
   "metadata": {},
   "source": [
    "EXERCICIO 051"
   ]
  },
  {
   "cell_type": "code",
   "execution_count": null,
   "metadata": {},
   "outputs": [],
   "source": [
    "primeiro = int(input('Primeiro termo:'))\n",
    "razao = int(input('Razão:'))\n",
    "decimo = primeiro + 10 * razao\n",
    "for c in range (primeiro, decimo, razao):\n",
    "    print(f'{c}', end=' ')\n",
    "print('Acabou')"
   ]
  },
  {
   "attachments": {},
   "cell_type": "markdown",
   "metadata": {},
   "source": [
    "EXERCICIO 052"
   ]
  },
  {
   "cell_type": "code",
   "execution_count": null,
   "metadata": {},
   "outputs": [],
   "source": [
    "num = int(input('Digite um número:'))\n",
    "tot = 0\n",
    "for c in range(1, num + 1):\n",
    "    if num % c == 0:\n",
    "        print('\\033[34m', end=' ')\n",
    "        tot += 1\n",
    "    else:\n",
    "        print('\\033[31m', end=' ')\n",
    "    print(f'{c}', end=' ')\n",
    "print(f'\\n\\033[0;37mO número {num} foi divisível {tot} vezes')\n",
    "if tot == 2:\n",
    "    print('E por isso ele é PRIMO')\n",
    "else:\n",
    "    print('E por isso ele NÃO É PRIMO')"
   ]
  },
  {
   "attachments": {},
   "cell_type": "markdown",
   "metadata": {},
   "source": [
    "EXERCICIO 053"
   ]
  },
  {
   "attachments": {},
   "cell_type": "markdown",
   "metadata": {},
   "source": [
    "APOS A SOPA\n",
    "A SACADA DA CASA\n",
    "A TORRE DA DERROTA\n",
    "O LOBO AMA O BOLO\n",
    "ANOTARAM A DATA DA MARATONA"
   ]
  },
  {
   "cell_type": "code",
   "execution_count": null,
   "metadata": {},
   "outputs": [],
   "source": [
    "frase = str(input('Digite uma frase:')).strip().upper()\n",
    "# strip tira os espaços antes e depois\n",
    "# upper transforma tudo em maiúscula\n",
    "palavras = frase.split()\n",
    "# split separa todas as palavras\n",
    "# print(f'Você digitou a frase {palavras}') # pra testar\n",
    "junto = ''.join(palavras)\n",
    "# join junta todas as palavras\n",
    "# print(f'Você digitou a frase {junto}') # pra testar\n",
    "inverso = ''\n",
    "for letra in range(len(junto) -1, -1, -1): ### exemplo com o FOR\n",
    "    inverso += junto[letra]\n",
    "print(f'O inverso de {junto} é {inverso}')\n",
    "if inverso == junto:\n",
    "    print('Temos um PALÍNDROMO')\n",
    "else:\n",
    "    print('A frase digitada não é um palíndromo')"
   ]
  },
  {
   "cell_type": "code",
   "execution_count": null,
   "metadata": {},
   "outputs": [],
   "source": [
    "frase = str(input('Digite uma frase:')).strip().upper()\n",
    "palavras = frase.split()\n",
    "junto = ''.join(palavras)\n",
    "inverso = junto[::-1] ### exemplo com fatiamento\n",
    "print(f'O inverso de {junto} é {inverso}')\n",
    "if inverso == junto:\n",
    "    print('Temos um PALÍNDROMO')\n",
    "else:\n",
    "    print('A frase digitada não é um palíndromo')"
   ]
  },
  {
   "attachments": {},
   "cell_type": "markdown",
   "metadata": {},
   "source": [
    "EXERCICIO 054"
   ]
  },
  {
   "cell_type": "code",
   "execution_count": null,
   "metadata": {},
   "outputs": [],
   "source": [
    "maior = 0\n",
    "demenor = 0\n",
    "from datetime import date\n",
    "atual = date.today().year\n",
    "for c in range (0, 7):\n",
    "    ano = int(input('Digite um ano de nascimento:'))\n",
    "    idade = atual - ano\n",
    "    if idade < 21:\n",
    "        demenor = demenor + 1\n",
    "    if idade >= 21:\n",
    "        maior = maior + 1\n",
    "print(f'{demenor} pessoas ainda não atingiram a maioridade')\n",
    "print(f'{maior} pessoas já atingiram a maioridade')"
   ]
  },
  {
   "cell_type": "code",
   "execution_count": null,
   "metadata": {},
   "outputs": [],
   "source": [
    "from datetime import date\n",
    "atual = date.today().year\n",
    "totmaior = 0\n",
    "totmenor = 1\n",
    "for pess in range(1, 8):\n",
    "    nasc = int(input('Em que ano a {pess} pessoa nasceu?'))\n",
    "    idade = atual - nasc\n",
    "    print(f'A {pess} pessoa nasceu ano {nasc} e tem {idade} anos')\n",
    "    if idade >= 21:\n",
    "        totmaior += 1\n",
    "    else:\n",
    "        totmenor += 1\n",
    "print('-' * 20)\n",
    "print(f'Ao todo tivemos {totmaior} pessoas maiores de idade')\n",
    "print(f'E também tivemos {totmenor} pessoas menores de idade')"
   ]
  },
  {
   "attachments": {},
   "cell_type": "markdown",
   "metadata": {},
   "source": [
    "EXERCICIO 055"
   ]
  },
  {
   "cell_type": "code",
   "execution_count": null,
   "metadata": {},
   "outputs": [],
   "source": [
    "for c in range (0, 5):\n",
    "    peso = float(input('Qual é o peso?'))\n",
    "    if peso > maior:\n",
    "        maior = peso\n",
    "    if peso < menor:\n",
    "        menor = peso\n",
    "print(f'O maior peso é {maior}Kg')\n",
    "print(f'O menor peso é {menor}Kg')"
   ]
  },
  {
   "cell_type": "code",
   "execution_count": null,
   "metadata": {},
   "outputs": [],
   "source": [
    "maior = 0\n",
    "menor = 0\n",
    "for p in range(1, 6):\n",
    "    peso = float(input(f'Peso da {p:.1f} pessoa:'))\n",
    "    print(f'A {p} pessoa pesa {peso}')\n",
    "    if p == 1:\n",
    "        maior = peso\n",
    "        menor = peso\n",
    "    else:\n",
    "        if peso > maior:\n",
    "            maior = peso\n",
    "        if peso < menor:\n",
    "            menor = peso\n",
    "print('-' * 10)\n",
    "print(f'O maior peso lido foi de {maior:.1f}Kg')\n",
    "print(f'O menor peso lido foi de {menor:.1f}Kg')"
   ]
  },
  {
   "attachments": {},
   "cell_type": "markdown",
   "metadata": {},
   "source": [
    "EXERCICIO 056"
   ]
  },
  {
   "cell_type": "code",
   "execution_count": null,
   "metadata": {},
   "outputs": [],
   "source": [
    "s = 0\n",
    "old = 0\n",
    "mulheres = 0\n",
    "for c in range (0, 4):\n",
    "    nome = str(input('Qual é o nome?'))\n",
    "    idade = int(input('Qual é a idade?'))\n",
    "#    print('''Qual é o sexo?\n",
    "#    [ 1 ] MASCULINO\n",
    "#    [ 2 ] FEMININO''')\n",
    "    sexo = int(input('Qual o sexo? Digite 1 para masculino e 2 para feminino:'))\n",
    "    \n",
    "    s += idade\n",
    "    if idade > old and sexo == 1:\n",
    "        old = idade\n",
    "        oldest = nome\n",
    "    if sexo == 2:\n",
    "        mulheres = mulheres + 1\n",
    "print(f'A média de idade é de {s/4} anos')\n",
    "print(f'O homem mais velho é o {oldest} com {old} anos')\n",
    "print(f'{mulheres} mulheres tem menos de 20 anos')"
   ]
  },
  {
   "cell_type": "code",
   "execution_count": null,
   "metadata": {},
   "outputs": [],
   "source": [
    "somaidade = 0\n",
    "mediaidade = 0\n",
    "maioridadehomem = 0\n",
    "nomevelho = ''\n",
    "totmulher20 = 0\n",
    "for p in range (1, 5):\n",
    "    print(f'----- {p} PESSOA -----')\n",
    "    nome = str(input('Nome:')).strip()\n",
    "    print(f'Nome: {nome}')\n",
    "    idade = int(input('Idade:'))\n",
    "    print(f'Idade: {idade}')\n",
    "    sexo = str(input('Sexo [M/F]:')).strip()\n",
    "    print(f'Sexo [M/F]: {sexo}')\n",
    "    somaidade += idade\n",
    "    if p == 1 and sexo in 'Mm': # usa-se o in para M e m caso seja digitado maiúsculo ou minúsculo\n",
    "        maioridadehomem = idade\n",
    "        nomevelho = nome\n",
    "    if sexo in 'Mm' and idade > maioridadehomem:\n",
    "        maioridadehomem = idade\n",
    "        nomevelho = nome\n",
    "    if sexo in 'Ff'and idade < 20:\n",
    "        totmulher20 += 1\n",
    "mediaidade = somaidade / 4\n",
    "print('-' * 20)\n",
    "print(f'A média de idade do grupo é {mediaidade} anos')\n",
    "print(f'O homem mais velho tem {maioridadehomem} e se chama {nomevelho}')\n",
    "print(f'Ao todo são {totmulher20} mulheres com menos de 20 anos')"
   ]
  },
  {
   "attachments": {},
   "cell_type": "markdown",
   "metadata": {},
   "source": [
    "AULA 14"
   ]
  },
  {
   "attachments": {},
   "cell_type": "markdown",
   "metadata": {},
   "source": [
    "EXERCICIO 057 - Faça um programa que leia o sexo de uma pessoa, mas só aceite os valores de 'M' ou 'F'. Caso esteja errado, peça a digitação novamente até ter um valor correto."
   ]
  },
  {
   "cell_type": "code",
   "execution_count": null,
   "metadata": {},
   "outputs": [],
   "source": [
    "s = 'n'\n",
    "while s != 'M' and s != 'F':\n",
    "    s = str(input('Qual o sexo da pessoa?')).strip().upper()[0]\n",
    "    if s != 'M' and s != 'F': \n",
    "        print('Dados errados. Digite novamente!')\n",
    "print(s)"
   ]
  },
  {
   "cell_type": "code",
   "execution_count": null,
   "metadata": {},
   "outputs": [],
   "source": [
    "sexo = str(input('Informe seu sexo: [M/F]')).strip().upper()[0]\n",
    "while sexo not in 'MF':\n",
    "    sexo = str(input('Dados inválidos. Por favor, informe seu sexo:')).strip().upper()[0]\n",
    "print(f'Sexo {sexo} registrado com sucesso')"
   ]
  },
  {
   "attachments": {},
   "cell_type": "markdown",
   "metadata": {},
   "source": [
    "EXERCICIO 058 - Melhore o jogo do DESAFIO 028 onde o computador vai \"pensar\" em um número entre 0 e 10. Só que agora o jogador vai tentar adivinhar até acertar, mostrando no final quantos palpites foram necessários para vencer."
   ]
  },
  {
   "cell_type": "code",
   "execution_count": null,
   "metadata": {},
   "outputs": [],
   "source": [
    "# EXERCÍCIO 028\n",
    "from random import randint\n",
    "from time import sleep\n",
    "computador = randint(0, 5) # Faz o computador escolher um número\n",
    "print('-=-' * 20)\n",
    "print('Vou pensar em um número entre 0 e 5. Tente adivinhar...')\n",
    "print('-=-' * 20)\n",
    "jogador = int(input('Em que número pensei?')) # Jogador tenta adivinhar\n",
    "print('PROCESSANDO...')\n",
    "sleep(2)\n",
    "if jogador == computador:\n",
    "    print('PARABÉNS! Você conseguiu me vencer!')\n",
    "else:\n",
    "    print(f'GANHEI! Eu pensei no número {computador} e não no {jogador}!')"
   ]
  },
  {
   "cell_type": "code",
   "execution_count": null,
   "metadata": {},
   "outputs": [],
   "source": [
    "from random import randint\n",
    "from time import sleep\n",
    "computador = randint(1, 10)\n",
    "print('-=-' * 18)\n",
    "print('Vou pensar em um número entre 1 e 10. Tente adivinhar...')\n",
    "print('-=-' * 18)\n",
    "jogador = 0\n",
    "cont = 0\n",
    "while jogador != computador:\n",
    "    jogador = int(input('Em que número pensei?'))\n",
    "    print('PROCESSANDO...')\n",
    "    sleep(0.5)\n",
    "    if jogador != computador:\n",
    "        print(f'Você errou! Não é número {jogador}. Tente novamente')\n",
    "    cont += 1\n",
    "\n",
    "if jogador == computador:\n",
    "    print('-=-' * 18)\n",
    "    print(f'PARABÉNS! \\nVocê conseguiu me vencer em {cont} tentativas! \\nO número que eu escolhi foi {computador}')"
   ]
  },
  {
   "cell_type": "code",
   "execution_count": null,
   "metadata": {},
   "outputs": [],
   "source": [
    "from random import randint\n",
    "computador = randint(0, 10)\n",
    "print('Sou seu computador... Acabei de pensar em um número entre 0 e 10.')\n",
    "print('Será que você consegue adivinhar qual foi?')\n",
    "acertou = False\n",
    "palpites = 0\n",
    "while not acertou:\n",
    "    jogador = int(input('Qual é seu palpite?'))\n",
    "    palpites += 1\n",
    "    if jogador == computador:\n",
    "        acertou = True\n",
    "    else:\n",
    "        if jogador < computador:\n",
    "            print('Mais... Tente mais uma vez.')\n",
    "        if jogador > computador:\n",
    "            print('Menos... Tente mais uma vez.')\n",
    "print(f'ACERTOU com {palpites} tentativas. Parabéns!')"
   ]
  },
  {
   "attachments": {},
   "cell_type": "markdown",
   "metadata": {},
   "source": [
    "EXERCICIO 059 - Crie um programa que leia dois valores e mostre um menu na tela:\n",
    "[ 1 ] somar\n",
    "[ 2 ] multiplicar\n",
    "[ 3 ] maior\n",
    "[ 4 ] novos números\n",
    "[ 5 ] sair do programa\n",
    "Seu programa deverá realizar a operação solicitada em cada caso."
   ]
  },
  {
   "cell_type": "code",
   "execution_count": null,
   "metadata": {},
   "outputs": [],
   "source": [
    "n1 = int(input('Digite um valor:'))\n",
    "n2 = int(input('Digite outro valor:'))\n",
    "e = 0\n",
    "print(f'Os números escolhidos foram {n1} e {n2}')\n",
    "print('''Escolha a opção desejada:\n",
    "[ 1 ] somar\n",
    "[ 2 ] multiplicar\n",
    "[ 3 ] maior\n",
    "[ 4 ] novos números\n",
    "[ 5 ] sair do programa''')\n",
    "\n",
    "while e != 5:\n",
    "    e = int(input('Digite a opção desejada:'))\n",
    "    if e not in [1, 2, 3, 4, 5]:\n",
    "        print('Opção inválida. Tente novamente')\n",
    "    if e == 1:\n",
    "        print(f'A soma de {n1} e {n2} é {n1 + n2}')\n",
    "    if e == 2:\n",
    "        print(f'A multiplicação de {n1} e {n2} é {n1 * n2}')\n",
    "    if e == 3:\n",
    "        if n1 > n2:\n",
    "            print(f'O maior dos números é {n1}')\n",
    "        if n1 < n2:\n",
    "            print(f'O maior dos números é {n2}')\n",
    "        else:\n",
    "            print('Os números tem o mesmo valor')\n",
    "    if e == 4:\n",
    "        print('Escolha os números novamente:')\n",
    "        n1 = int(input('Digite um valor:'))\n",
    "        n2 = int(input('Digite outro valor:'))\n",
    "        print(f'Os novos números escolhidos foram {n1} e {n2}')\n",
    "        print('''Escolha a opção desejada:\n",
    "[ 1 ] somar\n",
    "[ 2 ] multiplicar\n",
    "[ 3 ] maior\n",
    "[ 4 ] novos números\n",
    "[ 5 ] sair do programa''')\n",
    "\n",
    "print('Fim')"
   ]
  },
  {
   "cell_type": "code",
   "execution_count": null,
   "metadata": {},
   "outputs": [],
   "source": [
    "# SOLUÇÃO DO CURSO EM VÍDEO\n",
    "\n",
    "from time import sleep\n",
    "n1 = int(input('Digite um valor:'))\n",
    "n2 = int(input('Digite outro valor:'))\n",
    "opcao = 0\n",
    "while opcao != 5:\n",
    "    print(f'''Qual é a opção?\n",
    "[ 1 ] somar\n",
    "[ 2 ] multiplicar\n",
    "[ 3 ] maior\n",
    "[ 4 ] novos números\n",
    "[ 5 ] sair do programa''')\n",
    "    opcao = int(input('>>>>> Qual é a sua opção?'))\n",
    "    if opcao == 1:\n",
    "        soma = n1 + n2\n",
    "        print(f'A soma entre {n1} + {n2} é {soma}')\n",
    "    if opcao == 2:\n",
    "        produto = n1 * n2\n",
    "        print(f'O resultado de {n1} x {n2} é {produto}')\n",
    "    if opcao == 3:\n",
    "        if n1 > n2:\n",
    "            maior = n1\n",
    "        else:\n",
    "            maior = n2\n",
    "        print(f'Entre {n1} e {n2} o maior valor é {maior}')\n",
    "    if opcao == 4:\n",
    "        print('Informe os números novamente:')\n",
    "        n1 = int(input('Primeiro valor:'))\n",
    "        n2 = int(input('Segundo valor:'))\n",
    "    if opcao == 5:\n",
    "        print('Finalizando...')\n",
    "    if opcao not in [1, 2, 3, 4, 5]:\n",
    "        print('Opção inválida. Tente novamente')\n",
    "    print('=-=' * 10)\n",
    "    sleep(2)\n",
    "print('Fim do programa! Volte sempre!')"
   ]
  },
  {
   "attachments": {},
   "cell_type": "markdown",
   "metadata": {},
   "source": [
    "EXERCICIO 060 - Faça um programa que leia um número qualquer e mostre o seu fatorial.\n",
    "Ex: 5! = 5x4x3x2x1 = 120"
   ]
  },
  {
   "cell_type": "code",
   "execution_count": null,
   "metadata": {},
   "outputs": [],
   "source": [
    "# resolução com for\n",
    "r = 1\n",
    "f = int(input('Digite um número para calcular seu fatorial:'))\n",
    "for c in range(f, 0, -1):\n",
    "    r *= c\n",
    "print(f'O fatorial de {f}! é {r}')"
   ]
  },
  {
   "cell_type": "code",
   "execution_count": null,
   "metadata": {},
   "outputs": [],
   "source": [
    "# resolução com while\n",
    "r = 1\n",
    "f = int(input('Digite um número para calcular seu fatorial:'))\n",
    "c = f\n",
    "while c != 1:\n",
    "    r *= c\n",
    "    c -= 1\n",
    "print(f'O fatorial de {f}! é {r}')"
   ]
  },
  {
   "cell_type": "code",
   "execution_count": null,
   "metadata": {},
   "outputs": [],
   "source": [
    "# SOLUÇÃO CURSO EM VÍDEO 1\n",
    "\n",
    "from math import factorial\n",
    "n = int(input('Digite um número para calcular seu Fatorial:'))\n",
    "f = factorial(n)\n",
    "print(f'O factorial de {n} é {f}')"
   ]
  },
  {
   "cell_type": "code",
   "execution_count": null,
   "metadata": {},
   "outputs": [],
   "source": [
    "# SOLUÇÃO CURSO EM VÍDEO 2\n",
    "\n",
    "n = int(input('Digite um número para calcular seu Fatorial:'))\n",
    "c = n\n",
    "f = 1\n",
    "print(f'Calculandi {n}! = ', end='')\n",
    "while c > 0:\n",
    "    print(f'{c}', end='')\n",
    "    print(' x ' if c > 1 else ' = ', end='')\n",
    "    f *= c\n",
    "    c -= 1\n",
    "print(f'{f}')"
   ]
  },
  {
   "attachments": {},
   "cell_type": "markdown",
   "metadata": {},
   "source": [
    "EXERCICIO 061 - Refaça o DESAFIO 051, lendo o primeiro termo e a razão de uma PA, mostrando os 10 primeiros termos da progressão usando a estrutura while."
   ]
  },
  {
   "cell_type": "code",
   "execution_count": null,
   "metadata": {},
   "outputs": [],
   "source": [
    "# EXERCÍCIO 051\n",
    "primeiro = int(input('Primeiro termo:'))\n",
    "razao = int(input('Razão:'))\n",
    "decimo = primeiro + 10 * razao\n",
    "for c in range (primeiro, decimo, razao):\n",
    "    print(f'{c}', end=' ')\n",
    "print('Acabou')"
   ]
  },
  {
   "cell_type": "code",
   "execution_count": null,
   "metadata": {},
   "outputs": [],
   "source": [
    "# Minha resolução\n",
    "primeiro = int(input('Primeiro termo:'))\n",
    "razao = int(input('Razão:'))\n",
    "t = 0\n",
    "while t != 10:\n",
    "    print(primeiro, end=' ')\n",
    "    primeiro += razao\n",
    "    t += 1\n",
    "print('Acabou')"
   ]
  },
  {
   "cell_type": "code",
   "execution_count": null,
   "metadata": {},
   "outputs": [],
   "source": [
    "#Resolução Curso em vídeo\n",
    "print('Gerador de PA')\n",
    "print('-=' * 10)\n",
    "primeiro = int(input('Primeiro termo:'))\n",
    "razao = int(input('Razão PA:'))\n",
    "termo = primeiro\n",
    "cont = 1\n",
    "while cont <= 10:\n",
    "    print(f'{termo}', end=' ')\n",
    "    termo += razao\n",
    "    cont += 1\n",
    "print('FIM')"
   ]
  },
  {
   "attachments": {},
   "cell_type": "markdown",
   "metadata": {},
   "source": [
    "EXERCICIO 062 - Melhore o DESAFIO 061, perguntando para o usuário se ele quer mostrar mais alguns termos. O programa encerra quando ele disser que quer mostrar 0 termos."
   ]
  },
  {
   "cell_type": "code",
   "execution_count": null,
   "metadata": {},
   "outputs": [],
   "source": [
    "primeiro = int(input('Primeiro termo:'))\n",
    "razao = int(input('Razão:'))\n",
    "t = 10\n",
    "while t != 0:\n",
    "    print(primeiro, end=' ')\n",
    "    primeiro += razao\n",
    "    t -= 1\n",
    "    if t == 0:\n",
    "        t = int(input('Quer mostrar mais alguns termos?'))\n",
    "print('Acabou')"
   ]
  },
  {
   "cell_type": "code",
   "execution_count": null,
   "metadata": {},
   "outputs": [],
   "source": [
    "#Resolução Curso em vídeo\n",
    "print('Gerador de PA')\n",
    "print('-=' * 10)\n",
    "primeiro = int(input('Primeiro termo:'))\n",
    "razao = int(input('Razão PA:'))\n",
    "termo = primeiro\n",
    "cont = 1\n",
    "total = 0\n",
    "mais = 10\n",
    "while mais != 0:\n",
    "    total = total + mais\n",
    "    while cont <= total:\n",
    "        print(f'{termo}', end=' ')\n",
    "        termo += razao\n",
    "        cont += 1\n",
    "    print('PAUSA')\n",
    "    mais = int(input('Quantos termos você quer mostrar a mais?'))\n",
    "print(f'Progressão finalizada com {total} termos mostrados.')"
   ]
  },
  {
   "attachments": {},
   "cell_type": "markdown",
   "metadata": {},
   "source": [
    "EXERCICIO 063 - Escreva um programa que leia um número n inteiro qualquer e mostre na tela os n primeiros elementais de uma sequência de fibonacci.\n",
    "Ex: 0 - 1 - 1 - 2 - 3 - 5 - 8"
   ]
  },
  {
   "cell_type": "code",
   "execution_count": null,
   "metadata": {},
   "outputs": [],
   "source": [
    "print('-'* 22)\n",
    "print('Sequência de Fibonacci')\n",
    "print('-'* 22)\n",
    "n = int(input('Quantos termos você quer mostrar?'))\n",
    "t1 = 0\n",
    "t2 = 1\n",
    "print('˜' * 30)\n",
    "print(f'{t1} - {t2}', end='')\n",
    "cont = 3\n",
    "while cont <= n:\n",
    "    t3 = t1 + t2\n",
    "    print(f' - {t3}', end='')\n",
    "    t1 = t2\n",
    "    t2 = t3\n",
    "    cont += 1\n",
    "print(' - FIM')\n"
   ]
  },
  {
   "attachments": {},
   "cell_type": "markdown",
   "metadata": {},
   "source": [
    "EXERCICIO 064 - Crie um programa que leia vários números inteiros pelo teclado. O programa só vai parar quando o usuário digitar o valor 999, que é a condição de parada. No final, mostre quantos números foram digitados e qual foi a soma entre eles (desconsiderando o flag)."
   ]
  },
  {
   "cell_type": "code",
   "execution_count": null,
   "metadata": {},
   "outputs": [],
   "source": [
    "n = 0\n",
    "s = 0\n",
    "c = 0\n",
    "while n != 999:\n",
    "    n = int(input('Digite um número:'))\n",
    "    if n != 999:\n",
    "        s += n\n",
    "        c += 1\n",
    "print(f'{c} números foram digitados')\n",
    "print(f'A soma de todos os números digitados foi {s}')"
   ]
  },
  {
   "cell_type": "code",
   "execution_count": null,
   "metadata": {},
   "outputs": [],
   "source": [
    "# Solução do curso em vídeo\n",
    "num = cont = soma = 0 # tudo passou a valer zero\n",
    "num = int(input('Digite um número [999 para parar]'))\n",
    "while num != 999:\n",
    "    soma += num\n",
    "    cont += 1\n",
    "    num = int(input('Digite um número [999 para parar]'))\n",
    "print(f'Você digitou {cont} números e a soma entre eles foi {soma}')"
   ]
  },
  {
   "attachments": {},
   "cell_type": "markdown",
   "metadata": {},
   "source": [
    "EXERCICIO 065 - Crie um programa que leia vários números inteiros pelo teclado. No final da execução, mostre a média entre todos os valores e qual foi o maior e o menor valor lido. O programa deve perguntar ao usuário se ele quer ou não continuar a digitar valores."
   ]
  },
  {
   "cell_type": "code",
   "execution_count": null,
   "metadata": {},
   "outputs": [],
   "source": [
    "n = 0\n",
    "continuar = 'S'\n",
    "c = 0\n",
    "t = 0\n",
    "while continuar != 'N':\n",
    "    n = int(input('Digie um número inteiro:'))\n",
    "    continuar = (str(input('Você deseja continuar? [S/N]'))).upper()\n",
    "    c += 1\n",
    "    t += n\n",
    "    if c == 1:\n",
    "        maior = n\n",
    "        menor = n\n",
    "    if maior < n:\n",
    "        maior = n\n",
    "    if menor > n:\n",
    "        menor = n\n",
    "m = t / c\n",
    "print(f'A média de todos os valores é {m}')\n",
    "print(f'O maior valor digitado é {maior}')\n",
    "print(f'O menor valor digitado é {menor}')"
   ]
  },
  {
   "cell_type": "code",
   "execution_count": null,
   "metadata": {},
   "outputs": [],
   "source": [
    "# resolução curso em vídeo\n",
    "resp = 'S'\n",
    "soma = quant = media = maior = menor = 0\n",
    "while resp in 'Ss':\n",
    "    num = int(input('Digite um número:'))\n",
    "    soma += num\n",
    "    quant += 1\n",
    "    if quant == 1:\n",
    "        maior = menor = num\n",
    "    else:\n",
    "        if num > maior:\n",
    "            maior = num\n",
    "        if num < menor:\n",
    "            menor = num\n",
    "    resp = str(input('Quer continuar? [S/N]')).upper().strip()[0]\n",
    "media = soma / quant\n",
    "print(f'Você digitou {quant} números e a média foi {media}')\n",
    "print(f'O maior valor foi {maior} e o menor valor foi {menor}')"
   ]
  },
  {
   "attachments": {},
   "cell_type": "markdown",
   "metadata": {},
   "source": [
    "AULA 15"
   ]
  },
  {
   "attachments": {},
   "cell_type": "markdown",
   "metadata": {},
   "source": [
    "EXERCICIO 066 - Crie um programa que leia vários números inteiros pelo teclado. O programa só vai parar quando o usuário digitar o valor 999, que é a condição de parada. No final, mostre quantos números foram digitados e qual foi a soma entre eles (desconsiderando o flag)."
   ]
  },
  {
   "cell_type": "code",
   "execution_count": null,
   "metadata": {},
   "outputs": [],
   "source": [
    "'''\n",
    "v = s = cont = 0\n",
    "while v != 999:\n",
    "    v = int(input('Digite um valor(999 para parar):'))\n",
    "    if v == 999:\n",
    "        break\n",
    "    s += v\n",
    "    cont += 1\n",
    "print(f'A soma dos {cont} valores foi {s}!')\n",
    "'''\n",
    "\n",
    "soma = cont = 0\n",
    "while True:\n",
    "    num = int(input('Digite um valor (999 para parar):'))\n",
    "    if num == 999:\n",
    "        break\n",
    "    cont += 1\n",
    "    soma += num\n",
    "print(f'A soma dos {cont} valores foi {soma}!')"
   ]
  },
  {
   "attachments": {},
   "cell_type": "markdown",
   "metadata": {},
   "source": [
    "EXERCICIO 067 - Faça um programa que mostre a tabuada de vários números, um de cada vez, para cada valor digitado pelo usuário. O programa será interrompido quando o número solicitado for negativo."
   ]
  },
  {
   "cell_type": "code",
   "execution_count": null,
   "metadata": {},
   "outputs": [],
   "source": [
    "while True:\n",
    "    v = int(input('Quer ver a tabuada de qual valor?'))\n",
    "    if v < 0:\n",
    "        break\n",
    "    print('-'*20)\n",
    "    for c in range (1, 11):\n",
    "        print(f'{v} x {c} = {v*c}')\n",
    "    print('-'*20)\n",
    "print('PROGRAMA TABUADA ENCERRADO. Volte sempre!')"
   ]
  },
  {
   "attachments": {},
   "cell_type": "markdown",
   "metadata": {},
   "source": [
    "EXERCICIO 068 - Faça um programa que jogue par um ímpar com o computador. O jogo só será interrompido quando o jogador PERDER, mostrando o total de vitórias consecutivas que ele conquistou no final do jogo."
   ]
  },
  {
   "cell_type": "code",
   "execution_count": null,
   "metadata": {},
   "outputs": [],
   "source": [
    "# Minha resolução\n",
    "\n",
    "from random import randint\n",
    "cont = 0\n",
    "print('=-'*15)\n",
    "print('VAMOS JOGAR PAR OU ÍMPAR')\n",
    "print('=-'*15)\n",
    "jogador = True\n",
    "while jogador != False:\n",
    "    v = int(input('Diga um valor:'))\n",
    "    pi = str(input('Par ou Ímpar? [P/I]')).upper()\n",
    "    computador = randint(1,10)\n",
    "    t = v + computador\n",
    "    if t % 2 == 0:\n",
    "        p = 'P'\n",
    "        pr = 'PAR'\n",
    "    else:\n",
    "        p = 'I'\n",
    "        pr = 'ÍMPAR'\n",
    "    print('-'*15)\n",
    "    print(f'Você jogou {v} e o computador {computador}. Total de {t}. DEU {pr}')\n",
    "    print('-'*15)\n",
    "    if pi == p:\n",
    "        print('Você VENCEU!')\n",
    "        print('Vamos jogar novamente...')\n",
    "        cont += 1\n",
    "    else:\n",
    "        print('Você PERDEU!')\n",
    "        jogador = False\n",
    "    print('=-'*15)\n",
    "print(f'GAME OVER! Você venceu {cont} vezes.')"
   ]
  },
  {
   "cell_type": "code",
   "execution_count": null,
   "metadata": {},
   "outputs": [],
   "source": [
    "# Resolução do Curso em Vídeo\n",
    "\n",
    "from random import randint\n",
    "v = 0\n",
    "while True:\n",
    "    jogador = int(input('Diga um valor:'))\n",
    "    computador = randint(0, 10)\n",
    "    total = jogador + computador\n",
    "    tipo = ' '\n",
    "    while tipo not in 'PI':\n",
    "        tipo = str(input('Par ou Ímpar? [P/I]')).strip().upper()[0]\n",
    "    print(f'Você jogou {jogador} e o computador {computador}. Total de {total}', end=' ')\n",
    "    print('DEU PAR' if total % 2 == 0 else 'DEU ÍMPAR')\n",
    "    if tipo == 'P':\n",
    "        if total % 2 == 0:\n",
    "            print('Você VENCEU!')\n",
    "            v += 1\n",
    "        else:\n",
    "            print('Você PERDEU!')\n",
    "            break\n",
    "    elif tipo == 'I':\n",
    "        if total % 2 == 1:\n",
    "            print('Você VENCEU!')\n",
    "            v += 1\n",
    "        else:\n",
    "            print('Você PERDEU!')\n",
    "            break\n",
    "    print('Vamos jogar novamente...')\n",
    "print(f'GAME OVER! Você venceu {v} vezes.')"
   ]
  },
  {
   "attachments": {},
   "cell_type": "markdown",
   "metadata": {},
   "source": [
    "EXERCICIO 069 - Crie um programa que leia a idade e o sexo de várias pessoas. A cada pessoa cadastrada, o programa deverá perguntar se o usuário quer ou náo continuar. No final, mostre:\n",
    "A) quantas pessoas tem mais de 18 anos.\n",
    "B) Quantos homens foram cadastrados.\n",
    "C) Quantas mulheres tem menos de 20 anos."
   ]
  },
  {
   "cell_type": "code",
   "execution_count": null,
   "metadata": {},
   "outputs": [],
   "source": [
    "# Minha resolução\n",
    "\n",
    "continuar = 'S'\n",
    "p18 = 0\n",
    "h = 0\n",
    "m20 = 0\n",
    "while continuar == 'S':\n",
    "    print('-'*20)\n",
    "    print('CADASTRE UMA PESSOA')\n",
    "    print('-'*20)\n",
    "    idade = int(input('IDADE:'))\n",
    "    sexo = str(input('SEXO: [M/F]')).upper()\n",
    "    continuar = str(input('Quer continuar? [S/N]')).upper()\n",
    "    print(f'''ÍDADE: {idade}\n",
    "SEXO: {sexo}''')\n",
    "    if idade > 18:\n",
    "        p18 += 1\n",
    "    if sexo == 'M':\n",
    "        h += 1\n",
    "    if sexo == 'F' and idade < 20:\n",
    "        m20 += 1\n",
    "print('='*10, ' FIM DO PROGRAMA ', '='*10)\n",
    "print(f'Total de pessoas com mais de 18 anos: {p18}')\n",
    "print(f'Ao todo temos {h} homens cadastrados')\n",
    "print(f'E temos {m20} mulheres com menos de 20 anos')    \n"
   ]
  },
  {
   "cell_type": "code",
   "execution_count": null,
   "metadata": {},
   "outputs": [],
   "source": [
    "# Resolução Curso em Vídeo\n",
    "\n",
    "tot18 = totH = totM20 = 0\n",
    "while True:\n",
    "    idade = int(input('Idade:'))\n",
    "    sexo = ' '\n",
    "    while sexo not in 'MF':\n",
    "        sexo = str(input('Sexo: [M/F]')).strip().upper()[0]\n",
    "    if idade >= 18:\n",
    "        tot18 += 1\n",
    "    if sexo == 'M':\n",
    "        totH += 1\n",
    "    if sexo == 'F' and idade < 20:\n",
    "        totM20 += 1\n",
    "    resp = ' '\n",
    "    while resp not in 'SN':\n",
    "        resp = str(input('Quer continuar? [S/N]')).strip().upper()[0]\n",
    "    if resp == 'N':\n",
    "        break\n",
    "print(f'Total de pessoas com mais de 18 anos: {tot18}')\n",
    "print(f'Ao todo temos {totH} homens cadastrados')\n",
    "print(f'E temos {totM20} mulheres com menos de 20 anos')"
   ]
  },
  {
   "attachments": {},
   "cell_type": "markdown",
   "metadata": {},
   "source": [
    "EXERCICIO 070 - Crie um programa que leia o nome e o preço de vários produtos. O programa deverá perguntar se o usuário vai continuar. No final, mostre:\n",
    "A) Qual é o total gasto na compra.\n",
    "B) Quantos produtos custam mamis de R$1000.\n",
    "C) Qual é o nome do produto mais barato."
   ]
  },
  {
   "cell_type": "code",
   "execution_count": null,
   "metadata": {},
   "outputs": [],
   "source": [
    "print('-'*20)\n",
    "print('LOJA SUPER BARATÃO')\n",
    "print('-'*20)\n",
    "sn = 'S'\n",
    "p1000 = pbarato = cbarato = s = cont = 0\n",
    "\n",
    "while True:\n",
    "    produto = str(input('Nome do produto:'))\n",
    "    print(f'Nome do produto: {produto}')\n",
    "    preco = float(input('Preço: R$'))\n",
    "    print(f'Preço: R${preco:.2f}')\n",
    "    s += preco\n",
    "    cont += 1\n",
    "    if preco > 1000:\n",
    "        p1000 += 1\n",
    "    if cont == 1 or pbarato > preco:\n",
    "        pbarato = preco\n",
    "        cbarato = produto\n",
    "    sn = str(input('Quer continuar? [S/N]')).strip().upper()[0]\n",
    "    if sn == 'N':\n",
    "       break\n",
    "\n",
    "print(f'O total da compra foi R${s:.2f}')\n",
    "print(f'Temos {p1000} produtos custando mais de R$1000.00')\n",
    "print(f'O produto mais barato foi {cbarato} que custa R${pbarato:.2f}')\n"
   ]
  },
  {
   "attachments": {},
   "cell_type": "markdown",
   "metadata": {},
   "source": [
    "EXERCICIO 071 - Crie um programa que simule o funcionamento de um caixa eletrônico. No início, pergunte ao usuário qual será o valor a ser sacado (número inteiro) e o programa vai informar quantas cédulas de cada valor serão entregues.\n",
    "OBS: Considere que o caixa possui cédulas de R$50, R$20, R$10 e R$1."
   ]
  },
  {
   "cell_type": "code",
   "execution_count": null,
   "metadata": {},
   "outputs": [],
   "source": [
    "print('='*20)\n",
    "print('BANCO CEV')\n",
    "print('='*20)\n",
    "\n",
    "print('Qual valor você quer sacar?')\n",
    "valor = int(input('Qual valor você quer sacar?'))\n",
    "print(f'R${valor:.2f}')\n",
    "total = valor\n",
    "ced = 50\n",
    "totced = 0\n",
    "\n",
    "while True:\n",
    "    if total >= ced:\n",
    "        total -= ced\n",
    "        totced += 1\n",
    "    else:\n",
    "        if totced > 0:\n",
    "            print(f'Total de {totced} cédulas de R${ced}')\n",
    "        if ced == 50:\n",
    "            ced = 20\n",
    "        elif ced == 20:\n",
    "            ced = 10\n",
    "        elif ced == 10:\n",
    "            ced = 1\n",
    "        totced = 0\n",
    "        if total == 0:\n",
    "            break\n",
    "\n",
    "print('='* 20)\n",
    "print('Volte sempre ao BANCO TEV! Tenha um bom dia!')\n"
   ]
  }
 ],
 "metadata": {
  "kernelspec": {
   "display_name": "base",
   "language": "python",
   "name": "python3"
  },
  "language_info": {
   "codemirror_mode": {
    "name": "ipython",
    "version": 3
   },
   "file_extension": ".py",
   "mimetype": "text/x-python",
   "name": "python",
   "nbconvert_exporter": "python",
   "pygments_lexer": "ipython3",
   "version": "3.10.9"
  },
  "orig_nbformat": 4
 },
 "nbformat": 4,
 "nbformat_minor": 2
}
